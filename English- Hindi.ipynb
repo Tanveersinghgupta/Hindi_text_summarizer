{
 "cells": [
  {
   "cell_type": "code",
   "execution_count": 1,
   "id": "8b533583",
   "metadata": {},
   "outputs": [
    {
     "data": {
      "text/html": [
       "        <script type=\"text/javascript\">\n",
       "        window.PlotlyConfig = {MathJaxConfig: 'local'};\n",
       "        if (window.MathJax && window.MathJax.Hub && window.MathJax.Hub.Config) {window.MathJax.Hub.Config({SVG: {font: \"STIX-Web\"}});}\n",
       "        if (typeof require !== 'undefined') {\n",
       "        require.undef(\"plotly\");\n",
       "        requirejs.config({\n",
       "            paths: {\n",
       "                'plotly': ['https://cdn.plot.ly/plotly-2.12.1.min']\n",
       "            }\n",
       "        });\n",
       "        require(['plotly'], function(Plotly) {\n",
       "            window._Plotly = Plotly;\n",
       "        });\n",
       "        }\n",
       "        </script>\n",
       "        "
      ]
     },
     "metadata": {},
     "output_type": "display_data"
    }
   ],
   "source": [
    "import torch\n",
    "import pandas as pd\n",
    "from rouge import Rouge\n",
    "from transformers import AutoModelForSeq2SeqLM, AutoTokenizer\n",
    "\n",
    "import plotly.express as px\n",
    "import matplotlib.pyplot as plt\n",
    "\n",
    "from plotly.offline import init_notebook_mode\n",
    "init_notebook_mode(connected=True)"
   ]
  },
  {
   "cell_type": "code",
   "execution_count": 2,
   "id": "af0ff005",
   "metadata": {},
   "outputs": [],
   "source": [
    "df=pd.read_csv('translated_data_l5000.csv')\n",
    "data=df.head(30)"
   ]
  },
  {
   "cell_type": "code",
   "execution_count": 3,
   "id": "847ddaf0",
   "metadata": {},
   "outputs": [
    {
     "data": {
      "text/html": [
       "<div>\n",
       "<style scoped>\n",
       "    .dataframe tbody tr th:only-of-type {\n",
       "        vertical-align: middle;\n",
       "    }\n",
       "\n",
       "    .dataframe tbody tr th {\n",
       "        vertical-align: top;\n",
       "    }\n",
       "\n",
       "    .dataframe thead th {\n",
       "        text-align: right;\n",
       "    }\n",
       "</style>\n",
       "<table border=\"1\" class=\"dataframe\">\n",
       "  <thead>\n",
       "    <tr style=\"text-align: right;\">\n",
       "      <th></th>\n",
       "      <th>og_article</th>\n",
       "      <th>og_summary</th>\n",
       "      <th>og_headline</th>\n",
       "      <th>article</th>\n",
       "      <th>summary</th>\n",
       "      <th>headline</th>\n",
       "    </tr>\n",
       "  </thead>\n",
       "  <tbody>\n",
       "    <tr>\n",
       "      <th>0</th>\n",
       "      <td>ब्लैकबेरी हैंडसेट बनाने वाली कनाडा की कंपनी रि...</td>\n",
       "      <td>ब्लैकबेरी हैंडसेट बनाने वाली कनाडा की कंपनी रि...</td>\n",
       "      <td>रिम करेगा दो हजार कर्मचारियों की छंटनी</td>\n",
       "      <td>The Canadian company Research in Motion Rim, w...</td>\n",
       "      <td>The Canadian company Research in Motion Rim, w...</td>\n",
       "      <td>Rim will be trimmed of two thousand employees</td>\n",
       "    </tr>\n",
       "    <tr>\n",
       "      <th>1</th>\n",
       "      <td>अमेरिका में राष्ट्रपति पद के लिए डेमोक्रेटिक प...</td>\n",
       "      <td>श्रद्धांजलि सभा के दौरान अचानक खराब हुई हिलेरी...</td>\n",
       "      <td>अमेरिका राष्ट्रपति पद की उम्मीदवार हिलेरी क्लि...</td>\n",
       "      <td>Hillary Clinton, a Democratic Party candidate ...</td>\n",
       "      <td>Hillary Clinton's health that suddenly deterio...</td>\n",
       "      <td>US Presidential candidate Hillary Clinton conf...</td>\n",
       "    </tr>\n",
       "    <tr>\n",
       "      <th>2</th>\n",
       "      <td>इंडिगो एयरलाइन के प्रेसीडेंट और डायरेक्टर आदित...</td>\n",
       "      <td>इंडिगो के ग्राउंड स्टाफ ने यात्री से की हाथापा...</td>\n",
       "      <td>इंडिगो के स्टाफ ने दिल्ली एयरपोर्ट पर पैसेंजर ...</td>\n",
       "      <td>Aditya Ghosh, President and director of Indigo...</td>\n",
       "      <td>Indigo's ground staff has apologized for this ...</td>\n",
       "      <td>Indigo staff assaulted passenger at Delhi Airp...</td>\n",
       "    </tr>\n",
       "    <tr>\n",
       "      <th>3</th>\n",
       "      <td>संजय लीला भंसाली की फिल्म मलाल से बॉलीवुड में ...</td>\n",
       "      <td>मीजान जाफरी ने किया खुलासानव्या नंदा को बताया ...</td>\n",
       "      <td>नव्या नवेली के साथ दोस्ती पर जावेद जाफरी के बे...</td>\n",
       "      <td>Mejan Jafri, who made her Bollywood debut with...</td>\n",
       "      <td>Meijan Jafri opted out to Nanda, a good friend...</td>\n",
       "      <td>Javed Jaffrey's son revealed this on friendshi...</td>\n",
       "    </tr>\n",
       "    <tr>\n",
       "      <th>4</th>\n",
       "      <td>इस पूरे मामले की जांच उत्तर-प्रदेश सरकार द्वार...</td>\n",
       "      <td>समर्थकों के साथ पुलिस अधिकारी के आवास के बाहर...</td>\n",
       "      <td>उन्नाव रेप केस आधी रात को आरोपी विधायक कुलदीप ...</td>\n",
       "      <td>The SIT is being investigated by the Uttar Pra...</td>\n",
       "      <td>The supporters had reached outside the police ...</td>\n",
       "      <td>Unnao rape case did not surrender in front of ...</td>\n",
       "    </tr>\n",
       "    <tr>\n",
       "      <th>5</th>\n",
       "      <td>विवादित इस्लामिक प्रचारक ज़ाकिर नाइक के गैर सर...</td>\n",
       "      <td>ज़ाकिर नाइक के बैंक खातों की एनआईए जांच कर रही...</td>\n",
       "      <td>इस्लामिक धर्मगुरु ने रियल एस्टेट में किया करोड...</td>\n",
       "      <td>The Government of India is being tightened by ...</td>\n",
       "      <td>NIA is investigating Zakir Naik's bank account...</td>\n",
       "      <td>Islamic religious leader invests crores of rup...</td>\n",
       "    </tr>\n",
       "    <tr>\n",
       "      <th>6</th>\n",
       "      <td>राष्ट्रपति प्रतिभा पाटील रविवार सुबह सेशेल्स औ...</td>\n",
       "      <td>राष्ट्रपति प्रतिभा पाटील रविवार सुबह सेशेल्स औ...</td>\n",
       "      <td>राष्ट्रपति दिवसीय दौरे पर सेशेल्स व द अफ्रीका ...</td>\n",
       "      <td>President Pratibha Patil left for a nine-day v...</td>\n",
       "      <td>President Pratibha Patil left for a nine-day v...</td>\n",
       "      <td>Seychelles and The Africa leave for presidenti...</td>\n",
       "    </tr>\n",
       "    <tr>\n",
       "      <th>7</th>\n",
       "      <td>उन्होंने कहा कि अपने क्षेत्रों की समस्याओं को ...</td>\n",
       "      <td>कहा- जब संसद नहीं चल रही हो तो अपने क्षेत्र मे...</td>\n",
       "      <td>पीएम मोदी मिले बीजेपी के ओबीसी सांसदों से सरका...</td>\n",
       "      <td>He said that by meeting Union Ministers and of...</td>\n",
       "      <td>Said- When the Parliament is not going on, the...</td>\n",
       "      <td>PM Modi met BJP's OBC MPs for strengthening th...</td>\n",
       "    </tr>\n",
       "    <tr>\n",
       "      <th>8</th>\n",
       "      <td>सलमान खान ने इस तस्वीर को ट्वीट कर लिखा जितने...</td>\n",
       "      <td>सलमान खान दिखे बुजुर्ग के गेटअप मेंउनकी तस्वीर...</td>\n",
       "      <td>सलमान खान दिखे बुजुर्ग के गेटअप में लिखा- जित...</td>\n",
       "      <td>Salman Khan tweeted this picture and wrote tha...</td>\n",
       "      <td>Salman Khan looked like his picture in the get...</td>\n",
       "      <td>Salman Khan was seen in the old man's getup- t...</td>\n",
       "    </tr>\n",
       "    <tr>\n",
       "      <th>9</th>\n",
       "      <td>रोम में सोमालियाई समुद्री लुटेरों ने इटली के ए...</td>\n",
       "      <td>फरवरी में इटली के इस जहाज का अपहरण किया गया था...</td>\n",
       "      <td>सोमालियाई लुटेरों ने भारतीयों को किया रिहा</td>\n",
       "      <td>Somalian pirates in Rome were released by an o...</td>\n",
       "      <td>The Italian ship was kidnapped in February, in...</td>\n",
       "      <td>Somalian robbers released Indians</td>\n",
       "    </tr>\n",
       "    <tr>\n",
       "      <th>10</th>\n",
       "      <td>हुंदै मोटर इंडिया अपने वाहनों की कीमत फरवरी से...</td>\n",
       "      <td>हुंदै मोटर इंडिया अपने वाहनों की कीमत फरवरी से...</td>\n",
       "      <td>मारुति के बाद हुंदै की कारें होंगी हजार तक महंगी</td>\n",
       "      <td>Hyundai Motor India will increase the price of...</td>\n",
       "      <td>Hyundai Motor India will increase the price of...</td>\n",
       "      <td>Hundai's cars will be expensive for thousands ...</td>\n",
       "    </tr>\n",
       "    <tr>\n",
       "      <th>11</th>\n",
       "      <td>दुनियाभर के कई शहरों सहित दिल्ली में भी शनिवार...</td>\n",
       "      <td>इस अयोजन में राष्ट्रपति भवन सहित कई इमारतों मे...</td>\n",
       "      <td>दिल्ली में अर्थ ऑवर की तैयारियां</td>\n",
       "      <td>Earth Hour will be celebrated on Saturday even...</td>\n",
       "      <td>In this age, the lights will be extinguished f...</td>\n",
       "      <td>Preparations for Earth Hour in Delhi</td>\n",
       "    </tr>\n",
       "    <tr>\n",
       "      <th>12</th>\n",
       "      <td>गुजरात के मुख्यमंत्री नरेंद्र मोदी ने कहा कि उ...</td>\n",
       "      <td>गुजरात के मुख्यमंत्री नरेंद्र मोदी ने कहा कि उ...</td>\n",
       "      <td>उत्तराखंड के प्रभावित क्षेत्रों का दौरा करने प...</td>\n",
       "      <td>Gujarat Chief Minister Narendra Modi said that...</td>\n",
       "      <td>Gujarat Chief Minister Narendra Modi said that...</td>\n",
       "      <td>Narendra Modi arrived to visit the affected ar...</td>\n",
       "    </tr>\n",
       "    <tr>\n",
       "      <th>13</th>\n",
       "      <td>पुणे वॉरियर्स के कोच ज्यौफ मार्श ने कहा कि डेक...</td>\n",
       "      <td>पुणे वॉरियर्स के कोच ज्यौफ मार्श ने कहा कि डेक...</td>\n",
       "      <td>मैच से पहले नर्वस थे गांगुली ज्यौफ मार्श</td>\n",
       "      <td>Pune Warriors coach Jyauf Marsh said that Sour...</td>\n",
       "      <td>Pune Warriors coach Jyauf Marsh said that Sour...</td>\n",
       "      <td>Ganguly Jyauf Marsh was nervous before the match</td>\n",
       "    </tr>\n",
       "    <tr>\n",
       "      <th>14</th>\n",
       "      <td>संयुक्त राष्ट्र महासचिव बान की मून ने पाकिस्ता...</td>\n",
       "      <td>संयुक्त राष्ट्र महासचिव बान की मून ने पाक के प...</td>\n",
       "      <td>मून ने पाक में हुए आत्मघाती हमले की निंदा की</td>\n",
       "      <td>United Nations Secretary -General Ban Ki Moon ...</td>\n",
       "      <td>United Nations Secretary -General Ban Ki Moon ...</td>\n",
       "      <td>Moon condemns suicide attack in Pakistan</td>\n",
       "    </tr>\n",
       "    <tr>\n",
       "      <th>15</th>\n",
       "      <td>देश के हर गांव में बिना ऑप्टिक फाइबर के जाल के...</td>\n",
       "      <td>फिलहाल इस योजना को गांवों में आज़माया जा चुका ह...</td>\n",
       "      <td>आईआईटी बॉम्बे से निकला इंटरनेट अब जोड़ेगा देश क...</td>\n",
       "      <td>IIT Bombay students have fulfilled the dream o...</td>\n",
       "      <td>Currently, this scheme has been tried in the v...</td>\n",
       "      <td>Internet from IIT Bombay will now add every vi...</td>\n",
       "    </tr>\n",
       "    <tr>\n",
       "      <th>16</th>\n",
       "      <td>दूसरी ओर गंभीर वर्ष में टी वर्ल्डकप और में क्...</td>\n",
       "      <td>अजहर ने घंटी बजाकर की थी पहले टी मैच की शुरुआत...</td>\n",
       "      <td>अजहर को ईडन गार्डंस पर खास सम्मान देने से गौत...</td>\n",
       "      <td>On the other hand, in the serious year T World...</td>\n",
       "      <td>Azhar had done the bell by ringing the first T...</td>\n",
       "      <td>Gautam Gambhir upset by giving special honor t...</td>\n",
       "    </tr>\n",
       "    <tr>\n",
       "      <th>17</th>\n",
       "      <td>शिवसेना नेता संजय राउत ने कहा है कि बीजेपी के ...</td>\n",
       "      <td>संजय राउत का बीजेपी पर निशानाशिवसेना को सरकार ...</td>\n",
       "      <td>अगर पीडीपी से हाथ मिला सकती है तो शिवसेना एनसी...</td>\n",
       "      <td>Shiv Sena leader Sanjay Raut has said that due...</td>\n",
       "      <td>Sanjay Raut can support the BJP to form a gove...</td>\n",
       "      <td>If you can join hands with PDP, then why not S...</td>\n",
       "    </tr>\n",
       "    <tr>\n",
       "      <th>18</th>\n",
       "      <td>मुंबई में एक चार मंजिला इमारत गिरने से चार लोग...</td>\n",
       "      <td>मुंबई में एक चार मंजिला इमारत गिरने से चार लोग...</td>\n",
       "      <td>मुंबई में चार मंजिला इमारत गिरी चार मरे</td>\n",
       "      <td>Four people have died after falling a four -st...</td>\n",
       "      <td>Four people have died due to a four -storey bu...</td>\n",
       "      <td>Four dead four -storey building collapses in M...</td>\n",
       "    </tr>\n",
       "    <tr>\n",
       "      <th>19</th>\n",
       "      <td>इस खबर को एनडीटीवी टीम ने संपादित नहीं किया ह...</td>\n",
       "      <td>ईनामी बदमाश को पुलिस ने मार गिरायाइस मुठभेड़ म...</td>\n",
       "      <td>यूपी पुलिस मुठभेड़ में इनामी बदमाश ढेर दारोगा ...</td>\n",
       "      <td>This news has not been edited by the NDTV team...</td>\n",
       "      <td>The prize crook was also seriously injured by ...</td>\n",
       "      <td>In the UP police encounter, the prize crook wa...</td>\n",
       "    </tr>\n",
       "    <tr>\n",
       "      <th>20</th>\n",
       "      <td>जयपुर के करणीविहार थाना क्षेत्र में एक युवक ने...</td>\n",
       "      <td>पड़ोसी ने घर में घुसकर किया कथित बलात्कारविरोध...</td>\n",
       "      <td>जयपुर पड़ोसी ने घर में घुसकर साल की बच्ची से क...</td>\n",
       "      <td>In Karnivihar police station area of Jaipur, a...</td>\n",
       "      <td>The neighbor entered the house and committed t...</td>\n",
       "      <td>Jaipur neighbor entered the house and allegedl...</td>\n",
       "    </tr>\n",
       "    <tr>\n",
       "      <th>21</th>\n",
       "      <td>राज बब्बर कांग्रेस के सीनियर नेताओं में से एक ...</td>\n",
       "      <td>में जनता दल में शामिल होकर किया सियासी आगाज म...</td>\n",
       "      <td>राज बब्बर सपा से बगावत करके डिंपल यादव को हराय...</td>\n",
       "      <td>Raj Babbar is one of the senior leaders of the...</td>\n",
       "      <td>Samajwadi Party defeated Mulayam Singh's daugh...</td>\n",
       "      <td>Raj Babbar rebelled from SP and defeated Dimpl...</td>\n",
       "    </tr>\n",
       "    <tr>\n",
       "      <th>22</th>\n",
       "      <td>कांग्रेस की एक उच्चस्तरीय समिति का कहना है कि ...</td>\n",
       "      <td>रक्षामंत्री एके एंटनी के नेतृत्व में बनाई गई उ...</td>\n",
       "      <td>यूपी की हार के लिए महंगाई भ्रष्टाचार जिम्मेदार...</td>\n",
       "      <td>A high -level committee of the Congress says t...</td>\n",
       "      <td>The high -level committee formed under the lea...</td>\n",
       "      <td>Inflation corruption responsible for the defea...</td>\n",
       "    </tr>\n",
       "    <tr>\n",
       "      <th>23</th>\n",
       "      <td>गौरतलब है कि सुप्रीम कोर्ट नोएडा एक्सप्रेस-वे ...</td>\n",
       "      <td>सितंबर तक जमा कराने हैं पैसेसुप्रीम कोर्ट मुआ...</td>\n",
       "      <td>इमेराल्ड कोर्ट केस सुपरटेक को राहत नहीं सुप्री...</td>\n",
       "      <td>It is worth noting that the Supreme Court is h...</td>\n",
       "      <td>Money is to be deposited by September, the cas...</td>\n",
       "      <td>Supreme Court ordered to deposit crores of rupees</td>\n",
       "    </tr>\n",
       "    <tr>\n",
       "      <th>24</th>\n",
       "      <td>किंग खान को यह अच्छे से पता है कि खबरों में कै...</td>\n",
       "      <td>शाहरुख खान के लाइव इंटरव्यू में बीच में आया बे...</td>\n",
       "      <td>शाहरुख खान के बेटे अबराम का इंटरव्यू हो रहा है...</td>\n",
       "      <td>King Khan knows well how to stay in the news, ...</td>\n",
       "      <td>In the live interview of Shah Rukh Khan, son A...</td>\n",
       "      <td>Shah Rukh Khan's son Abram is interviewing the...</td>\n",
       "    </tr>\n",
       "    <tr>\n",
       "      <th>25</th>\n",
       "      <td>महाराष्ट्र विधानसभा में पेश सीएजी की रिपोर्ट न...</td>\n",
       "      <td>महाराष्ट्र विधानसभा में पेश सीएजी की रिपोर्ट न...</td>\n",
       "      <td>महाराष्ट्र सरकार पर कैग सख्त करोड़ों बहे मगर ब...</td>\n",
       "      <td>The CAG report presented in the Maharashtra Le...</td>\n",
       "      <td>The CAG report introduced in the Maharashtra L...</td>\n",
       "      <td>CAG on Maharashtra government was strict crore...</td>\n",
       "    </tr>\n",
       "    <tr>\n",
       "      <th>26</th>\n",
       "      <td>हेडलाइन के अलावा इस खबर को एनडीटीवी टीम ने सं...</td>\n",
       "      <td>पालघर लोकसभा उपचुनाव का मामला चुनाव अधिकारी ने...</td>\n",
       "      <td>महाराष्ट्र उपचुनाव नियमों को ताक पर रख निजी का...</td>\n",
       "      <td>Apart from the headline, this news has not bee...</td>\n",
       "      <td>The case of Palghar Lok Sabha by -election, th...</td>\n",
       "      <td>Order to investigate EVM machines from private...</td>\n",
       "    </tr>\n",
       "    <tr>\n",
       "      <th>27</th>\n",
       "      <td>गोपाल राय ने कहा कि आम आदमी पार्टी दिल्ली के ल...</td>\n",
       "      <td>पूछा- मनोज तिवारी पीड़ित मां के साथ या फिर मैक...</td>\n",
       "      <td>मैक्स पर लापरवाही के कारण कार्रवाई दिल्ली सरक...</td>\n",
       "      <td>Gopal Rai said that the Aam Aadmi Party is com...</td>\n",
       "      <td>Asked- Manoj Tiwari with the victim's mother o...</td>\n",
       "      <td>Action due to negligence on Max Delhi governme...</td>\n",
       "    </tr>\n",
       "    <tr>\n",
       "      <th>28</th>\n",
       "      <td>सार्वजनिक विमानन कंपनी एयर इंडिया ने आगामी छुट...</td>\n",
       "      <td>एयर इंडिया ने एक विशेष किराया योजना पेश की जिस...</td>\n",
       "      <td>छुट्टियों में एयर इंडिया की विशेष किराया योजना</td>\n",
       "      <td>Public aviation company Air India introduced a...</td>\n",
       "      <td>Air India introduced a special fare scheme und...</td>\n",
       "      <td>Air India special fare scheme on holidays</td>\n",
       "    </tr>\n",
       "    <tr>\n",
       "      <th>29</th>\n",
       "      <td>पूर्व राष्ट्रपति एपीजे अब्दुल कलाम ने कहा कि क...</td>\n",
       "      <td>पूर्व राष्ट्रपति एपीजे अब्दुल कलाम ने कहा कि क...</td>\n",
       "      <td>क्षेत्रीय संतुलन के लिए भारत ने परमाणु हथियार ...</td>\n",
       "      <td>Former President APJ Abdul Kalam said that in ...</td>\n",
       "      <td>Former President APJ Abdul Kalam said that Ind...</td>\n",
       "      <td>India developed nuclear weapons for regional b...</td>\n",
       "    </tr>\n",
       "  </tbody>\n",
       "</table>\n",
       "</div>"
      ],
      "text/plain": [
       "                                           og_article  \\\n",
       "0   ब्लैकबेरी हैंडसेट बनाने वाली कनाडा की कंपनी रि...   \n",
       "1   अमेरिका में राष्ट्रपति पद के लिए डेमोक्रेटिक प...   \n",
       "2   इंडिगो एयरलाइन के प्रेसीडेंट और डायरेक्टर आदित...   \n",
       "3   संजय लीला भंसाली की फिल्म मलाल से बॉलीवुड में ...   \n",
       "4   इस पूरे मामले की जांच उत्तर-प्रदेश सरकार द्वार...   \n",
       "5   विवादित इस्लामिक प्रचारक ज़ाकिर नाइक के गैर सर...   \n",
       "6   राष्ट्रपति प्रतिभा पाटील रविवार सुबह सेशेल्स औ...   \n",
       "7   उन्होंने कहा कि अपने क्षेत्रों की समस्याओं को ...   \n",
       "8    सलमान खान ने इस तस्वीर को ट्वीट कर लिखा जितने...   \n",
       "9   रोम में सोमालियाई समुद्री लुटेरों ने इटली के ए...   \n",
       "10  हुंदै मोटर इंडिया अपने वाहनों की कीमत फरवरी से...   \n",
       "11  दुनियाभर के कई शहरों सहित दिल्ली में भी शनिवार...   \n",
       "12  गुजरात के मुख्यमंत्री नरेंद्र मोदी ने कहा कि उ...   \n",
       "13  पुणे वॉरियर्स के कोच ज्यौफ मार्श ने कहा कि डेक...   \n",
       "14  संयुक्त राष्ट्र महासचिव बान की मून ने पाकिस्ता...   \n",
       "15  देश के हर गांव में बिना ऑप्टिक फाइबर के जाल के...   \n",
       "16   दूसरी ओर गंभीर वर्ष में टी वर्ल्डकप और में क्...   \n",
       "17  शिवसेना नेता संजय राउत ने कहा है कि बीजेपी के ...   \n",
       "18  मुंबई में एक चार मंजिला इमारत गिरने से चार लोग...   \n",
       "19   इस खबर को एनडीटीवी टीम ने संपादित नहीं किया ह...   \n",
       "20  जयपुर के करणीविहार थाना क्षेत्र में एक युवक ने...   \n",
       "21  राज बब्बर कांग्रेस के सीनियर नेताओं में से एक ...   \n",
       "22  कांग्रेस की एक उच्चस्तरीय समिति का कहना है कि ...   \n",
       "23  गौरतलब है कि सुप्रीम कोर्ट नोएडा एक्सप्रेस-वे ...   \n",
       "24  किंग खान को यह अच्छे से पता है कि खबरों में कै...   \n",
       "25  महाराष्ट्र विधानसभा में पेश सीएजी की रिपोर्ट न...   \n",
       "26   हेडलाइन के अलावा इस खबर को एनडीटीवी टीम ने सं...   \n",
       "27  गोपाल राय ने कहा कि आम आदमी पार्टी दिल्ली के ल...   \n",
       "28  सार्वजनिक विमानन कंपनी एयर इंडिया ने आगामी छुट...   \n",
       "29  पूर्व राष्ट्रपति एपीजे अब्दुल कलाम ने कहा कि क...   \n",
       "\n",
       "                                           og_summary  \\\n",
       "0   ब्लैकबेरी हैंडसेट बनाने वाली कनाडा की कंपनी रि...   \n",
       "1   श्रद्धांजलि सभा के दौरान अचानक खराब हुई हिलेरी...   \n",
       "2   इंडिगो के ग्राउंड स्टाफ ने यात्री से की हाथापा...   \n",
       "3   मीजान जाफरी ने किया खुलासानव्या नंदा को बताया ...   \n",
       "4    समर्थकों के साथ पुलिस अधिकारी के आवास के बाहर...   \n",
       "5   ज़ाकिर नाइक के बैंक खातों की एनआईए जांच कर रही...   \n",
       "6   राष्ट्रपति प्रतिभा पाटील रविवार सुबह सेशेल्स औ...   \n",
       "7   कहा- जब संसद नहीं चल रही हो तो अपने क्षेत्र मे...   \n",
       "8   सलमान खान दिखे बुजुर्ग के गेटअप मेंउनकी तस्वीर...   \n",
       "9   फरवरी में इटली के इस जहाज का अपहरण किया गया था...   \n",
       "10  हुंदै मोटर इंडिया अपने वाहनों की कीमत फरवरी से...   \n",
       "11  इस अयोजन में राष्ट्रपति भवन सहित कई इमारतों मे...   \n",
       "12  गुजरात के मुख्यमंत्री नरेंद्र मोदी ने कहा कि उ...   \n",
       "13  पुणे वॉरियर्स के कोच ज्यौफ मार्श ने कहा कि डेक...   \n",
       "14  संयुक्त राष्ट्र महासचिव बान की मून ने पाक के प...   \n",
       "15  फिलहाल इस योजना को गांवों में आज़माया जा चुका ह...   \n",
       "16  अजहर ने घंटी बजाकर की थी पहले टी मैच की शुरुआत...   \n",
       "17  संजय राउत का बीजेपी पर निशानाशिवसेना को सरकार ...   \n",
       "18  मुंबई में एक चार मंजिला इमारत गिरने से चार लोग...   \n",
       "19  ईनामी बदमाश को पुलिस ने मार गिरायाइस मुठभेड़ म...   \n",
       "20  पड़ोसी ने घर में घुसकर किया कथित बलात्कारविरोध...   \n",
       "21   में जनता दल में शामिल होकर किया सियासी आगाज म...   \n",
       "22  रक्षामंत्री एके एंटनी के नेतृत्व में बनाई गई उ...   \n",
       "23   सितंबर तक जमा कराने हैं पैसेसुप्रीम कोर्ट मुआ...   \n",
       "24  शाहरुख खान के लाइव इंटरव्यू में बीच में आया बे...   \n",
       "25  महाराष्ट्र विधानसभा में पेश सीएजी की रिपोर्ट न...   \n",
       "26  पालघर लोकसभा उपचुनाव का मामला चुनाव अधिकारी ने...   \n",
       "27  पूछा- मनोज तिवारी पीड़ित मां के साथ या फिर मैक...   \n",
       "28  एयर इंडिया ने एक विशेष किराया योजना पेश की जिस...   \n",
       "29  पूर्व राष्ट्रपति एपीजे अब्दुल कलाम ने कहा कि क...   \n",
       "\n",
       "                                          og_headline  \\\n",
       "0             रिम करेगा दो हजार कर्मचारियों की छंटनी    \n",
       "1   अमेरिका राष्ट्रपति पद की उम्मीदवार हिलेरी क्लि...   \n",
       "2   इंडिगो के स्टाफ ने दिल्ली एयरपोर्ट पर पैसेंजर ...   \n",
       "3   नव्या नवेली के साथ दोस्ती पर जावेद जाफरी के बे...   \n",
       "4   उन्नाव रेप केस आधी रात को आरोपी विधायक कुलदीप ...   \n",
       "5   इस्लामिक धर्मगुरु ने रियल एस्टेट में किया करोड...   \n",
       "6   राष्ट्रपति दिवसीय दौरे पर सेशेल्स व द अफ्रीका ...   \n",
       "7   पीएम मोदी मिले बीजेपी के ओबीसी सांसदों से सरका...   \n",
       "8    सलमान खान दिखे बुजुर्ग के गेटअप में लिखा- जित...   \n",
       "9         सोमालियाई लुटेरों ने भारतीयों को किया रिहा    \n",
       "10  मारुति के बाद हुंदै की कारें होंगी हजार तक महंगी    \n",
       "11                  दिल्ली में अर्थ ऑवर की तैयारियां    \n",
       "12  उत्तराखंड के प्रभावित क्षेत्रों का दौरा करने प...   \n",
       "13          मैच से पहले नर्वस थे गांगुली ज्यौफ मार्श    \n",
       "14      मून ने पाक में हुए आत्मघाती हमले की निंदा की    \n",
       "15  आईआईटी बॉम्बे से निकला इंटरनेट अब जोड़ेगा देश क...   \n",
       "16   अजहर को ईडन गार्डंस पर खास सम्मान देने से गौत...   \n",
       "17  अगर पीडीपी से हाथ मिला सकती है तो शिवसेना एनसी...   \n",
       "18           मुंबई में चार मंजिला इमारत गिरी चार मरे    \n",
       "19  यूपी पुलिस मुठभेड़ में इनामी बदमाश ढेर दारोगा ...   \n",
       "20  जयपुर पड़ोसी ने घर में घुसकर साल की बच्ची से क...   \n",
       "21  राज बब्बर सपा से बगावत करके डिंपल यादव को हराय...   \n",
       "22  यूपी की हार के लिए महंगाई भ्रष्टाचार जिम्मेदार...   \n",
       "23  इमेराल्ड कोर्ट केस सुपरटेक को राहत नहीं सुप्री...   \n",
       "24  शाहरुख खान के बेटे अबराम का इंटरव्यू हो रहा है...   \n",
       "25  महाराष्ट्र सरकार पर कैग सख्त करोड़ों बहे मगर ब...   \n",
       "26  महाराष्ट्र उपचुनाव नियमों को ताक पर रख निजी का...   \n",
       "27   मैक्स पर लापरवाही के कारण कार्रवाई दिल्ली सरक...   \n",
       "28    छुट्टियों में एयर इंडिया की विशेष किराया योजना    \n",
       "29  क्षेत्रीय संतुलन के लिए भारत ने परमाणु हथियार ...   \n",
       "\n",
       "                                              article  \\\n",
       "0   The Canadian company Research in Motion Rim, w...   \n",
       "1   Hillary Clinton, a Democratic Party candidate ...   \n",
       "2   Aditya Ghosh, President and director of Indigo...   \n",
       "3   Mejan Jafri, who made her Bollywood debut with...   \n",
       "4   The SIT is being investigated by the Uttar Pra...   \n",
       "5   The Government of India is being tightened by ...   \n",
       "6   President Pratibha Patil left for a nine-day v...   \n",
       "7   He said that by meeting Union Ministers and of...   \n",
       "8   Salman Khan tweeted this picture and wrote tha...   \n",
       "9   Somalian pirates in Rome were released by an o...   \n",
       "10  Hyundai Motor India will increase the price of...   \n",
       "11  Earth Hour will be celebrated on Saturday even...   \n",
       "12  Gujarat Chief Minister Narendra Modi said that...   \n",
       "13  Pune Warriors coach Jyauf Marsh said that Sour...   \n",
       "14  United Nations Secretary -General Ban Ki Moon ...   \n",
       "15  IIT Bombay students have fulfilled the dream o...   \n",
       "16  On the other hand, in the serious year T World...   \n",
       "17  Shiv Sena leader Sanjay Raut has said that due...   \n",
       "18  Four people have died after falling a four -st...   \n",
       "19  This news has not been edited by the NDTV team...   \n",
       "20  In Karnivihar police station area of Jaipur, a...   \n",
       "21  Raj Babbar is one of the senior leaders of the...   \n",
       "22  A high -level committee of the Congress says t...   \n",
       "23  It is worth noting that the Supreme Court is h...   \n",
       "24  King Khan knows well how to stay in the news, ...   \n",
       "25  The CAG report presented in the Maharashtra Le...   \n",
       "26  Apart from the headline, this news has not bee...   \n",
       "27  Gopal Rai said that the Aam Aadmi Party is com...   \n",
       "28  Public aviation company Air India introduced a...   \n",
       "29  Former President APJ Abdul Kalam said that in ...   \n",
       "\n",
       "                                              summary  \\\n",
       "0   The Canadian company Research in Motion Rim, w...   \n",
       "1   Hillary Clinton's health that suddenly deterio...   \n",
       "2   Indigo's ground staff has apologized for this ...   \n",
       "3   Meijan Jafri opted out to Nanda, a good friend...   \n",
       "4   The supporters had reached outside the police ...   \n",
       "5   NIA is investigating Zakir Naik's bank account...   \n",
       "6   President Pratibha Patil left for a nine-day v...   \n",
       "7   Said- When the Parliament is not going on, the...   \n",
       "8   Salman Khan looked like his picture in the get...   \n",
       "9   The Italian ship was kidnapped in February, in...   \n",
       "10  Hyundai Motor India will increase the price of...   \n",
       "11  In this age, the lights will be extinguished f...   \n",
       "12  Gujarat Chief Minister Narendra Modi said that...   \n",
       "13  Pune Warriors coach Jyauf Marsh said that Sour...   \n",
       "14  United Nations Secretary -General Ban Ki Moon ...   \n",
       "15  Currently, this scheme has been tried in the v...   \n",
       "16  Azhar had done the bell by ringing the first T...   \n",
       "17  Sanjay Raut can support the BJP to form a gove...   \n",
       "18  Four people have died due to a four -storey bu...   \n",
       "19  The prize crook was also seriously injured by ...   \n",
       "20  The neighbor entered the house and committed t...   \n",
       "21  Samajwadi Party defeated Mulayam Singh's daugh...   \n",
       "22  The high -level committee formed under the lea...   \n",
       "23  Money is to be deposited by September, the cas...   \n",
       "24  In the live interview of Shah Rukh Khan, son A...   \n",
       "25  The CAG report introduced in the Maharashtra L...   \n",
       "26  The case of Palghar Lok Sabha by -election, th...   \n",
       "27  Asked- Manoj Tiwari with the victim's mother o...   \n",
       "28  Air India introduced a special fare scheme und...   \n",
       "29  Former President APJ Abdul Kalam said that Ind...   \n",
       "\n",
       "                                             headline  \n",
       "0       Rim will be trimmed of two thousand employees  \n",
       "1   US Presidential candidate Hillary Clinton conf...  \n",
       "2   Indigo staff assaulted passenger at Delhi Airp...  \n",
       "3   Javed Jaffrey's son revealed this on friendshi...  \n",
       "4   Unnao rape case did not surrender in front of ...  \n",
       "5   Islamic religious leader invests crores of rup...  \n",
       "6   Seychelles and The Africa leave for presidenti...  \n",
       "7   PM Modi met BJP's OBC MPs for strengthening th...  \n",
       "8   Salman Khan was seen in the old man's getup- t...  \n",
       "9                   Somalian robbers released Indians  \n",
       "10  Hundai's cars will be expensive for thousands ...  \n",
       "11               Preparations for Earth Hour in Delhi  \n",
       "12  Narendra Modi arrived to visit the affected ar...  \n",
       "13   Ganguly Jyauf Marsh was nervous before the match  \n",
       "14           Moon condemns suicide attack in Pakistan  \n",
       "15  Internet from IIT Bombay will now add every vi...  \n",
       "16  Gautam Gambhir upset by giving special honor t...  \n",
       "17  If you can join hands with PDP, then why not S...  \n",
       "18  Four dead four -storey building collapses in M...  \n",
       "19  In the UP police encounter, the prize crook wa...  \n",
       "20  Jaipur neighbor entered the house and allegedl...  \n",
       "21  Raj Babbar rebelled from SP and defeated Dimpl...  \n",
       "22  Inflation corruption responsible for the defea...  \n",
       "23  Supreme Court ordered to deposit crores of rupees  \n",
       "24  Shah Rukh Khan's son Abram is interviewing the...  \n",
       "25  CAG on Maharashtra government was strict crore...  \n",
       "26  Order to investigate EVM machines from private...  \n",
       "27  Action due to negligence on Max Delhi governme...  \n",
       "28          Air India special fare scheme on holidays  \n",
       "29  India developed nuclear weapons for regional b...  "
      ]
     },
     "execution_count": 3,
     "metadata": {},
     "output_type": "execute_result"
    }
   ],
   "source": [
    "data"
   ]
  },
  {
   "cell_type": "code",
   "execution_count": 4,
   "id": "052e2106",
   "metadata": {},
   "outputs": [],
   "source": [
    "text = data['article']\n",
    "goldsummary = data['summary']"
   ]
  },
  {
   "cell_type": "code",
   "execution_count": 5,
   "id": "dc9db1f3",
   "metadata": {},
   "outputs": [],
   "source": [
    "bart_checkpoint = \"facebook/bart-large\""
   ]
  },
  {
   "cell_type": "code",
   "execution_count": 6,
   "id": "b059054f",
   "metadata": {},
   "outputs": [],
   "source": [
    "device = \"cuda\" if torch.cuda.is_available() else \"cpu\""
   ]
  },
  {
   "cell_type": "code",
   "execution_count": 7,
   "id": "87d30826",
   "metadata": {},
   "outputs": [],
   "source": [
    "tokenizer_bart = AutoTokenizer.from_pretrained(bart_checkpoint, \n",
    "                                               do_lower_case=False, \n",
    "                                               use_fast=False, \n",
    "                                               keep_accents=True)\n",
    "\n",
    "model_bart = AutoModelForSeq2SeqLM.from_pretrained(bart_checkpoint).to(device)"
   ]
  },
  {
   "cell_type": "code",
   "execution_count": 8,
   "id": "9e1b42f6",
   "metadata": {},
   "outputs": [],
   "source": [
    "bos_id = tokenizer_bart._convert_token_to_id_with_added_voc(\"<s>\")\n",
    "eos_id = tokenizer_bart._convert_token_to_id_with_added_voc(\"</s>\")\n",
    "pad_id = tokenizer_bart._convert_token_to_id_with_added_voc(\"<pad>\")"
   ]
  },
  {
   "cell_type": "code",
   "execution_count": 9,
   "id": "22719ca4",
   "metadata": {},
   "outputs": [
    {
     "name": "stdout",
     "output_type": "stream",
     "text": [
      "Wall time: 15min 19s\n"
     ]
    }
   ],
   "source": [
    "%%time\n",
    "\n",
    "SystemSummary = []\n",
    "\n",
    "for i, input_text in enumerate(text):\n",
    "    \n",
    "    inp = tokenizer_bart(input_text, add_special_tokens=False, \n",
    "                         truncation=True, return_tensors=\"pt\", \n",
    "                         padding='max_length', max_length=1024)['input_ids'].to(device)  \n",
    "    \n",
    "    model_output = model_bart.generate(inp, use_cache=True, \n",
    "                                        num_beams=4, \n",
    "                                        max_length=60, \n",
    "                                        min_length=20, \n",
    "                                        early_stopping=True, \n",
    "                                        pad_token_id=pad_id,\n",
    "                                        bos_token_id=bos_id, \n",
    "                                        eos_token_id=eos_id, \n",
    "                                        decoder_start_token_id=tokenizer_bart._convert_token_to_id_with_added_voc(\"<2en>\"))\n",
    "    \n",
    "    decoded_output = tokenizer_bart.decode(model_output[0], \n",
    "                                    skip_special_tokens=True, \n",
    "                                    clean_up_tokenization_spaces=False)\n",
    "    \n",
    "    SystemSummary.append(decoded_output)"
   ]
  },
  {
   "cell_type": "code",
   "execution_count": 10,
   "id": "dd81b38d",
   "metadata": {},
   "outputs": [
    {
     "data": {
      "text/html": [
       "<div>\n",
       "<style scoped>\n",
       "    .dataframe tbody tr th:only-of-type {\n",
       "        vertical-align: middle;\n",
       "    }\n",
       "\n",
       "    .dataframe tbody tr th {\n",
       "        vertical-align: top;\n",
       "    }\n",
       "\n",
       "    .dataframe thead th {\n",
       "        text-align: right;\n",
       "    }\n",
       "</style>\n",
       "<table border=\"1\" class=\"dataframe\">\n",
       "  <thead>\n",
       "    <tr style=\"text-align: right;\">\n",
       "      <th></th>\n",
       "      <th>Articles</th>\n",
       "      <th>GoldSummary</th>\n",
       "      <th>BartSummary</th>\n",
       "    </tr>\n",
       "  </thead>\n",
       "  <tbody>\n",
       "    <tr>\n",
       "      <th>0</th>\n",
       "      <td>The Canadian company Research in Motion Rim, w...</td>\n",
       "      <td>The Canadian company Research in Motion Rim, w...</td>\n",
       "      <td>Preparing restructuring. Canadian company Rese...</td>\n",
       "    </tr>\n",
       "    <tr>\n",
       "      <th>1</th>\n",
       "      <td>Hillary Clinton, a Democratic Party candidate ...</td>\n",
       "      <td>Hillary Clinton's health that suddenly deterio...</td>\n",
       "      <td>This news has not been edited by the NDTV team...</td>\n",
       "    </tr>\n",
       "    <tr>\n",
       "      <th>2</th>\n",
       "      <td>Aditya Ghosh, President and director of Indigo...</td>\n",
       "      <td>Indigo's ground staff has apologized for this ...</td>\n",
       "      <td>itya Ghosh, President and director of Indigo A...</td>\n",
       "    </tr>\n",
       "    <tr>\n",
       "      <th>3</th>\n",
       "      <td>Mejan Jafri, who made her Bollywood debut with...</td>\n",
       "      <td>Meijan Jafri opted out to Nanda, a good friend...</td>\n",
       "      <td>jan Jafri, who made her Bollywood debut with S...</td>\n",
       "    </tr>\n",
       "    <tr>\n",
       "      <th>4</th>\n",
       "      <td>The SIT is being investigated by the Uttar Pra...</td>\n",
       "      <td>The supporters had reached outside the police ...</td>\n",
       "      <td>Uttar Pradesh SIT is being investigated by the...</td>\n",
       "    </tr>\n",
       "    <tr>\n",
       "      <th>5</th>\n",
       "      <td>The Government of India is being tightened by ...</td>\n",
       "      <td>NIA is investigating Zakir Naik's bank account...</td>\n",
       "      <td>Has has invested about crores of rupees in rea...</td>\n",
       "    </tr>\n",
       "    <tr>\n",
       "      <th>6</th>\n",
       "      <td>President Pratibha Patil left for a nine-day v...</td>\n",
       "      <td>President Pratibha Patil left for a nine-day v...</td>\n",
       "      <td>President Patil is with President Patil Seyche...</td>\n",
       "    </tr>\n",
       "    <tr>\n",
       "      <th>7</th>\n",
       "      <td>He said that by meeting Union Ministers and of...</td>\n",
       "      <td>Said- When the Parliament is not going on, the...</td>\n",
       "      <td>Met the Lok Sabha and Rajya Sabha MPs of two o...</td>\n",
       "    </tr>\n",
       "    <tr>\n",
       "      <th>8</th>\n",
       "      <td>Salman Khan tweeted this picture and wrote tha...</td>\n",
       "      <td>Salman Khan looked like his picture in the get...</td>\n",
       "      <td>man Khan tweeted this picture and wrote that t...</td>\n",
       "    </tr>\n",
       "    <tr>\n",
       "      <th>9</th>\n",
       "      <td>Somalian pirates in Rome were released by an o...</td>\n",
       "      <td>The Italian ship was kidnapped in February, in...</td>\n",
       "      <td>omalian pirates in Rome were released by an oi...</td>\n",
       "    </tr>\n",
       "    <tr>\n",
       "      <th>10</th>\n",
       "      <td>Hyundai Motor India will increase the price of...</td>\n",
       "      <td>Hyundai Motor India will increase the price of...</td>\n",
       "      <td>He will increase that he said that this increa...</td>\n",
       "    </tr>\n",
       "    <tr>\n",
       "      <th>11</th>\n",
       "      <td>Earth Hour will be celebrated on Saturday even...</td>\n",
       "      <td>In this age, the lights will be extinguished f...</td>\n",
       "      <td>Earth Hour is celebrated. Hour will be celebra...</td>\n",
       "    </tr>\n",
       "    <tr>\n",
       "      <th>12</th>\n",
       "      <td>Gujarat Chief Minister Narendra Modi said that...</td>\n",
       "      <td>Gujarat Chief Minister Narendra Modi said that...</td>\n",
       "      <td>jarat Chief Minister Narendra Modi said that t...</td>\n",
       "    </tr>\n",
       "    <tr>\n",
       "      <th>13</th>\n",
       "      <td>Pune Warriors coach Jyauf Marsh said that Sour...</td>\n",
       "      <td>Pune Warriors coach Jyauf Marsh said that Sour...</td>\n",
       "      <td>une Warriors coach Jyauf Marsh said that Soura...</td>\n",
       "    </tr>\n",
       "    <tr>\n",
       "      <th>14</th>\n",
       "      <td>United Nations Secretary -General Ban Ki Moon ...</td>\n",
       "      <td>United Nations Secretary -General Ban Ki Moon ...</td>\n",
       "      <td>A teenager, who arrived in a school dress at t...</td>\n",
       "    </tr>\n",
       "    <tr>\n",
       "      <th>15</th>\n",
       "      <td>IIT Bombay students have fulfilled the dream o...</td>\n",
       "      <td>Currently, this scheme has been tried in the v...</td>\n",
       "      <td>IT Bombay students have fulfilled the dream of...</td>\n",
       "    </tr>\n",
       "    <tr>\n",
       "      <th>16</th>\n",
       "      <td>On the other hand, in the serious year T World...</td>\n",
       "      <td>Azhar had done the bell by ringing the first T...</td>\n",
       "      <td>Gambhir has been a member of the Indian team, ...</td>\n",
       "    </tr>\n",
       "    <tr>\n",
       "      <th>17</th>\n",
       "      <td>Shiv Sena leader Sanjay Raut has said that due...</td>\n",
       "      <td>Sanjay Raut can support the BJP to form a gove...</td>\n",
       "      <td>iv Sena leader Sanjay Raut has said that due t...</td>\n",
       "    </tr>\n",
       "    <tr>\n",
       "      <th>18</th>\n",
       "      <td>Four people have died after falling a four -st...</td>\n",
       "      <td>Four people have died due to a four -storey bu...</td>\n",
       "      <td>Work on a four -storey building in Mumbai coll...</td>\n",
       "    </tr>\n",
       "    <tr>\n",
       "      <th>19</th>\n",
       "      <td>This news has not been edited by the NDTV team...</td>\n",
       "      <td>The prize crook was also seriously injured by ...</td>\n",
       "      <td>This is published unedited and unedited from t...</td>\n",
       "    </tr>\n",
       "    <tr>\n",
       "      <th>20</th>\n",
       "      <td>In Karnivihar police station area of Jaipur, a...</td>\n",
       "      <td>The neighbor entered the house and committed t...</td>\n",
       "      <td>But the police have arrested Shukla, the polic...</td>\n",
       "    </tr>\n",
       "    <tr>\n",
       "      <th>21</th>\n",
       "      <td>Raj Babbar is one of the senior leaders of the...</td>\n",
       "      <td>Samajwadi Party defeated Mulayam Singh's daugh...</td>\n",
       "      <td>aj Babbar is one of the senior leaders of the ...</td>\n",
       "    </tr>\n",
       "    <tr>\n",
       "      <th>22</th>\n",
       "      <td>A high -level committee of the Congress says t...</td>\n",
       "      <td>The high -level committee formed under the lea...</td>\n",
       "      <td>The committee will be given, however, the comm...</td>\n",
       "    </tr>\n",
       "    <tr>\n",
       "      <th>23</th>\n",
       "      <td>It is worth noting that the Supreme Court is h...</td>\n",
       "      <td>Money is to be deposited by September, the cas...</td>\n",
       "      <td>Was given and ordered to seal the tower, the S...</td>\n",
       "    </tr>\n",
       "    <tr>\n",
       "      <th>24</th>\n",
       "      <td>King Khan knows well how to stay in the news, ...</td>\n",
       "      <td>In the live interview of Shah Rukh Khan, son A...</td>\n",
       "      <td>Said - Recently, Shah Rukh Khan told the news ...</td>\n",
       "    </tr>\n",
       "    <tr>\n",
       "      <th>25</th>\n",
       "      <td>The CAG report presented in the Maharashtra Le...</td>\n",
       "      <td>The CAG report introduced in the Maharashtra L...</td>\n",
       "      <td>In such a situation, this report of the CAG ha...</td>\n",
       "    </tr>\n",
       "    <tr>\n",
       "      <th>26</th>\n",
       "      <td>Apart from the headline, this news has not bee...</td>\n",
       "      <td>The case of Palghar Lok Sabha by -election, th...</td>\n",
       "      <td>This story has not been edited by the NDTV tea...</td>\n",
       "    </tr>\n",
       "    <tr>\n",
       "      <th>27</th>\n",
       "      <td>Gopal Rai said that the Aam Aadmi Party is com...</td>\n",
       "      <td>Asked- Manoj Tiwari with the victim's mother o...</td>\n",
       "      <td>opal Rai said that the Aam Aadmi Party governm...</td>\n",
       "    </tr>\n",
       "    <tr>\n",
       "      <th>28</th>\n",
       "      <td>Public aviation company Air India introduced a...</td>\n",
       "      <td>Air India introduced a special fare scheme und...</td>\n",
       "      <td>Objective is to attract more passengers during...</td>\n",
       "    </tr>\n",
       "    <tr>\n",
       "      <th>29</th>\n",
       "      <td>Former President APJ Abdul Kalam said that in ...</td>\n",
       "      <td>Former President APJ Abdul Kalam said that Ind...</td>\n",
       "      <td>India spent a little in the development of fir...</td>\n",
       "    </tr>\n",
       "  </tbody>\n",
       "</table>\n",
       "</div>"
      ],
      "text/plain": [
       "                                             Articles  \\\n",
       "0   The Canadian company Research in Motion Rim, w...   \n",
       "1   Hillary Clinton, a Democratic Party candidate ...   \n",
       "2   Aditya Ghosh, President and director of Indigo...   \n",
       "3   Mejan Jafri, who made her Bollywood debut with...   \n",
       "4   The SIT is being investigated by the Uttar Pra...   \n",
       "5   The Government of India is being tightened by ...   \n",
       "6   President Pratibha Patil left for a nine-day v...   \n",
       "7   He said that by meeting Union Ministers and of...   \n",
       "8   Salman Khan tweeted this picture and wrote tha...   \n",
       "9   Somalian pirates in Rome were released by an o...   \n",
       "10  Hyundai Motor India will increase the price of...   \n",
       "11  Earth Hour will be celebrated on Saturday even...   \n",
       "12  Gujarat Chief Minister Narendra Modi said that...   \n",
       "13  Pune Warriors coach Jyauf Marsh said that Sour...   \n",
       "14  United Nations Secretary -General Ban Ki Moon ...   \n",
       "15  IIT Bombay students have fulfilled the dream o...   \n",
       "16  On the other hand, in the serious year T World...   \n",
       "17  Shiv Sena leader Sanjay Raut has said that due...   \n",
       "18  Four people have died after falling a four -st...   \n",
       "19  This news has not been edited by the NDTV team...   \n",
       "20  In Karnivihar police station area of Jaipur, a...   \n",
       "21  Raj Babbar is one of the senior leaders of the...   \n",
       "22  A high -level committee of the Congress says t...   \n",
       "23  It is worth noting that the Supreme Court is h...   \n",
       "24  King Khan knows well how to stay in the news, ...   \n",
       "25  The CAG report presented in the Maharashtra Le...   \n",
       "26  Apart from the headline, this news has not bee...   \n",
       "27  Gopal Rai said that the Aam Aadmi Party is com...   \n",
       "28  Public aviation company Air India introduced a...   \n",
       "29  Former President APJ Abdul Kalam said that in ...   \n",
       "\n",
       "                                          GoldSummary  \\\n",
       "0   The Canadian company Research in Motion Rim, w...   \n",
       "1   Hillary Clinton's health that suddenly deterio...   \n",
       "2   Indigo's ground staff has apologized for this ...   \n",
       "3   Meijan Jafri opted out to Nanda, a good friend...   \n",
       "4   The supporters had reached outside the police ...   \n",
       "5   NIA is investigating Zakir Naik's bank account...   \n",
       "6   President Pratibha Patil left for a nine-day v...   \n",
       "7   Said- When the Parliament is not going on, the...   \n",
       "8   Salman Khan looked like his picture in the get...   \n",
       "9   The Italian ship was kidnapped in February, in...   \n",
       "10  Hyundai Motor India will increase the price of...   \n",
       "11  In this age, the lights will be extinguished f...   \n",
       "12  Gujarat Chief Minister Narendra Modi said that...   \n",
       "13  Pune Warriors coach Jyauf Marsh said that Sour...   \n",
       "14  United Nations Secretary -General Ban Ki Moon ...   \n",
       "15  Currently, this scheme has been tried in the v...   \n",
       "16  Azhar had done the bell by ringing the first T...   \n",
       "17  Sanjay Raut can support the BJP to form a gove...   \n",
       "18  Four people have died due to a four -storey bu...   \n",
       "19  The prize crook was also seriously injured by ...   \n",
       "20  The neighbor entered the house and committed t...   \n",
       "21  Samajwadi Party defeated Mulayam Singh's daugh...   \n",
       "22  The high -level committee formed under the lea...   \n",
       "23  Money is to be deposited by September, the cas...   \n",
       "24  In the live interview of Shah Rukh Khan, son A...   \n",
       "25  The CAG report introduced in the Maharashtra L...   \n",
       "26  The case of Palghar Lok Sabha by -election, th...   \n",
       "27  Asked- Manoj Tiwari with the victim's mother o...   \n",
       "28  Air India introduced a special fare scheme und...   \n",
       "29  Former President APJ Abdul Kalam said that Ind...   \n",
       "\n",
       "                                          BartSummary  \n",
       "0   Preparing restructuring. Canadian company Rese...  \n",
       "1   This news has not been edited by the NDTV team...  \n",
       "2   itya Ghosh, President and director of Indigo A...  \n",
       "3   jan Jafri, who made her Bollywood debut with S...  \n",
       "4   Uttar Pradesh SIT is being investigated by the...  \n",
       "5   Has has invested about crores of rupees in rea...  \n",
       "6   President Patil is with President Patil Seyche...  \n",
       "7   Met the Lok Sabha and Rajya Sabha MPs of two o...  \n",
       "8   man Khan tweeted this picture and wrote that t...  \n",
       "9   omalian pirates in Rome were released by an oi...  \n",
       "10  He will increase that he said that this increa...  \n",
       "11  Earth Hour is celebrated. Hour will be celebra...  \n",
       "12  jarat Chief Minister Narendra Modi said that t...  \n",
       "13  une Warriors coach Jyauf Marsh said that Soura...  \n",
       "14  A teenager, who arrived in a school dress at t...  \n",
       "15  IT Bombay students have fulfilled the dream of...  \n",
       "16  Gambhir has been a member of the Indian team, ...  \n",
       "17  iv Sena leader Sanjay Raut has said that due t...  \n",
       "18  Work on a four -storey building in Mumbai coll...  \n",
       "19  This is published unedited and unedited from t...  \n",
       "20  But the police have arrested Shukla, the polic...  \n",
       "21  aj Babbar is one of the senior leaders of the ...  \n",
       "22  The committee will be given, however, the comm...  \n",
       "23  Was given and ordered to seal the tower, the S...  \n",
       "24  Said - Recently, Shah Rukh Khan told the news ...  \n",
       "25  In such a situation, this report of the CAG ha...  \n",
       "26  This story has not been edited by the NDTV tea...  \n",
       "27  opal Rai said that the Aam Aadmi Party governm...  \n",
       "28  Objective is to attract more passengers during...  \n",
       "29  India spent a little in the development of fir...  "
      ]
     },
     "execution_count": 10,
     "metadata": {},
     "output_type": "execute_result"
    }
   ],
   "source": [
    "Summaries = pd.DataFrame(list(zip(text,goldsummary, SystemSummary)), columns =['Articles','GoldSummary', 'BartSummary'])\n",
    "Summaries"
   ]
  },
  {
   "cell_type": "code",
   "execution_count": 11,
   "id": "913252c6",
   "metadata": {},
   "outputs": [
    {
     "data": {
      "text/html": [
       "<div>\n",
       "<style scoped>\n",
       "    .dataframe tbody tr th:only-of-type {\n",
       "        vertical-align: middle;\n",
       "    }\n",
       "\n",
       "    .dataframe tbody tr th {\n",
       "        vertical-align: top;\n",
       "    }\n",
       "\n",
       "    .dataframe thead th {\n",
       "        text-align: right;\n",
       "    }\n",
       "</style>\n",
       "<table border=\"1\" class=\"dataframe\">\n",
       "  <thead>\n",
       "    <tr style=\"text-align: right;\">\n",
       "      <th></th>\n",
       "      <th>rouge-1</th>\n",
       "      <th>rouge-2</th>\n",
       "      <th>rouge-l</th>\n",
       "    </tr>\n",
       "  </thead>\n",
       "  <tbody>\n",
       "    <tr>\n",
       "      <th>recall</th>\n",
       "      <td>0.454576</td>\n",
       "      <td>0.243486</td>\n",
       "      <td>0.395305</td>\n",
       "    </tr>\n",
       "    <tr>\n",
       "      <th>precision</th>\n",
       "      <td>0.263440</td>\n",
       "      <td>0.125514</td>\n",
       "      <td>0.228885</td>\n",
       "    </tr>\n",
       "    <tr>\n",
       "      <th>f-measure</th>\n",
       "      <td>0.326829</td>\n",
       "      <td>0.162206</td>\n",
       "      <td>0.283910</td>\n",
       "    </tr>\n",
       "  </tbody>\n",
       "</table>\n",
       "</div>"
      ],
      "text/plain": [
       "            rouge-1   rouge-2   rouge-l\n",
       "recall     0.454576  0.243486  0.395305\n",
       "precision  0.263440  0.125514  0.228885\n",
       "f-measure  0.326829  0.162206  0.283910"
      ]
     },
     "execution_count": 11,
     "metadata": {},
     "output_type": "execute_result"
    }
   ],
   "source": [
    "rouge = Rouge()\n",
    "score = rouge.get_scores(Summaries['BartSummary'], Summaries['GoldSummary'], avg=True)\n",
    "BartRouge = pd.DataFrame(score).set_index([['recall','precision','f-measure']])\n",
    "BartRouge\n"
   ]
  },
  {
   "cell_type": "code",
   "execution_count": 12,
   "id": "c2b347b2",
   "metadata": {},
   "outputs": [
    {
     "name": "stdout",
     "output_type": "stream",
     "text": [
      "Article: The Canadian company Research in Motion Rim, which makes BlackBerry handset, will pruning employees globally in the next few weeks as part of its restructuring scheme. The Globe & Mail said in the news published by the company's nearest sources that Rim has said that Rim is large globally.Preparing restructuring. In the next few weeks, she will cut jobs globally. The report said that the figure of the retrenchment may be even bigger. The Globe & Mail has said in the news published by the company's nearest sources.That Rim is preparing for large restructuring globally. In the next few weeks it will cut jobs globally. The report said that the retrenchment figure can be even bigger than this.\n",
      "======================================================\n",
      "Gold Summary: The Canadian company Research in Motion Rim, which makes BlackBerry handset, will pruning employees globally in the next few weeks under its restructuring plan\n",
      "======================================================\n",
      "Bart Summary: Preparing restructuring. Canadian company Research in Motion Rim, which makes BlackBerry handset, will pruning employees globally in the next few weeks as part of its restructuring scheme. The Globe & Mail said in the news published by the company's nearest sources that Rim has said that Rim is large globally\n"
     ]
    }
   ],
   "source": [
    "print('Article:',Summaries['Articles'][0])\n",
    "print('======================================================')\n",
    "print('Gold Summary:',Summaries['GoldSummary'][0])\n",
    "print('======================================================')\n",
    "print('Bart Summary:', Summaries['BartSummary'][0])"
   ]
  },
  {
   "cell_type": "code",
   "execution_count": 13,
   "id": "4fe7ef11",
   "metadata": {},
   "outputs": [],
   "source": [
    "t5_checkpoint = \"deep-learning-analytics/wikihow-t5-small\"\n",
    "\n",
    "tokenizer_t5 = AutoTokenizer.from_pretrained(t5_checkpoint)\n",
    "model_t5 = AutoModelForSeq2SeqLM.from_pretrained(t5_checkpoint).to(device)"
   ]
  },
  {
   "cell_type": "code",
   "execution_count": 14,
   "id": "4bd50831",
   "metadata": {},
   "outputs": [
    {
     "name": "stdout",
     "output_type": "stream",
     "text": [
      "Wall time: 3min 11s\n"
     ]
    }
   ],
   "source": [
    "%%time\n",
    "\n",
    "SystemSummary1 = []\n",
    "\n",
    "for i, input_text in enumerate(text):    \n",
    "    \n",
    "    input_ids = tokenizer_t5(input_text,\n",
    "                             return_tensors=\"pt\",\n",
    "                             padding=\"max_length\",\n",
    "                             truncation=True,\n",
    "                             max_length=768)[\"input_ids\"].to(device) \n",
    "\n",
    "    model_output = model_t5.generate(input_ids=input_ids,\n",
    "                                     num_beams=4,\n",
    "                                     max_length=70,\n",
    "                                     min_length=30,\n",
    "                                     no_repeat_ngram_size=2,\n",
    "                                     early_stopping=True)\n",
    "\n",
    "    decoded_output = tokenizer_t5.decode(model_output[0],\n",
    "                                  skip_special_tokens=True,\n",
    "                                  clean_up_tokenization_spaces=False)\n",
    "\n",
    "    \n",
    "    \n",
    "    SystemSummary1.append(decoded_output)"
   ]
  },
  {
   "cell_type": "code",
   "execution_count": 15,
   "id": "aad1e9b5",
   "metadata": {},
   "outputs": [
    {
     "data": {
      "text/html": [
       "<div>\n",
       "<style scoped>\n",
       "    .dataframe tbody tr th:only-of-type {\n",
       "        vertical-align: middle;\n",
       "    }\n",
       "\n",
       "    .dataframe tbody tr th {\n",
       "        vertical-align: top;\n",
       "    }\n",
       "\n",
       "    .dataframe thead th {\n",
       "        text-align: right;\n",
       "    }\n",
       "</style>\n",
       "<table border=\"1\" class=\"dataframe\">\n",
       "  <thead>\n",
       "    <tr style=\"text-align: right;\">\n",
       "      <th></th>\n",
       "      <th>Articles</th>\n",
       "      <th>GoldSummary</th>\n",
       "      <th>BartSummary</th>\n",
       "      <th>T5Summary</th>\n",
       "    </tr>\n",
       "  </thead>\n",
       "  <tbody>\n",
       "    <tr>\n",
       "      <th>0</th>\n",
       "      <td>The Canadian company Research in Motion Rim, w...</td>\n",
       "      <td>The Canadian company Research in Motion Rim, w...</td>\n",
       "      <td>Preparing restructuring. Canadian company Rese...</td>\n",
       "      <td>Research in Motion Rim will prune employees gl...</td>\n",
       "    </tr>\n",
       "    <tr>\n",
       "      <th>1</th>\n",
       "      <td>Hillary Clinton, a Democratic Party candidate ...</td>\n",
       "      <td>Hillary Clinton's health that suddenly deterio...</td>\n",
       "      <td>This news has not been edited by the NDTV team...</td>\n",
       "      <td>Read the doctor's statement.Read the NDTV news...</td>\n",
       "    </tr>\n",
       "    <tr>\n",
       "      <th>2</th>\n",
       "      <td>Aditya Ghosh, President and director of Indigo...</td>\n",
       "      <td>Indigo's ground staff has apologized for this ...</td>\n",
       "      <td>itya Ghosh, President and director of Indigo A...</td>\n",
       "      <td>Aditya Ghosh, President and director of Indigo...</td>\n",
       "    </tr>\n",
       "    <tr>\n",
       "      <th>3</th>\n",
       "      <td>Mejan Jafri, who made her Bollywood debut with...</td>\n",
       "      <td>Meijan Jafri opted out to Nanda, a good friend...</td>\n",
       "      <td>jan Jafri, who made her Bollywood debut with S...</td>\n",
       "      <td>Talk to the media about Navya Naveli Nanda.Tal...</td>\n",
       "    </tr>\n",
       "    <tr>\n",
       "      <th>4</th>\n",
       "      <td>The SIT is being investigated by the Uttar Pra...</td>\n",
       "      <td>The supporters had reached outside the police ...</td>\n",
       "      <td>Uttar Pradesh SIT is being investigated by the...</td>\n",
       "      <td>Investigate the MLA Kuldeep Singh Sengar in th...</td>\n",
       "    </tr>\n",
       "  </tbody>\n",
       "</table>\n",
       "</div>"
      ],
      "text/plain": [
       "                                            Articles  \\\n",
       "0  The Canadian company Research in Motion Rim, w...   \n",
       "1  Hillary Clinton, a Democratic Party candidate ...   \n",
       "2  Aditya Ghosh, President and director of Indigo...   \n",
       "3  Mejan Jafri, who made her Bollywood debut with...   \n",
       "4  The SIT is being investigated by the Uttar Pra...   \n",
       "\n",
       "                                         GoldSummary  \\\n",
       "0  The Canadian company Research in Motion Rim, w...   \n",
       "1  Hillary Clinton's health that suddenly deterio...   \n",
       "2  Indigo's ground staff has apologized for this ...   \n",
       "3  Meijan Jafri opted out to Nanda, a good friend...   \n",
       "4  The supporters had reached outside the police ...   \n",
       "\n",
       "                                         BartSummary  \\\n",
       "0  Preparing restructuring. Canadian company Rese...   \n",
       "1  This news has not been edited by the NDTV team...   \n",
       "2  itya Ghosh, President and director of Indigo A...   \n",
       "3  jan Jafri, who made her Bollywood debut with S...   \n",
       "4  Uttar Pradesh SIT is being investigated by the...   \n",
       "\n",
       "                                           T5Summary  \n",
       "0  Research in Motion Rim will prune employees gl...  \n",
       "1  Read the doctor's statement.Read the NDTV news...  \n",
       "2  Aditya Ghosh, President and director of Indigo...  \n",
       "3  Talk to the media about Navya Naveli Nanda.Tal...  \n",
       "4  Investigate the MLA Kuldeep Singh Sengar in th...  "
      ]
     },
     "execution_count": 15,
     "metadata": {},
     "output_type": "execute_result"
    }
   ],
   "source": [
    "Summaries['T5Summary'] = SystemSummary1\n",
    "Summaries.head()"
   ]
  },
  {
   "cell_type": "code",
   "execution_count": 16,
   "id": "22f25010",
   "metadata": {},
   "outputs": [
    {
     "data": {
      "text/html": [
       "<div>\n",
       "<style scoped>\n",
       "    .dataframe tbody tr th:only-of-type {\n",
       "        vertical-align: middle;\n",
       "    }\n",
       "\n",
       "    .dataframe tbody tr th {\n",
       "        vertical-align: top;\n",
       "    }\n",
       "\n",
       "    .dataframe thead th {\n",
       "        text-align: right;\n",
       "    }\n",
       "</style>\n",
       "<table border=\"1\" class=\"dataframe\">\n",
       "  <thead>\n",
       "    <tr style=\"text-align: right;\">\n",
       "      <th></th>\n",
       "      <th>rouge-1</th>\n",
       "      <th>rouge-2</th>\n",
       "      <th>rouge-l</th>\n",
       "    </tr>\n",
       "  </thead>\n",
       "  <tbody>\n",
       "    <tr>\n",
       "      <th>recall</th>\n",
       "      <td>0.284098</td>\n",
       "      <td>0.105003</td>\n",
       "      <td>0.246019</td>\n",
       "    </tr>\n",
       "    <tr>\n",
       "      <th>precision</th>\n",
       "      <td>0.264281</td>\n",
       "      <td>0.091502</td>\n",
       "      <td>0.229752</td>\n",
       "    </tr>\n",
       "    <tr>\n",
       "      <th>f-measure</th>\n",
       "      <td>0.264988</td>\n",
       "      <td>0.094022</td>\n",
       "      <td>0.230122</td>\n",
       "    </tr>\n",
       "  </tbody>\n",
       "</table>\n",
       "</div>"
      ],
      "text/plain": [
       "            rouge-1   rouge-2   rouge-l\n",
       "recall     0.284098  0.105003  0.246019\n",
       "precision  0.264281  0.091502  0.229752\n",
       "f-measure  0.264988  0.094022  0.230122"
      ]
     },
     "execution_count": 16,
     "metadata": {},
     "output_type": "execute_result"
    }
   ],
   "source": [
    "rouge = Rouge()\n",
    "score = rouge.get_scores(Summaries['T5Summary'], Summaries['GoldSummary'], avg=True)\n",
    "T5Rouge = pd.DataFrame(score).set_index([['recall','precision','f-measure']])\n",
    "T5Rouge"
   ]
  },
  {
   "cell_type": "code",
   "execution_count": 17,
   "id": "49422fcf",
   "metadata": {},
   "outputs": [
    {
     "data": {
      "application/vnd.plotly.v1+json": {
       "config": {
        "plotlyServerURL": "https://plot.ly"
       },
       "data": [
        {
         "alignmentgroup": "True",
         "hovertemplate": "legend=rouge-1<br>Metrics=%{x}<br>Rouge Score=%{y}<extra></extra>",
         "legendgroup": "rouge-1",
         "marker": {
          "color": "#940000",
          "pattern": {
           "shape": ""
          }
         },
         "name": "rouge-1",
         "offsetgroup": "rouge-1",
         "orientation": "v",
         "showlegend": true,
         "textposition": "auto",
         "texttemplate": "%{y:.2s}",
         "type": "bar",
         "x": [
          "recall",
          "precision",
          "f-measure"
         ],
         "xaxis": "x",
         "y": [
          45.4576465813328,
          26.34402191899475,
          32.68291983052875
         ],
         "yaxis": "y"
        },
        {
         "alignmentgroup": "True",
         "hovertemplate": "legend=rouge-2<br>Metrics=%{x}<br>Rouge Score=%{y}<extra></extra>",
         "legendgroup": "rouge-2",
         "marker": {
          "color": "#FFFDD0",
          "pattern": {
           "shape": ""
          }
         },
         "name": "rouge-2",
         "offsetgroup": "rouge-2",
         "orientation": "v",
         "showlegend": true,
         "textposition": "auto",
         "texttemplate": "%{y:.2s}",
         "type": "bar",
         "x": [
          "recall",
          "precision",
          "f-measure"
         ],
         "xaxis": "x",
         "y": [
          24.348593210156377,
          12.551449551175539,
          16.220573100986403
         ],
         "yaxis": "y"
        },
        {
         "alignmentgroup": "True",
         "hovertemplate": "legend=rouge-l<br>Metrics=%{x}<br>Rouge Score=%{y}<extra></extra>",
         "legendgroup": "rouge-l",
         "marker": {
          "color": "#FFCCCB",
          "pattern": {
           "shape": ""
          }
         },
         "name": "rouge-l",
         "offsetgroup": "rouge-l",
         "orientation": "v",
         "showlegend": true,
         "textposition": "auto",
         "texttemplate": "%{y:.2s}",
         "type": "bar",
         "x": [
          "recall",
          "precision",
          "f-measure"
         ],
         "xaxis": "x",
         "y": [
          39.530521108918286,
          22.88848715483787,
          28.39099727198256
         ],
         "yaxis": "y"
        }
       ],
       "layout": {
        "barmode": "group",
        "height": 400,
        "legend": {
         "title": {
          "text": "legend"
         },
         "tracegroupgap": 0
        },
        "margin": {
         "t": 60
        },
        "template": {
         "data": {
          "bar": [
           {
            "error_x": {
             "color": "#2a3f5f"
            },
            "error_y": {
             "color": "#2a3f5f"
            },
            "marker": {
             "line": {
              "color": "#E5ECF6",
              "width": 0.5
             },
             "pattern": {
              "fillmode": "overlay",
              "size": 10,
              "solidity": 0.2
             }
            },
            "type": "bar"
           }
          ],
          "barpolar": [
           {
            "marker": {
             "line": {
              "color": "#E5ECF6",
              "width": 0.5
             },
             "pattern": {
              "fillmode": "overlay",
              "size": 10,
              "solidity": 0.2
             }
            },
            "type": "barpolar"
           }
          ],
          "carpet": [
           {
            "aaxis": {
             "endlinecolor": "#2a3f5f",
             "gridcolor": "white",
             "linecolor": "white",
             "minorgridcolor": "white",
             "startlinecolor": "#2a3f5f"
            },
            "baxis": {
             "endlinecolor": "#2a3f5f",
             "gridcolor": "white",
             "linecolor": "white",
             "minorgridcolor": "white",
             "startlinecolor": "#2a3f5f"
            },
            "type": "carpet"
           }
          ],
          "choropleth": [
           {
            "colorbar": {
             "outlinewidth": 0,
             "ticks": ""
            },
            "type": "choropleth"
           }
          ],
          "contour": [
           {
            "colorbar": {
             "outlinewidth": 0,
             "ticks": ""
            },
            "colorscale": [
             [
              0,
              "#0d0887"
             ],
             [
              0.1111111111111111,
              "#46039f"
             ],
             [
              0.2222222222222222,
              "#7201a8"
             ],
             [
              0.3333333333333333,
              "#9c179e"
             ],
             [
              0.4444444444444444,
              "#bd3786"
             ],
             [
              0.5555555555555556,
              "#d8576b"
             ],
             [
              0.6666666666666666,
              "#ed7953"
             ],
             [
              0.7777777777777778,
              "#fb9f3a"
             ],
             [
              0.8888888888888888,
              "#fdca26"
             ],
             [
              1,
              "#f0f921"
             ]
            ],
            "type": "contour"
           }
          ],
          "contourcarpet": [
           {
            "colorbar": {
             "outlinewidth": 0,
             "ticks": ""
            },
            "type": "contourcarpet"
           }
          ],
          "heatmap": [
           {
            "colorbar": {
             "outlinewidth": 0,
             "ticks": ""
            },
            "colorscale": [
             [
              0,
              "#0d0887"
             ],
             [
              0.1111111111111111,
              "#46039f"
             ],
             [
              0.2222222222222222,
              "#7201a8"
             ],
             [
              0.3333333333333333,
              "#9c179e"
             ],
             [
              0.4444444444444444,
              "#bd3786"
             ],
             [
              0.5555555555555556,
              "#d8576b"
             ],
             [
              0.6666666666666666,
              "#ed7953"
             ],
             [
              0.7777777777777778,
              "#fb9f3a"
             ],
             [
              0.8888888888888888,
              "#fdca26"
             ],
             [
              1,
              "#f0f921"
             ]
            ],
            "type": "heatmap"
           }
          ],
          "heatmapgl": [
           {
            "colorbar": {
             "outlinewidth": 0,
             "ticks": ""
            },
            "colorscale": [
             [
              0,
              "#0d0887"
             ],
             [
              0.1111111111111111,
              "#46039f"
             ],
             [
              0.2222222222222222,
              "#7201a8"
             ],
             [
              0.3333333333333333,
              "#9c179e"
             ],
             [
              0.4444444444444444,
              "#bd3786"
             ],
             [
              0.5555555555555556,
              "#d8576b"
             ],
             [
              0.6666666666666666,
              "#ed7953"
             ],
             [
              0.7777777777777778,
              "#fb9f3a"
             ],
             [
              0.8888888888888888,
              "#fdca26"
             ],
             [
              1,
              "#f0f921"
             ]
            ],
            "type": "heatmapgl"
           }
          ],
          "histogram": [
           {
            "marker": {
             "pattern": {
              "fillmode": "overlay",
              "size": 10,
              "solidity": 0.2
             }
            },
            "type": "histogram"
           }
          ],
          "histogram2d": [
           {
            "colorbar": {
             "outlinewidth": 0,
             "ticks": ""
            },
            "colorscale": [
             [
              0,
              "#0d0887"
             ],
             [
              0.1111111111111111,
              "#46039f"
             ],
             [
              0.2222222222222222,
              "#7201a8"
             ],
             [
              0.3333333333333333,
              "#9c179e"
             ],
             [
              0.4444444444444444,
              "#bd3786"
             ],
             [
              0.5555555555555556,
              "#d8576b"
             ],
             [
              0.6666666666666666,
              "#ed7953"
             ],
             [
              0.7777777777777778,
              "#fb9f3a"
             ],
             [
              0.8888888888888888,
              "#fdca26"
             ],
             [
              1,
              "#f0f921"
             ]
            ],
            "type": "histogram2d"
           }
          ],
          "histogram2dcontour": [
           {
            "colorbar": {
             "outlinewidth": 0,
             "ticks": ""
            },
            "colorscale": [
             [
              0,
              "#0d0887"
             ],
             [
              0.1111111111111111,
              "#46039f"
             ],
             [
              0.2222222222222222,
              "#7201a8"
             ],
             [
              0.3333333333333333,
              "#9c179e"
             ],
             [
              0.4444444444444444,
              "#bd3786"
             ],
             [
              0.5555555555555556,
              "#d8576b"
             ],
             [
              0.6666666666666666,
              "#ed7953"
             ],
             [
              0.7777777777777778,
              "#fb9f3a"
             ],
             [
              0.8888888888888888,
              "#fdca26"
             ],
             [
              1,
              "#f0f921"
             ]
            ],
            "type": "histogram2dcontour"
           }
          ],
          "mesh3d": [
           {
            "colorbar": {
             "outlinewidth": 0,
             "ticks": ""
            },
            "type": "mesh3d"
           }
          ],
          "parcoords": [
           {
            "line": {
             "colorbar": {
              "outlinewidth": 0,
              "ticks": ""
             }
            },
            "type": "parcoords"
           }
          ],
          "pie": [
           {
            "automargin": true,
            "type": "pie"
           }
          ],
          "scatter": [
           {
            "fillpattern": {
             "fillmode": "overlay",
             "size": 10,
             "solidity": 0.2
            },
            "type": "scatter"
           }
          ],
          "scatter3d": [
           {
            "line": {
             "colorbar": {
              "outlinewidth": 0,
              "ticks": ""
             }
            },
            "marker": {
             "colorbar": {
              "outlinewidth": 0,
              "ticks": ""
             }
            },
            "type": "scatter3d"
           }
          ],
          "scattercarpet": [
           {
            "marker": {
             "colorbar": {
              "outlinewidth": 0,
              "ticks": ""
             }
            },
            "type": "scattercarpet"
           }
          ],
          "scattergeo": [
           {
            "marker": {
             "colorbar": {
              "outlinewidth": 0,
              "ticks": ""
             }
            },
            "type": "scattergeo"
           }
          ],
          "scattergl": [
           {
            "marker": {
             "colorbar": {
              "outlinewidth": 0,
              "ticks": ""
             }
            },
            "type": "scattergl"
           }
          ],
          "scattermapbox": [
           {
            "marker": {
             "colorbar": {
              "outlinewidth": 0,
              "ticks": ""
             }
            },
            "type": "scattermapbox"
           }
          ],
          "scatterpolar": [
           {
            "marker": {
             "colorbar": {
              "outlinewidth": 0,
              "ticks": ""
             }
            },
            "type": "scatterpolar"
           }
          ],
          "scatterpolargl": [
           {
            "marker": {
             "colorbar": {
              "outlinewidth": 0,
              "ticks": ""
             }
            },
            "type": "scatterpolargl"
           }
          ],
          "scatterternary": [
           {
            "marker": {
             "colorbar": {
              "outlinewidth": 0,
              "ticks": ""
             }
            },
            "type": "scatterternary"
           }
          ],
          "surface": [
           {
            "colorbar": {
             "outlinewidth": 0,
             "ticks": ""
            },
            "colorscale": [
             [
              0,
              "#0d0887"
             ],
             [
              0.1111111111111111,
              "#46039f"
             ],
             [
              0.2222222222222222,
              "#7201a8"
             ],
             [
              0.3333333333333333,
              "#9c179e"
             ],
             [
              0.4444444444444444,
              "#bd3786"
             ],
             [
              0.5555555555555556,
              "#d8576b"
             ],
             [
              0.6666666666666666,
              "#ed7953"
             ],
             [
              0.7777777777777778,
              "#fb9f3a"
             ],
             [
              0.8888888888888888,
              "#fdca26"
             ],
             [
              1,
              "#f0f921"
             ]
            ],
            "type": "surface"
           }
          ],
          "table": [
           {
            "cells": {
             "fill": {
              "color": "#EBF0F8"
             },
             "line": {
              "color": "white"
             }
            },
            "header": {
             "fill": {
              "color": "#C8D4E3"
             },
             "line": {
              "color": "white"
             }
            },
            "type": "table"
           }
          ]
         },
         "layout": {
          "annotationdefaults": {
           "arrowcolor": "#2a3f5f",
           "arrowhead": 0,
           "arrowwidth": 1
          },
          "autotypenumbers": "strict",
          "coloraxis": {
           "colorbar": {
            "outlinewidth": 0,
            "ticks": ""
           }
          },
          "colorscale": {
           "diverging": [
            [
             0,
             "#8e0152"
            ],
            [
             0.1,
             "#c51b7d"
            ],
            [
             0.2,
             "#de77ae"
            ],
            [
             0.3,
             "#f1b6da"
            ],
            [
             0.4,
             "#fde0ef"
            ],
            [
             0.5,
             "#f7f7f7"
            ],
            [
             0.6,
             "#e6f5d0"
            ],
            [
             0.7,
             "#b8e186"
            ],
            [
             0.8,
             "#7fbc41"
            ],
            [
             0.9,
             "#4d9221"
            ],
            [
             1,
             "#276419"
            ]
           ],
           "sequential": [
            [
             0,
             "#0d0887"
            ],
            [
             0.1111111111111111,
             "#46039f"
            ],
            [
             0.2222222222222222,
             "#7201a8"
            ],
            [
             0.3333333333333333,
             "#9c179e"
            ],
            [
             0.4444444444444444,
             "#bd3786"
            ],
            [
             0.5555555555555556,
             "#d8576b"
            ],
            [
             0.6666666666666666,
             "#ed7953"
            ],
            [
             0.7777777777777778,
             "#fb9f3a"
            ],
            [
             0.8888888888888888,
             "#fdca26"
            ],
            [
             1,
             "#f0f921"
            ]
           ],
           "sequentialminus": [
            [
             0,
             "#0d0887"
            ],
            [
             0.1111111111111111,
             "#46039f"
            ],
            [
             0.2222222222222222,
             "#7201a8"
            ],
            [
             0.3333333333333333,
             "#9c179e"
            ],
            [
             0.4444444444444444,
             "#bd3786"
            ],
            [
             0.5555555555555556,
             "#d8576b"
            ],
            [
             0.6666666666666666,
             "#ed7953"
            ],
            [
             0.7777777777777778,
             "#fb9f3a"
            ],
            [
             0.8888888888888888,
             "#fdca26"
            ],
            [
             1,
             "#f0f921"
            ]
           ]
          },
          "colorway": [
           "#636efa",
           "#EF553B",
           "#00cc96",
           "#ab63fa",
           "#FFA15A",
           "#19d3f3",
           "#FF6692",
           "#B6E880",
           "#FF97FF",
           "#FECB52"
          ],
          "font": {
           "color": "#2a3f5f"
          },
          "geo": {
           "bgcolor": "white",
           "lakecolor": "white",
           "landcolor": "#E5ECF6",
           "showlakes": true,
           "showland": true,
           "subunitcolor": "white"
          },
          "hoverlabel": {
           "align": "left"
          },
          "hovermode": "closest",
          "mapbox": {
           "style": "light"
          },
          "paper_bgcolor": "white",
          "plot_bgcolor": "#E5ECF6",
          "polar": {
           "angularaxis": {
            "gridcolor": "white",
            "linecolor": "white",
            "ticks": ""
           },
           "bgcolor": "#E5ECF6",
           "radialaxis": {
            "gridcolor": "white",
            "linecolor": "white",
            "ticks": ""
           }
          },
          "scene": {
           "xaxis": {
            "backgroundcolor": "#E5ECF6",
            "gridcolor": "white",
            "gridwidth": 2,
            "linecolor": "white",
            "showbackground": true,
            "ticks": "",
            "zerolinecolor": "white"
           },
           "yaxis": {
            "backgroundcolor": "#E5ECF6",
            "gridcolor": "white",
            "gridwidth": 2,
            "linecolor": "white",
            "showbackground": true,
            "ticks": "",
            "zerolinecolor": "white"
           },
           "zaxis": {
            "backgroundcolor": "#E5ECF6",
            "gridcolor": "white",
            "gridwidth": 2,
            "linecolor": "white",
            "showbackground": true,
            "ticks": "",
            "zerolinecolor": "white"
           }
          },
          "shapedefaults": {
           "line": {
            "color": "#2a3f5f"
           }
          },
          "ternary": {
           "aaxis": {
            "gridcolor": "white",
            "linecolor": "white",
            "ticks": ""
           },
           "baxis": {
            "gridcolor": "white",
            "linecolor": "white",
            "ticks": ""
           },
           "bgcolor": "#E5ECF6",
           "caxis": {
            "gridcolor": "white",
            "linecolor": "white",
            "ticks": ""
           }
          },
          "title": {
           "x": 0.05
          },
          "xaxis": {
           "automargin": true,
           "gridcolor": "white",
           "linecolor": "white",
           "ticks": "",
           "title": {
            "standoff": 15
           },
           "zerolinecolor": "white",
           "zerolinewidth": 2
          },
          "yaxis": {
           "automargin": true,
           "gridcolor": "white",
           "linecolor": "white",
           "ticks": "",
           "title": {
            "standoff": 15
           },
           "zerolinecolor": "white",
           "zerolinewidth": 2
          }
         }
        },
        "title": {
         "text": "Bart Rouge Score",
         "x": 0.49,
         "xanchor": "center",
         "y": 0.96,
         "yanchor": "top"
        },
        "width": 650,
        "xaxis": {
         "anchor": "y",
         "domain": [
          0,
          1
         ],
         "title": {
          "text": "Metrics"
         }
        },
        "yaxis": {
         "anchor": "x",
         "domain": [
          0,
          1
         ],
         "title": {
          "text": "Rouge Score"
         }
        }
       }
      },
      "text/html": [
       "<div>                            <div id=\"3045d30d-e5f4-4ae6-93f3-4dc853490633\" class=\"plotly-graph-div\" style=\"height:400px; width:650px;\"></div>            <script type=\"text/javascript\">                require([\"plotly\"], function(Plotly) {                    window.PLOTLYENV=window.PLOTLYENV || {};                                    if (document.getElementById(\"3045d30d-e5f4-4ae6-93f3-4dc853490633\")) {                    Plotly.newPlot(                        \"3045d30d-e5f4-4ae6-93f3-4dc853490633\",                        [{\"alignmentgroup\":\"True\",\"hovertemplate\":\"legend=rouge-1<br>Metrics=%{x}<br>Rouge Score=%{y}<extra></extra>\",\"legendgroup\":\"rouge-1\",\"marker\":{\"color\":\"#940000\",\"pattern\":{\"shape\":\"\"}},\"name\":\"rouge-1\",\"offsetgroup\":\"rouge-1\",\"orientation\":\"v\",\"showlegend\":true,\"textposition\":\"auto\",\"texttemplate\":\"%{y:.2s}\",\"x\":[\"recall\",\"precision\",\"f-measure\"],\"xaxis\":\"x\",\"y\":[45.4576465813328,26.34402191899475,32.68291983052875],\"yaxis\":\"y\",\"type\":\"bar\"},{\"alignmentgroup\":\"True\",\"hovertemplate\":\"legend=rouge-2<br>Metrics=%{x}<br>Rouge Score=%{y}<extra></extra>\",\"legendgroup\":\"rouge-2\",\"marker\":{\"color\":\"#FFFDD0\",\"pattern\":{\"shape\":\"\"}},\"name\":\"rouge-2\",\"offsetgroup\":\"rouge-2\",\"orientation\":\"v\",\"showlegend\":true,\"textposition\":\"auto\",\"texttemplate\":\"%{y:.2s}\",\"x\":[\"recall\",\"precision\",\"f-measure\"],\"xaxis\":\"x\",\"y\":[24.348593210156377,12.551449551175539,16.220573100986403],\"yaxis\":\"y\",\"type\":\"bar\"},{\"alignmentgroup\":\"True\",\"hovertemplate\":\"legend=rouge-l<br>Metrics=%{x}<br>Rouge Score=%{y}<extra></extra>\",\"legendgroup\":\"rouge-l\",\"marker\":{\"color\":\"#FFCCCB\",\"pattern\":{\"shape\":\"\"}},\"name\":\"rouge-l\",\"offsetgroup\":\"rouge-l\",\"orientation\":\"v\",\"showlegend\":true,\"textposition\":\"auto\",\"texttemplate\":\"%{y:.2s}\",\"x\":[\"recall\",\"precision\",\"f-measure\"],\"xaxis\":\"x\",\"y\":[39.530521108918286,22.88848715483787,28.39099727198256],\"yaxis\":\"y\",\"type\":\"bar\"}],                        {\"template\":{\"data\":{\"histogram2dcontour\":[{\"type\":\"histogram2dcontour\",\"colorbar\":{\"outlinewidth\":0,\"ticks\":\"\"},\"colorscale\":[[0.0,\"#0d0887\"],[0.1111111111111111,\"#46039f\"],[0.2222222222222222,\"#7201a8\"],[0.3333333333333333,\"#9c179e\"],[0.4444444444444444,\"#bd3786\"],[0.5555555555555556,\"#d8576b\"],[0.6666666666666666,\"#ed7953\"],[0.7777777777777778,\"#fb9f3a\"],[0.8888888888888888,\"#fdca26\"],[1.0,\"#f0f921\"]]}],\"choropleth\":[{\"type\":\"choropleth\",\"colorbar\":{\"outlinewidth\":0,\"ticks\":\"\"}}],\"histogram2d\":[{\"type\":\"histogram2d\",\"colorbar\":{\"outlinewidth\":0,\"ticks\":\"\"},\"colorscale\":[[0.0,\"#0d0887\"],[0.1111111111111111,\"#46039f\"],[0.2222222222222222,\"#7201a8\"],[0.3333333333333333,\"#9c179e\"],[0.4444444444444444,\"#bd3786\"],[0.5555555555555556,\"#d8576b\"],[0.6666666666666666,\"#ed7953\"],[0.7777777777777778,\"#fb9f3a\"],[0.8888888888888888,\"#fdca26\"],[1.0,\"#f0f921\"]]}],\"heatmap\":[{\"type\":\"heatmap\",\"colorbar\":{\"outlinewidth\":0,\"ticks\":\"\"},\"colorscale\":[[0.0,\"#0d0887\"],[0.1111111111111111,\"#46039f\"],[0.2222222222222222,\"#7201a8\"],[0.3333333333333333,\"#9c179e\"],[0.4444444444444444,\"#bd3786\"],[0.5555555555555556,\"#d8576b\"],[0.6666666666666666,\"#ed7953\"],[0.7777777777777778,\"#fb9f3a\"],[0.8888888888888888,\"#fdca26\"],[1.0,\"#f0f921\"]]}],\"heatmapgl\":[{\"type\":\"heatmapgl\",\"colorbar\":{\"outlinewidth\":0,\"ticks\":\"\"},\"colorscale\":[[0.0,\"#0d0887\"],[0.1111111111111111,\"#46039f\"],[0.2222222222222222,\"#7201a8\"],[0.3333333333333333,\"#9c179e\"],[0.4444444444444444,\"#bd3786\"],[0.5555555555555556,\"#d8576b\"],[0.6666666666666666,\"#ed7953\"],[0.7777777777777778,\"#fb9f3a\"],[0.8888888888888888,\"#fdca26\"],[1.0,\"#f0f921\"]]}],\"contourcarpet\":[{\"type\":\"contourcarpet\",\"colorbar\":{\"outlinewidth\":0,\"ticks\":\"\"}}],\"contour\":[{\"type\":\"contour\",\"colorbar\":{\"outlinewidth\":0,\"ticks\":\"\"},\"colorscale\":[[0.0,\"#0d0887\"],[0.1111111111111111,\"#46039f\"],[0.2222222222222222,\"#7201a8\"],[0.3333333333333333,\"#9c179e\"],[0.4444444444444444,\"#bd3786\"],[0.5555555555555556,\"#d8576b\"],[0.6666666666666666,\"#ed7953\"],[0.7777777777777778,\"#fb9f3a\"],[0.8888888888888888,\"#fdca26\"],[1.0,\"#f0f921\"]]}],\"surface\":[{\"type\":\"surface\",\"colorbar\":{\"outlinewidth\":0,\"ticks\":\"\"},\"colorscale\":[[0.0,\"#0d0887\"],[0.1111111111111111,\"#46039f\"],[0.2222222222222222,\"#7201a8\"],[0.3333333333333333,\"#9c179e\"],[0.4444444444444444,\"#bd3786\"],[0.5555555555555556,\"#d8576b\"],[0.6666666666666666,\"#ed7953\"],[0.7777777777777778,\"#fb9f3a\"],[0.8888888888888888,\"#fdca26\"],[1.0,\"#f0f921\"]]}],\"mesh3d\":[{\"type\":\"mesh3d\",\"colorbar\":{\"outlinewidth\":0,\"ticks\":\"\"}}],\"scatter\":[{\"fillpattern\":{\"fillmode\":\"overlay\",\"size\":10,\"solidity\":0.2},\"type\":\"scatter\"}],\"parcoords\":[{\"type\":\"parcoords\",\"line\":{\"colorbar\":{\"outlinewidth\":0,\"ticks\":\"\"}}}],\"scatterpolargl\":[{\"type\":\"scatterpolargl\",\"marker\":{\"colorbar\":{\"outlinewidth\":0,\"ticks\":\"\"}}}],\"bar\":[{\"error_x\":{\"color\":\"#2a3f5f\"},\"error_y\":{\"color\":\"#2a3f5f\"},\"marker\":{\"line\":{\"color\":\"#E5ECF6\",\"width\":0.5},\"pattern\":{\"fillmode\":\"overlay\",\"size\":10,\"solidity\":0.2}},\"type\":\"bar\"}],\"scattergeo\":[{\"type\":\"scattergeo\",\"marker\":{\"colorbar\":{\"outlinewidth\":0,\"ticks\":\"\"}}}],\"scatterpolar\":[{\"type\":\"scatterpolar\",\"marker\":{\"colorbar\":{\"outlinewidth\":0,\"ticks\":\"\"}}}],\"histogram\":[{\"marker\":{\"pattern\":{\"fillmode\":\"overlay\",\"size\":10,\"solidity\":0.2}},\"type\":\"histogram\"}],\"scattergl\":[{\"type\":\"scattergl\",\"marker\":{\"colorbar\":{\"outlinewidth\":0,\"ticks\":\"\"}}}],\"scatter3d\":[{\"type\":\"scatter3d\",\"line\":{\"colorbar\":{\"outlinewidth\":0,\"ticks\":\"\"}},\"marker\":{\"colorbar\":{\"outlinewidth\":0,\"ticks\":\"\"}}}],\"scattermapbox\":[{\"type\":\"scattermapbox\",\"marker\":{\"colorbar\":{\"outlinewidth\":0,\"ticks\":\"\"}}}],\"scatterternary\":[{\"type\":\"scatterternary\",\"marker\":{\"colorbar\":{\"outlinewidth\":0,\"ticks\":\"\"}}}],\"scattercarpet\":[{\"type\":\"scattercarpet\",\"marker\":{\"colorbar\":{\"outlinewidth\":0,\"ticks\":\"\"}}}],\"carpet\":[{\"aaxis\":{\"endlinecolor\":\"#2a3f5f\",\"gridcolor\":\"white\",\"linecolor\":\"white\",\"minorgridcolor\":\"white\",\"startlinecolor\":\"#2a3f5f\"},\"baxis\":{\"endlinecolor\":\"#2a3f5f\",\"gridcolor\":\"white\",\"linecolor\":\"white\",\"minorgridcolor\":\"white\",\"startlinecolor\":\"#2a3f5f\"},\"type\":\"carpet\"}],\"table\":[{\"cells\":{\"fill\":{\"color\":\"#EBF0F8\"},\"line\":{\"color\":\"white\"}},\"header\":{\"fill\":{\"color\":\"#C8D4E3\"},\"line\":{\"color\":\"white\"}},\"type\":\"table\"}],\"barpolar\":[{\"marker\":{\"line\":{\"color\":\"#E5ECF6\",\"width\":0.5},\"pattern\":{\"fillmode\":\"overlay\",\"size\":10,\"solidity\":0.2}},\"type\":\"barpolar\"}],\"pie\":[{\"automargin\":true,\"type\":\"pie\"}]},\"layout\":{\"autotypenumbers\":\"strict\",\"colorway\":[\"#636efa\",\"#EF553B\",\"#00cc96\",\"#ab63fa\",\"#FFA15A\",\"#19d3f3\",\"#FF6692\",\"#B6E880\",\"#FF97FF\",\"#FECB52\"],\"font\":{\"color\":\"#2a3f5f\"},\"hovermode\":\"closest\",\"hoverlabel\":{\"align\":\"left\"},\"paper_bgcolor\":\"white\",\"plot_bgcolor\":\"#E5ECF6\",\"polar\":{\"bgcolor\":\"#E5ECF6\",\"angularaxis\":{\"gridcolor\":\"white\",\"linecolor\":\"white\",\"ticks\":\"\"},\"radialaxis\":{\"gridcolor\":\"white\",\"linecolor\":\"white\",\"ticks\":\"\"}},\"ternary\":{\"bgcolor\":\"#E5ECF6\",\"aaxis\":{\"gridcolor\":\"white\",\"linecolor\":\"white\",\"ticks\":\"\"},\"baxis\":{\"gridcolor\":\"white\",\"linecolor\":\"white\",\"ticks\":\"\"},\"caxis\":{\"gridcolor\":\"white\",\"linecolor\":\"white\",\"ticks\":\"\"}},\"coloraxis\":{\"colorbar\":{\"outlinewidth\":0,\"ticks\":\"\"}},\"colorscale\":{\"sequential\":[[0.0,\"#0d0887\"],[0.1111111111111111,\"#46039f\"],[0.2222222222222222,\"#7201a8\"],[0.3333333333333333,\"#9c179e\"],[0.4444444444444444,\"#bd3786\"],[0.5555555555555556,\"#d8576b\"],[0.6666666666666666,\"#ed7953\"],[0.7777777777777778,\"#fb9f3a\"],[0.8888888888888888,\"#fdca26\"],[1.0,\"#f0f921\"]],\"sequentialminus\":[[0.0,\"#0d0887\"],[0.1111111111111111,\"#46039f\"],[0.2222222222222222,\"#7201a8\"],[0.3333333333333333,\"#9c179e\"],[0.4444444444444444,\"#bd3786\"],[0.5555555555555556,\"#d8576b\"],[0.6666666666666666,\"#ed7953\"],[0.7777777777777778,\"#fb9f3a\"],[0.8888888888888888,\"#fdca26\"],[1.0,\"#f0f921\"]],\"diverging\":[[0,\"#8e0152\"],[0.1,\"#c51b7d\"],[0.2,\"#de77ae\"],[0.3,\"#f1b6da\"],[0.4,\"#fde0ef\"],[0.5,\"#f7f7f7\"],[0.6,\"#e6f5d0\"],[0.7,\"#b8e186\"],[0.8,\"#7fbc41\"],[0.9,\"#4d9221\"],[1,\"#276419\"]]},\"xaxis\":{\"gridcolor\":\"white\",\"linecolor\":\"white\",\"ticks\":\"\",\"title\":{\"standoff\":15},\"zerolinecolor\":\"white\",\"automargin\":true,\"zerolinewidth\":2},\"yaxis\":{\"gridcolor\":\"white\",\"linecolor\":\"white\",\"ticks\":\"\",\"title\":{\"standoff\":15},\"zerolinecolor\":\"white\",\"automargin\":true,\"zerolinewidth\":2},\"scene\":{\"xaxis\":{\"backgroundcolor\":\"#E5ECF6\",\"gridcolor\":\"white\",\"linecolor\":\"white\",\"showbackground\":true,\"ticks\":\"\",\"zerolinecolor\":\"white\",\"gridwidth\":2},\"yaxis\":{\"backgroundcolor\":\"#E5ECF6\",\"gridcolor\":\"white\",\"linecolor\":\"white\",\"showbackground\":true,\"ticks\":\"\",\"zerolinecolor\":\"white\",\"gridwidth\":2},\"zaxis\":{\"backgroundcolor\":\"#E5ECF6\",\"gridcolor\":\"white\",\"linecolor\":\"white\",\"showbackground\":true,\"ticks\":\"\",\"zerolinecolor\":\"white\",\"gridwidth\":2}},\"shapedefaults\":{\"line\":{\"color\":\"#2a3f5f\"}},\"annotationdefaults\":{\"arrowcolor\":\"#2a3f5f\",\"arrowhead\":0,\"arrowwidth\":1},\"geo\":{\"bgcolor\":\"white\",\"landcolor\":\"#E5ECF6\",\"subunitcolor\":\"white\",\"showland\":true,\"showlakes\":true,\"lakecolor\":\"white\"},\"title\":{\"x\":0.05},\"mapbox\":{\"style\":\"light\"}}},\"xaxis\":{\"anchor\":\"y\",\"domain\":[0.0,1.0],\"title\":{\"text\":\"Metrics\"}},\"yaxis\":{\"anchor\":\"x\",\"domain\":[0.0,1.0],\"title\":{\"text\":\"Rouge Score\"}},\"legend\":{\"title\":{\"text\":\"legend\"},\"tracegroupgap\":0},\"margin\":{\"t\":60},\"barmode\":\"group\",\"title\":{\"text\":\"Bart Rouge Score\",\"y\":0.96,\"x\":0.49,\"xanchor\":\"center\",\"yanchor\":\"top\"},\"width\":650,\"height\":400},                        {\"responsive\": true}                    ).then(function(){\n",
       "                            \n",
       "var gd = document.getElementById('3045d30d-e5f4-4ae6-93f3-4dc853490633');\n",
       "var x = new MutationObserver(function (mutations, observer) {{\n",
       "        var display = window.getComputedStyle(gd).display;\n",
       "        if (!display || display === 'none') {{\n",
       "            console.log([gd, 'removed!']);\n",
       "            Plotly.purge(gd);\n",
       "            observer.disconnect();\n",
       "        }}\n",
       "}});\n",
       "\n",
       "// Listen for the removal of the full notebook cells\n",
       "var notebookContainer = gd.closest('#notebook-container');\n",
       "if (notebookContainer) {{\n",
       "    x.observe(notebookContainer, {childList: true});\n",
       "}}\n",
       "\n",
       "// Listen for the clearing of the current output cell\n",
       "var outputEl = gd.closest('.output');\n",
       "if (outputEl) {{\n",
       "    x.observe(outputEl, {childList: true});\n",
       "}}\n",
       "\n",
       "                        })                };                });            </script>        </div>"
      ]
     },
     "metadata": {},
     "output_type": "display_data"
    }
   ],
   "source": [
    "# specify the colors you want to use\n",
    "colors = ['#940000', '#FFFDD0', '#FFCCCB']\n",
    "\n",
    "fig = px.bar(BartRouge*100, x=BartRouge.index, y=BartRouge.columns, \n",
    "             barmode='group', \n",
    "             text_auto='.2s',\n",
    "             labels={\n",
    "                     \"Algo\": \"Algorithms\",\n",
    "                     \"value\": \"Rouge Score\",\n",
    "                     \"variable\": \"legend\",\n",
    "                     'index': \"Metrics\"\n",
    "                 },color_discrete_sequence=colors)\n",
    "fig.update_layout( width=650,\n",
    "                  height=400,\n",
    "                title={\n",
    "                  'text': \"Bart Rouge Score\",\n",
    "                  'y':.96,\n",
    "                  'x':0.49,\n",
    "                  'xanchor': 'center',\n",
    "                  'yanchor': 'top'})\n",
    "\n",
    "fig.show()"
   ]
  },
  {
   "cell_type": "code",
   "execution_count": 20,
   "id": "5bec5208",
   "metadata": {},
   "outputs": [
    {
     "data": {
      "application/vnd.plotly.v1+json": {
       "config": {
        "plotlyServerURL": "https://plot.ly"
       },
       "data": [
        {
         "alignmentgroup": "True",
         "hovertemplate": "legend=rouge-1<br>Metrics=%{x}<br>Rouge Score=%{y}<extra></extra>",
         "legendgroup": "rouge-1",
         "marker": {
          "color": "#940000",
          "pattern": {
           "shape": ""
          }
         },
         "name": "rouge-1",
         "offsetgroup": "rouge-1",
         "orientation": "v",
         "showlegend": true,
         "textposition": "auto",
         "texttemplate": "%{y:.2s}",
         "type": "bar",
         "x": [
          "recall",
          "precision",
          "f-measure"
         ],
         "xaxis": "x",
         "y": [
          28.409792152695317,
          26.4280750026925,
          26.498805464914575
         ],
         "yaxis": "y"
        },
        {
         "alignmentgroup": "True",
         "hovertemplate": "legend=rouge-l<br>Metrics=%{x}<br>Rouge Score=%{y}<extra></extra>",
         "legendgroup": "rouge-l",
         "marker": {
          "color": "#FFFDD0",
          "pattern": {
           "shape": ""
          }
         },
         "name": "rouge-l",
         "offsetgroup": "rouge-l",
         "orientation": "v",
         "showlegend": true,
         "textposition": "auto",
         "texttemplate": "%{y:.2s}",
         "type": "bar",
         "x": [
          "recall",
          "precision",
          "f-measure"
         ],
         "xaxis": "x",
         "y": [
          24.601874460208144,
          22.975185716088482,
          23.012219349145514
         ],
         "yaxis": "y"
        },
        {
         "alignmentgroup": "True",
         "hovertemplate": "legend=rouge-2<br>Metrics=%{x}<br>Rouge Score=%{y}<extra></extra>",
         "legendgroup": "rouge-2",
         "marker": {
          "color": "#FFCCCB",
          "pattern": {
           "shape": ""
          }
         },
         "name": "rouge-2",
         "offsetgroup": "rouge-2",
         "orientation": "v",
         "showlegend": true,
         "textposition": "auto",
         "texttemplate": "%{y:.2s}",
         "type": "bar",
         "x": [
          "recall",
          "precision",
          "f-measure"
         ],
         "xaxis": "x",
         "y": [
          10.500336140632927,
          9.150179926316858,
          9.402193002301427
         ],
         "yaxis": "y"
        }
       ],
       "layout": {
        "barmode": "group",
        "height": 400,
        "legend": {
         "title": {
          "text": "legend"
         },
         "tracegroupgap": 0
        },
        "margin": {
         "t": 60
        },
        "template": {
         "data": {
          "bar": [
           {
            "error_x": {
             "color": "#2a3f5f"
            },
            "error_y": {
             "color": "#2a3f5f"
            },
            "marker": {
             "line": {
              "color": "#E5ECF6",
              "width": 0.5
             },
             "pattern": {
              "fillmode": "overlay",
              "size": 10,
              "solidity": 0.2
             }
            },
            "type": "bar"
           }
          ],
          "barpolar": [
           {
            "marker": {
             "line": {
              "color": "#E5ECF6",
              "width": 0.5
             },
             "pattern": {
              "fillmode": "overlay",
              "size": 10,
              "solidity": 0.2
             }
            },
            "type": "barpolar"
           }
          ],
          "carpet": [
           {
            "aaxis": {
             "endlinecolor": "#2a3f5f",
             "gridcolor": "white",
             "linecolor": "white",
             "minorgridcolor": "white",
             "startlinecolor": "#2a3f5f"
            },
            "baxis": {
             "endlinecolor": "#2a3f5f",
             "gridcolor": "white",
             "linecolor": "white",
             "minorgridcolor": "white",
             "startlinecolor": "#2a3f5f"
            },
            "type": "carpet"
           }
          ],
          "choropleth": [
           {
            "colorbar": {
             "outlinewidth": 0,
             "ticks": ""
            },
            "type": "choropleth"
           }
          ],
          "contour": [
           {
            "colorbar": {
             "outlinewidth": 0,
             "ticks": ""
            },
            "colorscale": [
             [
              0,
              "#0d0887"
             ],
             [
              0.1111111111111111,
              "#46039f"
             ],
             [
              0.2222222222222222,
              "#7201a8"
             ],
             [
              0.3333333333333333,
              "#9c179e"
             ],
             [
              0.4444444444444444,
              "#bd3786"
             ],
             [
              0.5555555555555556,
              "#d8576b"
             ],
             [
              0.6666666666666666,
              "#ed7953"
             ],
             [
              0.7777777777777778,
              "#fb9f3a"
             ],
             [
              0.8888888888888888,
              "#fdca26"
             ],
             [
              1,
              "#f0f921"
             ]
            ],
            "type": "contour"
           }
          ],
          "contourcarpet": [
           {
            "colorbar": {
             "outlinewidth": 0,
             "ticks": ""
            },
            "type": "contourcarpet"
           }
          ],
          "heatmap": [
           {
            "colorbar": {
             "outlinewidth": 0,
             "ticks": ""
            },
            "colorscale": [
             [
              0,
              "#0d0887"
             ],
             [
              0.1111111111111111,
              "#46039f"
             ],
             [
              0.2222222222222222,
              "#7201a8"
             ],
             [
              0.3333333333333333,
              "#9c179e"
             ],
             [
              0.4444444444444444,
              "#bd3786"
             ],
             [
              0.5555555555555556,
              "#d8576b"
             ],
             [
              0.6666666666666666,
              "#ed7953"
             ],
             [
              0.7777777777777778,
              "#fb9f3a"
             ],
             [
              0.8888888888888888,
              "#fdca26"
             ],
             [
              1,
              "#f0f921"
             ]
            ],
            "type": "heatmap"
           }
          ],
          "heatmapgl": [
           {
            "colorbar": {
             "outlinewidth": 0,
             "ticks": ""
            },
            "colorscale": [
             [
              0,
              "#0d0887"
             ],
             [
              0.1111111111111111,
              "#46039f"
             ],
             [
              0.2222222222222222,
              "#7201a8"
             ],
             [
              0.3333333333333333,
              "#9c179e"
             ],
             [
              0.4444444444444444,
              "#bd3786"
             ],
             [
              0.5555555555555556,
              "#d8576b"
             ],
             [
              0.6666666666666666,
              "#ed7953"
             ],
             [
              0.7777777777777778,
              "#fb9f3a"
             ],
             [
              0.8888888888888888,
              "#fdca26"
             ],
             [
              1,
              "#f0f921"
             ]
            ],
            "type": "heatmapgl"
           }
          ],
          "histogram": [
           {
            "marker": {
             "pattern": {
              "fillmode": "overlay",
              "size": 10,
              "solidity": 0.2
             }
            },
            "type": "histogram"
           }
          ],
          "histogram2d": [
           {
            "colorbar": {
             "outlinewidth": 0,
             "ticks": ""
            },
            "colorscale": [
             [
              0,
              "#0d0887"
             ],
             [
              0.1111111111111111,
              "#46039f"
             ],
             [
              0.2222222222222222,
              "#7201a8"
             ],
             [
              0.3333333333333333,
              "#9c179e"
             ],
             [
              0.4444444444444444,
              "#bd3786"
             ],
             [
              0.5555555555555556,
              "#d8576b"
             ],
             [
              0.6666666666666666,
              "#ed7953"
             ],
             [
              0.7777777777777778,
              "#fb9f3a"
             ],
             [
              0.8888888888888888,
              "#fdca26"
             ],
             [
              1,
              "#f0f921"
             ]
            ],
            "type": "histogram2d"
           }
          ],
          "histogram2dcontour": [
           {
            "colorbar": {
             "outlinewidth": 0,
             "ticks": ""
            },
            "colorscale": [
             [
              0,
              "#0d0887"
             ],
             [
              0.1111111111111111,
              "#46039f"
             ],
             [
              0.2222222222222222,
              "#7201a8"
             ],
             [
              0.3333333333333333,
              "#9c179e"
             ],
             [
              0.4444444444444444,
              "#bd3786"
             ],
             [
              0.5555555555555556,
              "#d8576b"
             ],
             [
              0.6666666666666666,
              "#ed7953"
             ],
             [
              0.7777777777777778,
              "#fb9f3a"
             ],
             [
              0.8888888888888888,
              "#fdca26"
             ],
             [
              1,
              "#f0f921"
             ]
            ],
            "type": "histogram2dcontour"
           }
          ],
          "mesh3d": [
           {
            "colorbar": {
             "outlinewidth": 0,
             "ticks": ""
            },
            "type": "mesh3d"
           }
          ],
          "parcoords": [
           {
            "line": {
             "colorbar": {
              "outlinewidth": 0,
              "ticks": ""
             }
            },
            "type": "parcoords"
           }
          ],
          "pie": [
           {
            "automargin": true,
            "type": "pie"
           }
          ],
          "scatter": [
           {
            "fillpattern": {
             "fillmode": "overlay",
             "size": 10,
             "solidity": 0.2
            },
            "type": "scatter"
           }
          ],
          "scatter3d": [
           {
            "line": {
             "colorbar": {
              "outlinewidth": 0,
              "ticks": ""
             }
            },
            "marker": {
             "colorbar": {
              "outlinewidth": 0,
              "ticks": ""
             }
            },
            "type": "scatter3d"
           }
          ],
          "scattercarpet": [
           {
            "marker": {
             "colorbar": {
              "outlinewidth": 0,
              "ticks": ""
             }
            },
            "type": "scattercarpet"
           }
          ],
          "scattergeo": [
           {
            "marker": {
             "colorbar": {
              "outlinewidth": 0,
              "ticks": ""
             }
            },
            "type": "scattergeo"
           }
          ],
          "scattergl": [
           {
            "marker": {
             "colorbar": {
              "outlinewidth": 0,
              "ticks": ""
             }
            },
            "type": "scattergl"
           }
          ],
          "scattermapbox": [
           {
            "marker": {
             "colorbar": {
              "outlinewidth": 0,
              "ticks": ""
             }
            },
            "type": "scattermapbox"
           }
          ],
          "scatterpolar": [
           {
            "marker": {
             "colorbar": {
              "outlinewidth": 0,
              "ticks": ""
             }
            },
            "type": "scatterpolar"
           }
          ],
          "scatterpolargl": [
           {
            "marker": {
             "colorbar": {
              "outlinewidth": 0,
              "ticks": ""
             }
            },
            "type": "scatterpolargl"
           }
          ],
          "scatterternary": [
           {
            "marker": {
             "colorbar": {
              "outlinewidth": 0,
              "ticks": ""
             }
            },
            "type": "scatterternary"
           }
          ],
          "surface": [
           {
            "colorbar": {
             "outlinewidth": 0,
             "ticks": ""
            },
            "colorscale": [
             [
              0,
              "#0d0887"
             ],
             [
              0.1111111111111111,
              "#46039f"
             ],
             [
              0.2222222222222222,
              "#7201a8"
             ],
             [
              0.3333333333333333,
              "#9c179e"
             ],
             [
              0.4444444444444444,
              "#bd3786"
             ],
             [
              0.5555555555555556,
              "#d8576b"
             ],
             [
              0.6666666666666666,
              "#ed7953"
             ],
             [
              0.7777777777777778,
              "#fb9f3a"
             ],
             [
              0.8888888888888888,
              "#fdca26"
             ],
             [
              1,
              "#f0f921"
             ]
            ],
            "type": "surface"
           }
          ],
          "table": [
           {
            "cells": {
             "fill": {
              "color": "#EBF0F8"
             },
             "line": {
              "color": "white"
             }
            },
            "header": {
             "fill": {
              "color": "#C8D4E3"
             },
             "line": {
              "color": "white"
             }
            },
            "type": "table"
           }
          ]
         },
         "layout": {
          "annotationdefaults": {
           "arrowcolor": "#2a3f5f",
           "arrowhead": 0,
           "arrowwidth": 1
          },
          "autotypenumbers": "strict",
          "coloraxis": {
           "colorbar": {
            "outlinewidth": 0,
            "ticks": ""
           }
          },
          "colorscale": {
           "diverging": [
            [
             0,
             "#8e0152"
            ],
            [
             0.1,
             "#c51b7d"
            ],
            [
             0.2,
             "#de77ae"
            ],
            [
             0.3,
             "#f1b6da"
            ],
            [
             0.4,
             "#fde0ef"
            ],
            [
             0.5,
             "#f7f7f7"
            ],
            [
             0.6,
             "#e6f5d0"
            ],
            [
             0.7,
             "#b8e186"
            ],
            [
             0.8,
             "#7fbc41"
            ],
            [
             0.9,
             "#4d9221"
            ],
            [
             1,
             "#276419"
            ]
           ],
           "sequential": [
            [
             0,
             "#0d0887"
            ],
            [
             0.1111111111111111,
             "#46039f"
            ],
            [
             0.2222222222222222,
             "#7201a8"
            ],
            [
             0.3333333333333333,
             "#9c179e"
            ],
            [
             0.4444444444444444,
             "#bd3786"
            ],
            [
             0.5555555555555556,
             "#d8576b"
            ],
            [
             0.6666666666666666,
             "#ed7953"
            ],
            [
             0.7777777777777778,
             "#fb9f3a"
            ],
            [
             0.8888888888888888,
             "#fdca26"
            ],
            [
             1,
             "#f0f921"
            ]
           ],
           "sequentialminus": [
            [
             0,
             "#0d0887"
            ],
            [
             0.1111111111111111,
             "#46039f"
            ],
            [
             0.2222222222222222,
             "#7201a8"
            ],
            [
             0.3333333333333333,
             "#9c179e"
            ],
            [
             0.4444444444444444,
             "#bd3786"
            ],
            [
             0.5555555555555556,
             "#d8576b"
            ],
            [
             0.6666666666666666,
             "#ed7953"
            ],
            [
             0.7777777777777778,
             "#fb9f3a"
            ],
            [
             0.8888888888888888,
             "#fdca26"
            ],
            [
             1,
             "#f0f921"
            ]
           ]
          },
          "colorway": [
           "#636efa",
           "#EF553B",
           "#00cc96",
           "#ab63fa",
           "#FFA15A",
           "#19d3f3",
           "#FF6692",
           "#B6E880",
           "#FF97FF",
           "#FECB52"
          ],
          "font": {
           "color": "#2a3f5f"
          },
          "geo": {
           "bgcolor": "white",
           "lakecolor": "white",
           "landcolor": "#E5ECF6",
           "showlakes": true,
           "showland": true,
           "subunitcolor": "white"
          },
          "hoverlabel": {
           "align": "left"
          },
          "hovermode": "closest",
          "mapbox": {
           "style": "light"
          },
          "paper_bgcolor": "white",
          "plot_bgcolor": "#E5ECF6",
          "polar": {
           "angularaxis": {
            "gridcolor": "white",
            "linecolor": "white",
            "ticks": ""
           },
           "bgcolor": "#E5ECF6",
           "radialaxis": {
            "gridcolor": "white",
            "linecolor": "white",
            "ticks": ""
           }
          },
          "scene": {
           "xaxis": {
            "backgroundcolor": "#E5ECF6",
            "gridcolor": "white",
            "gridwidth": 2,
            "linecolor": "white",
            "showbackground": true,
            "ticks": "",
            "zerolinecolor": "white"
           },
           "yaxis": {
            "backgroundcolor": "#E5ECF6",
            "gridcolor": "white",
            "gridwidth": 2,
            "linecolor": "white",
            "showbackground": true,
            "ticks": "",
            "zerolinecolor": "white"
           },
           "zaxis": {
            "backgroundcolor": "#E5ECF6",
            "gridcolor": "white",
            "gridwidth": 2,
            "linecolor": "white",
            "showbackground": true,
            "ticks": "",
            "zerolinecolor": "white"
           }
          },
          "shapedefaults": {
           "line": {
            "color": "#2a3f5f"
           }
          },
          "ternary": {
           "aaxis": {
            "gridcolor": "white",
            "linecolor": "white",
            "ticks": ""
           },
           "baxis": {
            "gridcolor": "white",
            "linecolor": "white",
            "ticks": ""
           },
           "bgcolor": "#E5ECF6",
           "caxis": {
            "gridcolor": "white",
            "linecolor": "white",
            "ticks": ""
           }
          },
          "title": {
           "x": 0.05
          },
          "xaxis": {
           "automargin": true,
           "gridcolor": "white",
           "linecolor": "white",
           "ticks": "",
           "title": {
            "standoff": 15
           },
           "zerolinecolor": "white",
           "zerolinewidth": 2
          },
          "yaxis": {
           "automargin": true,
           "gridcolor": "white",
           "linecolor": "white",
           "ticks": "",
           "title": {
            "standoff": 15
           },
           "zerolinecolor": "white",
           "zerolinewidth": 2
          }
         }
        },
        "title": {
         "text": "T5 Rougue Score",
         "x": 0.49,
         "xanchor": "center",
         "y": 0.96,
         "yanchor": "top"
        },
        "width": 650,
        "xaxis": {
         "anchor": "y",
         "domain": [
          0,
          1
         ],
         "title": {
          "text": "Metrics"
         }
        },
        "yaxis": {
         "anchor": "x",
         "domain": [
          0,
          1
         ],
         "title": {
          "text": "Rouge Score"
         }
        }
       }
      },
      "text/html": [
       "<div>                            <div id=\"1ef76062-94bd-4f09-a247-d8e00e900e8e\" class=\"plotly-graph-div\" style=\"height:400px; width:650px;\"></div>            <script type=\"text/javascript\">                require([\"plotly\"], function(Plotly) {                    window.PLOTLYENV=window.PLOTLYENV || {};                                    if (document.getElementById(\"1ef76062-94bd-4f09-a247-d8e00e900e8e\")) {                    Plotly.newPlot(                        \"1ef76062-94bd-4f09-a247-d8e00e900e8e\",                        [{\"alignmentgroup\":\"True\",\"hovertemplate\":\"legend=rouge-1<br>Metrics=%{x}<br>Rouge Score=%{y}<extra></extra>\",\"legendgroup\":\"rouge-1\",\"marker\":{\"color\":\"#940000\",\"pattern\":{\"shape\":\"\"}},\"name\":\"rouge-1\",\"offsetgroup\":\"rouge-1\",\"orientation\":\"v\",\"showlegend\":true,\"textposition\":\"auto\",\"texttemplate\":\"%{y:.2s}\",\"x\":[\"recall\",\"precision\",\"f-measure\"],\"xaxis\":\"x\",\"y\":[28.409792152695317,26.4280750026925,26.498805464914575],\"yaxis\":\"y\",\"type\":\"bar\"},{\"alignmentgroup\":\"True\",\"hovertemplate\":\"legend=rouge-l<br>Metrics=%{x}<br>Rouge Score=%{y}<extra></extra>\",\"legendgroup\":\"rouge-l\",\"marker\":{\"color\":\"#FFFDD0\",\"pattern\":{\"shape\":\"\"}},\"name\":\"rouge-l\",\"offsetgroup\":\"rouge-l\",\"orientation\":\"v\",\"showlegend\":true,\"textposition\":\"auto\",\"texttemplate\":\"%{y:.2s}\",\"x\":[\"recall\",\"precision\",\"f-measure\"],\"xaxis\":\"x\",\"y\":[24.601874460208144,22.975185716088482,23.012219349145514],\"yaxis\":\"y\",\"type\":\"bar\"},{\"alignmentgroup\":\"True\",\"hovertemplate\":\"legend=rouge-2<br>Metrics=%{x}<br>Rouge Score=%{y}<extra></extra>\",\"legendgroup\":\"rouge-2\",\"marker\":{\"color\":\"#FFCCCB\",\"pattern\":{\"shape\":\"\"}},\"name\":\"rouge-2\",\"offsetgroup\":\"rouge-2\",\"orientation\":\"v\",\"showlegend\":true,\"textposition\":\"auto\",\"texttemplate\":\"%{y:.2s}\",\"x\":[\"recall\",\"precision\",\"f-measure\"],\"xaxis\":\"x\",\"y\":[10.500336140632927,9.150179926316858,9.402193002301427],\"yaxis\":\"y\",\"type\":\"bar\"}],                        {\"template\":{\"data\":{\"histogram2dcontour\":[{\"type\":\"histogram2dcontour\",\"colorbar\":{\"outlinewidth\":0,\"ticks\":\"\"},\"colorscale\":[[0.0,\"#0d0887\"],[0.1111111111111111,\"#46039f\"],[0.2222222222222222,\"#7201a8\"],[0.3333333333333333,\"#9c179e\"],[0.4444444444444444,\"#bd3786\"],[0.5555555555555556,\"#d8576b\"],[0.6666666666666666,\"#ed7953\"],[0.7777777777777778,\"#fb9f3a\"],[0.8888888888888888,\"#fdca26\"],[1.0,\"#f0f921\"]]}],\"choropleth\":[{\"type\":\"choropleth\",\"colorbar\":{\"outlinewidth\":0,\"ticks\":\"\"}}],\"histogram2d\":[{\"type\":\"histogram2d\",\"colorbar\":{\"outlinewidth\":0,\"ticks\":\"\"},\"colorscale\":[[0.0,\"#0d0887\"],[0.1111111111111111,\"#46039f\"],[0.2222222222222222,\"#7201a8\"],[0.3333333333333333,\"#9c179e\"],[0.4444444444444444,\"#bd3786\"],[0.5555555555555556,\"#d8576b\"],[0.6666666666666666,\"#ed7953\"],[0.7777777777777778,\"#fb9f3a\"],[0.8888888888888888,\"#fdca26\"],[1.0,\"#f0f921\"]]}],\"heatmap\":[{\"type\":\"heatmap\",\"colorbar\":{\"outlinewidth\":0,\"ticks\":\"\"},\"colorscale\":[[0.0,\"#0d0887\"],[0.1111111111111111,\"#46039f\"],[0.2222222222222222,\"#7201a8\"],[0.3333333333333333,\"#9c179e\"],[0.4444444444444444,\"#bd3786\"],[0.5555555555555556,\"#d8576b\"],[0.6666666666666666,\"#ed7953\"],[0.7777777777777778,\"#fb9f3a\"],[0.8888888888888888,\"#fdca26\"],[1.0,\"#f0f921\"]]}],\"heatmapgl\":[{\"type\":\"heatmapgl\",\"colorbar\":{\"outlinewidth\":0,\"ticks\":\"\"},\"colorscale\":[[0.0,\"#0d0887\"],[0.1111111111111111,\"#46039f\"],[0.2222222222222222,\"#7201a8\"],[0.3333333333333333,\"#9c179e\"],[0.4444444444444444,\"#bd3786\"],[0.5555555555555556,\"#d8576b\"],[0.6666666666666666,\"#ed7953\"],[0.7777777777777778,\"#fb9f3a\"],[0.8888888888888888,\"#fdca26\"],[1.0,\"#f0f921\"]]}],\"contourcarpet\":[{\"type\":\"contourcarpet\",\"colorbar\":{\"outlinewidth\":0,\"ticks\":\"\"}}],\"contour\":[{\"type\":\"contour\",\"colorbar\":{\"outlinewidth\":0,\"ticks\":\"\"},\"colorscale\":[[0.0,\"#0d0887\"],[0.1111111111111111,\"#46039f\"],[0.2222222222222222,\"#7201a8\"],[0.3333333333333333,\"#9c179e\"],[0.4444444444444444,\"#bd3786\"],[0.5555555555555556,\"#d8576b\"],[0.6666666666666666,\"#ed7953\"],[0.7777777777777778,\"#fb9f3a\"],[0.8888888888888888,\"#fdca26\"],[1.0,\"#f0f921\"]]}],\"surface\":[{\"type\":\"surface\",\"colorbar\":{\"outlinewidth\":0,\"ticks\":\"\"},\"colorscale\":[[0.0,\"#0d0887\"],[0.1111111111111111,\"#46039f\"],[0.2222222222222222,\"#7201a8\"],[0.3333333333333333,\"#9c179e\"],[0.4444444444444444,\"#bd3786\"],[0.5555555555555556,\"#d8576b\"],[0.6666666666666666,\"#ed7953\"],[0.7777777777777778,\"#fb9f3a\"],[0.8888888888888888,\"#fdca26\"],[1.0,\"#f0f921\"]]}],\"mesh3d\":[{\"type\":\"mesh3d\",\"colorbar\":{\"outlinewidth\":0,\"ticks\":\"\"}}],\"scatter\":[{\"fillpattern\":{\"fillmode\":\"overlay\",\"size\":10,\"solidity\":0.2},\"type\":\"scatter\"}],\"parcoords\":[{\"type\":\"parcoords\",\"line\":{\"colorbar\":{\"outlinewidth\":0,\"ticks\":\"\"}}}],\"scatterpolargl\":[{\"type\":\"scatterpolargl\",\"marker\":{\"colorbar\":{\"outlinewidth\":0,\"ticks\":\"\"}}}],\"bar\":[{\"error_x\":{\"color\":\"#2a3f5f\"},\"error_y\":{\"color\":\"#2a3f5f\"},\"marker\":{\"line\":{\"color\":\"#E5ECF6\",\"width\":0.5},\"pattern\":{\"fillmode\":\"overlay\",\"size\":10,\"solidity\":0.2}},\"type\":\"bar\"}],\"scattergeo\":[{\"type\":\"scattergeo\",\"marker\":{\"colorbar\":{\"outlinewidth\":0,\"ticks\":\"\"}}}],\"scatterpolar\":[{\"type\":\"scatterpolar\",\"marker\":{\"colorbar\":{\"outlinewidth\":0,\"ticks\":\"\"}}}],\"histogram\":[{\"marker\":{\"pattern\":{\"fillmode\":\"overlay\",\"size\":10,\"solidity\":0.2}},\"type\":\"histogram\"}],\"scattergl\":[{\"type\":\"scattergl\",\"marker\":{\"colorbar\":{\"outlinewidth\":0,\"ticks\":\"\"}}}],\"scatter3d\":[{\"type\":\"scatter3d\",\"line\":{\"colorbar\":{\"outlinewidth\":0,\"ticks\":\"\"}},\"marker\":{\"colorbar\":{\"outlinewidth\":0,\"ticks\":\"\"}}}],\"scattermapbox\":[{\"type\":\"scattermapbox\",\"marker\":{\"colorbar\":{\"outlinewidth\":0,\"ticks\":\"\"}}}],\"scatterternary\":[{\"type\":\"scatterternary\",\"marker\":{\"colorbar\":{\"outlinewidth\":0,\"ticks\":\"\"}}}],\"scattercarpet\":[{\"type\":\"scattercarpet\",\"marker\":{\"colorbar\":{\"outlinewidth\":0,\"ticks\":\"\"}}}],\"carpet\":[{\"aaxis\":{\"endlinecolor\":\"#2a3f5f\",\"gridcolor\":\"white\",\"linecolor\":\"white\",\"minorgridcolor\":\"white\",\"startlinecolor\":\"#2a3f5f\"},\"baxis\":{\"endlinecolor\":\"#2a3f5f\",\"gridcolor\":\"white\",\"linecolor\":\"white\",\"minorgridcolor\":\"white\",\"startlinecolor\":\"#2a3f5f\"},\"type\":\"carpet\"}],\"table\":[{\"cells\":{\"fill\":{\"color\":\"#EBF0F8\"},\"line\":{\"color\":\"white\"}},\"header\":{\"fill\":{\"color\":\"#C8D4E3\"},\"line\":{\"color\":\"white\"}},\"type\":\"table\"}],\"barpolar\":[{\"marker\":{\"line\":{\"color\":\"#E5ECF6\",\"width\":0.5},\"pattern\":{\"fillmode\":\"overlay\",\"size\":10,\"solidity\":0.2}},\"type\":\"barpolar\"}],\"pie\":[{\"automargin\":true,\"type\":\"pie\"}]},\"layout\":{\"autotypenumbers\":\"strict\",\"colorway\":[\"#636efa\",\"#EF553B\",\"#00cc96\",\"#ab63fa\",\"#FFA15A\",\"#19d3f3\",\"#FF6692\",\"#B6E880\",\"#FF97FF\",\"#FECB52\"],\"font\":{\"color\":\"#2a3f5f\"},\"hovermode\":\"closest\",\"hoverlabel\":{\"align\":\"left\"},\"paper_bgcolor\":\"white\",\"plot_bgcolor\":\"#E5ECF6\",\"polar\":{\"bgcolor\":\"#E5ECF6\",\"angularaxis\":{\"gridcolor\":\"white\",\"linecolor\":\"white\",\"ticks\":\"\"},\"radialaxis\":{\"gridcolor\":\"white\",\"linecolor\":\"white\",\"ticks\":\"\"}},\"ternary\":{\"bgcolor\":\"#E5ECF6\",\"aaxis\":{\"gridcolor\":\"white\",\"linecolor\":\"white\",\"ticks\":\"\"},\"baxis\":{\"gridcolor\":\"white\",\"linecolor\":\"white\",\"ticks\":\"\"},\"caxis\":{\"gridcolor\":\"white\",\"linecolor\":\"white\",\"ticks\":\"\"}},\"coloraxis\":{\"colorbar\":{\"outlinewidth\":0,\"ticks\":\"\"}},\"colorscale\":{\"sequential\":[[0.0,\"#0d0887\"],[0.1111111111111111,\"#46039f\"],[0.2222222222222222,\"#7201a8\"],[0.3333333333333333,\"#9c179e\"],[0.4444444444444444,\"#bd3786\"],[0.5555555555555556,\"#d8576b\"],[0.6666666666666666,\"#ed7953\"],[0.7777777777777778,\"#fb9f3a\"],[0.8888888888888888,\"#fdca26\"],[1.0,\"#f0f921\"]],\"sequentialminus\":[[0.0,\"#0d0887\"],[0.1111111111111111,\"#46039f\"],[0.2222222222222222,\"#7201a8\"],[0.3333333333333333,\"#9c179e\"],[0.4444444444444444,\"#bd3786\"],[0.5555555555555556,\"#d8576b\"],[0.6666666666666666,\"#ed7953\"],[0.7777777777777778,\"#fb9f3a\"],[0.8888888888888888,\"#fdca26\"],[1.0,\"#f0f921\"]],\"diverging\":[[0,\"#8e0152\"],[0.1,\"#c51b7d\"],[0.2,\"#de77ae\"],[0.3,\"#f1b6da\"],[0.4,\"#fde0ef\"],[0.5,\"#f7f7f7\"],[0.6,\"#e6f5d0\"],[0.7,\"#b8e186\"],[0.8,\"#7fbc41\"],[0.9,\"#4d9221\"],[1,\"#276419\"]]},\"xaxis\":{\"gridcolor\":\"white\",\"linecolor\":\"white\",\"ticks\":\"\",\"title\":{\"standoff\":15},\"zerolinecolor\":\"white\",\"automargin\":true,\"zerolinewidth\":2},\"yaxis\":{\"gridcolor\":\"white\",\"linecolor\":\"white\",\"ticks\":\"\",\"title\":{\"standoff\":15},\"zerolinecolor\":\"white\",\"automargin\":true,\"zerolinewidth\":2},\"scene\":{\"xaxis\":{\"backgroundcolor\":\"#E5ECF6\",\"gridcolor\":\"white\",\"linecolor\":\"white\",\"showbackground\":true,\"ticks\":\"\",\"zerolinecolor\":\"white\",\"gridwidth\":2},\"yaxis\":{\"backgroundcolor\":\"#E5ECF6\",\"gridcolor\":\"white\",\"linecolor\":\"white\",\"showbackground\":true,\"ticks\":\"\",\"zerolinecolor\":\"white\",\"gridwidth\":2},\"zaxis\":{\"backgroundcolor\":\"#E5ECF6\",\"gridcolor\":\"white\",\"linecolor\":\"white\",\"showbackground\":true,\"ticks\":\"\",\"zerolinecolor\":\"white\",\"gridwidth\":2}},\"shapedefaults\":{\"line\":{\"color\":\"#2a3f5f\"}},\"annotationdefaults\":{\"arrowcolor\":\"#2a3f5f\",\"arrowhead\":0,\"arrowwidth\":1},\"geo\":{\"bgcolor\":\"white\",\"landcolor\":\"#E5ECF6\",\"subunitcolor\":\"white\",\"showland\":true,\"showlakes\":true,\"lakecolor\":\"white\"},\"title\":{\"x\":0.05},\"mapbox\":{\"style\":\"light\"}}},\"xaxis\":{\"anchor\":\"y\",\"domain\":[0.0,1.0],\"title\":{\"text\":\"Metrics\"}},\"yaxis\":{\"anchor\":\"x\",\"domain\":[0.0,1.0],\"title\":{\"text\":\"Rouge Score\"}},\"legend\":{\"title\":{\"text\":\"legend\"},\"tracegroupgap\":0},\"margin\":{\"t\":60},\"barmode\":\"group\",\"title\":{\"text\":\"T5 Rougue Score\",\"y\":0.96,\"x\":0.49,\"xanchor\":\"center\",\"yanchor\":\"top\"},\"width\":650,\"height\":400},                        {\"responsive\": true}                    ).then(function(){\n",
       "                            \n",
       "var gd = document.getElementById('1ef76062-94bd-4f09-a247-d8e00e900e8e');\n",
       "var x = new MutationObserver(function (mutations, observer) {{\n",
       "        var display = window.getComputedStyle(gd).display;\n",
       "        if (!display || display === 'none') {{\n",
       "            console.log([gd, 'removed!']);\n",
       "            Plotly.purge(gd);\n",
       "            observer.disconnect();\n",
       "        }}\n",
       "}});\n",
       "\n",
       "// Listen for the removal of the full notebook cells\n",
       "var notebookContainer = gd.closest('#notebook-container');\n",
       "if (notebookContainer) {{\n",
       "    x.observe(notebookContainer, {childList: true});\n",
       "}}\n",
       "\n",
       "// Listen for the clearing of the current output cell\n",
       "var outputEl = gd.closest('.output');\n",
       "if (outputEl) {{\n",
       "    x.observe(outputEl, {childList: true});\n",
       "}}\n",
       "\n",
       "                        })                };                });            </script>        </div>"
      ]
     },
     "metadata": {},
     "output_type": "display_data"
    }
   ],
   "source": [
    "\n",
    "#######################################\n",
    "import plotly.express as px\n",
    "\n",
    "# assuming T5Rouge and BartRouge are pandas dataframes\n",
    "T5Rouge = T5Rouge[['rouge-1', 'rouge-l', 'rouge-2']]\n",
    "BartRouge = BartRouge[['rouge-1', 'rouge-l', 'rouge-2']]\n",
    "\n",
    "# specify the colors you want to use\n",
    "colors = ['#940000', '#FFFDD0', '#FFCCCB']\n",
    "\n",
    "fig = px.bar(T5Rouge*100, x=T5Rouge.index, y=T5Rouge.columns, \n",
    "             barmode='group', \n",
    "             text_auto='.2s',\n",
    "             labels={\n",
    "                     \"Algo\": \"Algorithms\",\n",
    "                     \"value\": \"Rouge Score\",\n",
    "                     \"variable\": \"legend\",\n",
    "                     'index': \"Metrics\"\n",
    "                 },\n",
    "             color_discrete_sequence=colors)\n",
    "\n",
    "fig.update_layout(width=650,\n",
    "                  height=400,\n",
    "                  title={\n",
    "                  'text': \"T5 Rougue Score\",\n",
    "                  'y':.96,\n",
    "                  'x':0.49,\n",
    "                  'xanchor': 'center',\n",
    "                  'yanchor': 'top'})\n",
    "\n",
    "fig.show()\n"
   ]
  }
 ],
 "metadata": {
  "kernelspec": {
   "display_name": "Python 3 (ipykernel)",
   "language": "python",
   "name": "python3"
  },
  "language_info": {
   "codemirror_mode": {
    "name": "ipython",
    "version": 3
   },
   "file_extension": ".py",
   "mimetype": "text/x-python",
   "name": "python",
   "nbconvert_exporter": "python",
   "pygments_lexer": "ipython3",
   "version": "3.9.13"
  }
 },
 "nbformat": 4,
 "nbformat_minor": 5
}
