{
 "cells": [
  {
   "cell_type": "code",
   "execution_count": 1,
   "metadata": {
    "execution": {
     "iopub.execute_input": "2022-04-08T10:23:37.110833Z",
     "iopub.status.busy": "2022-04-08T10:23:37.110543Z",
     "iopub.status.idle": "2022-04-08T10:23:37.122085Z",
     "shell.execute_reply": "2022-04-08T10:23:37.121336Z",
     "shell.execute_reply.started": "2022-04-08T10:23:37.110792Z"
    }
   },
   "outputs": [
    {
     "ename": "ModuleNotFoundError",
     "evalue": "No module named 'indicnlp'",
     "output_type": "error",
     "traceback": [
      "\u001b[1;31m---------------------------------------------------------------------------\u001b[0m",
      "\u001b[1;31mModuleNotFoundError\u001b[0m                       Traceback (most recent call last)",
      "\u001b[1;32m~\\AppData\\Local\\Temp\\ipykernel_8544\\679797246.py\u001b[0m in \u001b[0;36m<module>\u001b[1;34m\u001b[0m\n\u001b[0;32m     13\u001b[0m \u001b[1;32mfrom\u001b[0m \u001b[0mmatplotlib\u001b[0m\u001b[1;33m.\u001b[0m\u001b[0mfont_manager\u001b[0m \u001b[1;32mimport\u001b[0m \u001b[0mFontProperties\u001b[0m\u001b[1;33m\u001b[0m\u001b[1;33m\u001b[0m\u001b[0m\n\u001b[0;32m     14\u001b[0m \u001b[0mhindi_font\u001b[0m\u001b[1;33m=\u001b[0m\u001b[0mFontProperties\u001b[0m\u001b[1;33m(\u001b[0m\u001b[0mfname\u001b[0m \u001b[1;33m=\u001b[0m \u001b[1;34m'Nirmala-UI.ttf'\u001b[0m\u001b[1;33m)\u001b[0m\u001b[1;33m\u001b[0m\u001b[1;33m\u001b[0m\u001b[0m\n\u001b[1;32m---> 15\u001b[1;33m \u001b[1;32mfrom\u001b[0m \u001b[0mindicnlp\u001b[0m\u001b[1;33m.\u001b[0m\u001b[0mtokenize\u001b[0m \u001b[1;32mimport\u001b[0m \u001b[0msentence_tokenize\u001b[0m\u001b[1;33m\u001b[0m\u001b[1;33m\u001b[0m\u001b[0m\n\u001b[0m\u001b[0;32m     16\u001b[0m \u001b[1;32mfrom\u001b[0m \u001b[0minltk\u001b[0m\u001b[1;33m.\u001b[0m\u001b[0minltk\u001b[0m \u001b[1;32mimport\u001b[0m \u001b[0mget_sentence_similarity\u001b[0m\u001b[1;33m\u001b[0m\u001b[1;33m\u001b[0m\u001b[0m\n",
      "\u001b[1;31mModuleNotFoundError\u001b[0m: No module named 'indicnlp'"
     ]
    }
   ],
   "source": [
    "import pandas as pd\n",
    "import matplotlib as mpl\n",
    "import matplotlib.pyplot as plt\n",
    "import networkx as nx\n",
    "from nltk.cluster.util import cosine_distance\n",
    "import string\n",
    "import math\n",
    "import operator\n",
    "from inltk.inltk import setup\n",
    "import nltk\n",
    "from nltk.tokenize import SpaceTokenizer\n",
    "import re\n",
    "from matplotlib.font_manager import FontProperties\n",
    "hindi_font=FontProperties(fname = 'Nirmala-UI.ttf')\n",
    "from indicnlp.tokenize import sentence_tokenize\n",
    "from inltk.inltk import get_sentence_similarity"
   ]
  },
  {
   "cell_type": "code",
   "execution_count": null,
   "metadata": {
    "execution": {
     "iopub.execute_input": "2022-04-08T10:23:37.123493Z",
     "iopub.status.busy": "2022-04-08T10:23:37.123262Z",
     "iopub.status.idle": "2022-04-08T10:23:37.141389Z",
     "shell.execute_reply": "2022-04-08T10:23:37.140558Z",
     "shell.execute_reply.started": "2022-04-08T10:23:37.123466Z"
    }
   },
   "outputs": [],
   "source": [
    "nltk.download('punkt')\n",
    "nltk.download('stopwords')"
   ]
  },
  {
   "cell_type": "code",
   "execution_count": null,
   "metadata": {
    "execution": {
     "iopub.execute_input": "2022-04-08T10:23:37.143973Z",
     "iopub.status.busy": "2022-04-08T10:23:37.143720Z",
     "iopub.status.idle": "2022-04-08T10:23:37.190096Z",
     "shell.execute_reply": "2022-04-08T10:23:37.189284Z",
     "shell.execute_reply.started": "2022-04-08T10:23:37.143944Z"
    }
   },
   "outputs": [],
   "source": [
    "train_dataset=pd.read_csv('train_hindi_new.csv',nrows=200,delimiter=',')\n",
    "pd.set_option('display.max_colwidth', None)"
   ]
  },
  {
   "cell_type": "code",
   "execution_count": null,
   "metadata": {
    "execution": {
     "iopub.execute_input": "2022-04-08T10:23:37.192046Z",
     "iopub.status.busy": "2022-04-08T10:23:37.191556Z",
     "iopub.status.idle": "2022-04-08T10:23:37.199769Z",
     "shell.execute_reply": "2022-04-08T10:23:37.199054Z",
     "shell.execute_reply.started": "2022-04-08T10:23:37.192014Z"
    }
   },
   "outputs": [],
   "source": [
    "def remove_redundant_sentences(sentences):\n",
    "    cleaned=[]\n",
    "    for s in sentences:\n",
    "        if s in cleaned or s.strip()=='':\n",
    "            continue\n",
    "        else:\n",
    "            cleaned.append(s)\n",
    "    return cleaned\n",
    "\n",
    "def clean_corpus(corpus):\n",
    "    corpus=corpus.replace('।','.')\n",
    "    corpus=corpus.replace('\\xa0','')\n",
    "    corpus=corpus.replace('\\n','')\n",
    "    corpus=corpus.replace('\\r','')\n",
    "    return corpus\n",
    "\n",
    "def get_clean_sentences(doc):\n",
    "    cleaned_doc=clean_corpus(doc)\n",
    "    sentences=cleaned_doc.split('.')\n",
    "    sentences=remove_redundant_sentences(sentences)\n",
    "    return sentences"
   ]
  },
  {
   "cell_type": "markdown",
   "metadata": {},
   "source": [
    "### <font color='blue'>Method I : Rule based extractive summarization</font>\n",
    "\n",
    "### Scores used are the following-\n",
    "\n",
    "#### <b>Title Score(S1)</b>- score for title words. Title words are defined as the non-stop words that occur in the title (heading) of the article. \n",
    "####            <font size=2> $$Title\\:score (S1)= \\frac{No.\\:of\\:title\\:words\\:in\\:the\\:sentence}{No.\\:of\\:words\\:in\\:the\\:title}$$ </font>\n",
    "\n",
    "#### <b>Number of words score(S2)</b> - scoring a sentence by the number of words it has.\n",
    "####            <font size=2> $$No.\\:of \\:words\\:score\\:(S2) = \\frac{No.\\:of\\:words\\:in\\:sentence}{No.\\:of\\:words\\:in\\:largest\\:sentence}$$</font>\n",
    "\n",
    "#### <b>English words score(S3)</b> - Common english words can be helpful in deciding importance of a sentence\n",
    "####            <font size=2>$$English\\:words\\:score\\:(S3) = \\frac{No.\\:of\\:english\\:words\\:in\\:sentence}{sentence\\:length}$$</font>\n",
    "\n",
    "#### <b>Numeric data score(S4)</b> - We tried to capture numerical data from the sentences. The score gives more importance to the sentence having some numerical data.\n",
    "####            <font size=2>$$Numerical\\:data\\:score\\:(S4) = \\frac{No.\\:of\\:numerical\\:figures\\:in\\:a\\:sentence}{sentence\\:length}$$</font>\n",
    "\n",
    "#### <b>Braces/Parenthesis score(S5)</b> - Sentences may sometimes contain some information inside brackets. This information can usually be omitted without altering the meaning of the sentences.\n",
    "####            <font size=2>$$Brackets\\:score\\:(S5) = \\frac{Sentence\\:Length \\:-\\:Total\\:no\\:of\\:words\\:within\\:\n",
    "brackets\\:in\\:sentence}{sentence\\:length}$$</font>\n",
    "\n",
    "#### <b>Keyword score(S6)</b> - In this context, keywords are defined as the words occuring with unusually high frequency. For this system, we have taken top 10% of the highest occuring words as keywords for calculating the score.\n",
    "####            <font size=2>$$Keyword\\:score\\:(S6) = \\frac{No.\\:of\\:keywords\\:in\\:sentence}{sentence\\:length}$$</font>\n",
    "\n",
    "#### <b>URL score(S7)</b> - Presence of URLs can add to the significance of a particular sentence.\n",
    "####            <font size=2>$$URL\\:score\\:(S7) = \\frac{No.\\:of\\:URLs\\:in\\:sentence}{sentence\\:length}$$</font>\n",
    "\n",
    "#### <b>Position score(S8)</b> - Sentences are assigned scores based on their relative position in the corpus. Sentences occuring in the beginning and in the end are assigned the highest score as compared to the one occuring in the middle.\n"
   ]
  },
  {
   "cell_type": "code",
   "execution_count": null,
   "metadata": {
    "execution": {
     "iopub.execute_input": "2022-04-08T10:23:37.201736Z",
     "iopub.status.busy": "2022-04-08T10:23:37.201254Z",
     "iopub.status.idle": "2022-04-08T10:23:37.235632Z",
     "shell.execute_reply": "2022-04-08T10:23:37.234678Z",
     "shell.execute_reply.started": "2022-04-08T10:23:37.201705Z"
    }
   },
   "outputs": [],
   "source": [
    "patternEnglish = re.compile(r'[[A-Z]|[a-z]]*')\n",
    "patternNumeric = re.compile(r'.*[0-9]+')\n",
    "patternBraces=re.compile(r'\\[(.*?)\\]|\\{(.*?)\\}|\\((.*?)\\)')\n",
    "patternUrl=re.compile(r\"(?i)\\b((?:https?://|www\\d{0,3}[.]|[a-z0-9.\\-]+[.][a-z]{2,4}/)(?:[^\\s()<>]+|\\(([^\\s()<>]+|(\\([^\\s()<>]+\\)))*\\))+(?:\\(([^\\s()<>]+|(\\([^\\s()<>]+\\)))*\\)|[^\\s`!()\\[\\]{};:'\\\".,<>?«»“”‘’]))\")\n",
    "\n",
    "def titlewordsScore(sentence,heading_titlewords):\n",
    "    titlewords_sent=SpaceTokenizer().tokenize(sentence)\n",
    "    titlewords_count=len(heading_titlewords)\n",
    "    titlewords_sent=[word for word in titlewords_sent if word in heading_titlewords]\n",
    "    s1_score=len(titlewords_sent)/titlewords_count\n",
    "    return s1_score\n",
    "\n",
    "def get_len_all_sentences(sentences):\n",
    "    len_of_all_sent=[len(SpaceTokenizer().tokenize(sentence)) for sentence in sentences]\n",
    "    max_length=np.max(len_of_all_sent)\n",
    "    return max_length,len_of_all_sent\n",
    "\n",
    "def searchEnglishWords(sentence):\n",
    "    words=SpaceTokenizer().tokenize(sentence.strip())\n",
    "    words=list(filter(None, words))\n",
    "    english_words=[word for word in words if patternEnglish.match(word)!=None]\n",
    "    return len(english_words)/len(words)\n",
    "\n",
    "def positionScore(total_len):\n",
    "    mid=(total_len/2)\n",
    "    positions=(np.arange(total_len,mid,-1)/total_len).tolist()\n",
    "    if (total_len%2==0):\n",
    "        positions.extend((np.arange(mid+1,total_len+1,1)/total_len).tolist())\n",
    "    else:\n",
    "        positions.extend(np.arange(mid,total_len+1,1).tolist())\n",
    "    return positions\n",
    "\n",
    "def numericScore(sentence):\n",
    "    words=SpaceTokenizer().tokenize(sentence)\n",
    "    numbers=[1 for word in words if re.match(patternNumeric,word)]\n",
    "    return np.sum(numbers)/len(words)\n",
    "\n",
    "def bracesScore(sentence):\n",
    "    t=re.findall(patternBraces,sentence)\n",
    "    words=SpaceTokenizer().tokenize(sentence)\n",
    "    insideTerms=()\n",
    "    for term in t:\n",
    "        insideTerms+=term\n",
    "    insideTerms=[term for term in insideTerms if term !='']\n",
    "    return (len(words)-len(insideTerms))/len(words)\n",
    "\n",
    "def draw_zipf_distribution(sentences):\n",
    "    zipf_distr={}\n",
    "    for sentence in sentences:\n",
    "        words=SpaceTokenizer().tokenize(sentence)\n",
    "        for word in words:\n",
    "            if word in zipf_distr:\n",
    "                zipf_distr[word]+=1\n",
    "            else:\n",
    "                zipf_distr[word]=1\n",
    "    fig=plt.figure(figsize=(20,20))\n",
    "    plt.plot(zipf_distr.keys(),zipf_distr.values())\n",
    "    plt.xticks(list(range(len(zipf_distr.keys()))), zipf_distr.keys(), color=\"b\", fontproperties=hindi_font,rotation=45);\n",
    "    plt.ylabel('Frequency')\n",
    "    plt.title('Zipf Distribution')\n",
    "    return zipf_distr\n",
    "\n",
    "def keyword_score(sentences):\n",
    "    zipf_distr=draw_zipf_distribution(sentences)\n",
    "    keywords=[] \n",
    "    count_keywords=round(0.1*len(zipf_distr))\n",
    "    keywords=[x for x,y in reversed(sorted(zipf_distr.items(), key = operator.itemgetter(1)))][:count_keywords]\n",
    "    keyword_score=[]\n",
    "    for sentence in sentences:\n",
    "        words=SpaceTokenizer().tokenize(sentence)\n",
    "        keyword_score.append(len([word for word in words if word in keywords])/len(words))\n",
    "    return keyword_score\n",
    "    \n",
    "def url_email_score(sentence):\n",
    "    words=SpaceTokenizer().tokenize(sentence.strip())\n",
    "    words=list(filter(None, words))\n",
    "    urls=[word for word in words if patternUrl.match(word)!=None]\n",
    "    return len(urls)/len(words)\n",
    "\n",
    "stopwords=pd.read_csv('StopwordsHindi.csv')\n",
    "stopwords=list(stopwords['stopwords'])\n",
    "stopwords.extend(['में','के','है','से'])"
   ]
  },
  {
   "attachments": {
    "f82b7070-76ce-4155-b94c-1d4e6aaf7e1d.png": {
     "image/png": "[encoded data removed]"
    }
   },
   "cell_type": "markdown",
   "metadata": {},
   "source": [
    "### Flow Diagram for rule based text summarisation\n",
    "\n",
    "![RuleBasedFlowDiagram.drawio.png](attachment:f82b7070-76ce-4155-b94c-1d4e6aaf7e1d.png)"
   ]
  },
  {
   "cell_type": "code",
   "execution_count": null,
   "metadata": {
    "execution": {
     "iopub.execute_input": "2022-04-08T10:23:37.237314Z",
     "iopub.status.busy": "2022-04-08T10:23:37.237004Z",
     "iopub.status.idle": "2022-04-08T10:23:37.249765Z",
     "shell.execute_reply": "2022-04-08T10:23:37.248811Z",
     "shell.execute_reply.started": "2022-04-08T10:23:37.237285Z"
    }
   },
   "outputs": [],
   "source": [
    "def generate_summary_rule_based(clean_sentences,compression_ratio):\n",
    "    score_table=pd.DataFrame(clean_sentences)\n",
    "    score_table.columns=['sentence']\n",
    "\n",
    "    headlinetokens=SpaceTokenizer().tokenize(sample['headline'])\n",
    "    heading_titlewords=[ word for word in  headlinetokens if word!= '' and word not in stopwords]\n",
    "    score_table['S1']=[titlewordsScore(sentence,heading_titlewords) for sentence in clean_sentences]\n",
    "    max_length,len_of_all_sent=get_len_all_sentences(clean_sentences)\n",
    "    score_table['S2']=[x/max_length for x in len_of_all_sent]\n",
    "    score_table['S3']=[searchEnglishWords(sentence) for sentence in clean_sentences]\n",
    "    score_table['S4']=[numericScore(sentence) for sentence in clean_sentences]\n",
    "    score_table['S5']=[bracesScore(sentence) for sentence in clean_sentences]\n",
    "    score_table['S6']=keyword_score(clean_sentences)\n",
    "    score_table['S7']=[url_email_score(sentence) for sentence in clean_sentences]\n",
    "    #score_table['S8']=positionScore(len(clean_sentences))\n",
    "    score_table['Total']=score_table['S1']+score_table['S2']+score_table['S3']+score_table['S4']+score_table['S5']+score_table['S6']+score_table['S7']\n",
    "    summary_sent_count=round(compression_ratio*len(clean_sentences))\n",
    "    summary_sent=list(score_table.sort_values('Total',ascending=False).iloc[0:summary_sent_count]['sentence'])\n",
    "    summary=\"\"\n",
    "    for sentence in summary_sent:\n",
    "        summary+=sentence.strip()+\"| \"\n",
    "    return summary"
   ]
  },
  {
   "cell_type": "markdown",
   "metadata": {},
   "source": []
  },
  {
   "attachments": {
    "d854850d-2862-4d73-afcb-d973d7fde77e.png": {
     "image/png": "[encoded data removed]"
    }
   },
   "cell_type": "markdown",
   "metadata": {
    "execution": {
     "iopub.status.busy": "2022-03-28T17:29:58.670428Z",
     "iopub.status.idle": "2022-03-28T17:29:58.670918Z",
     "shell.execute_reply": "2022-03-28T17:29:58.670743Z",
     "shell.execute_reply.started": "2022-03-28T17:29:58.670721Z"
    }
   },
   "source": [
    "### <font color='blue'>Method II : Text summarization using Term frequency scores of sentences</font>\n",
    "\n",
    "![TermFrequencyFlowDiagram.drawio.png](attachment:d854850d-2862-4d73-afcb-d973d7fde77e.png)"
   ]
  },
  {
   "cell_type": "code",
   "execution_count": null,
   "metadata": {
    "execution": {
     "iopub.execute_input": "2022-04-08T10:23:37.251760Z",
     "iopub.status.busy": "2022-04-08T10:23:37.251316Z",
     "iopub.status.idle": "2022-04-08T10:23:37.270816Z",
     "shell.execute_reply": "2022-04-08T10:23:37.270040Z",
     "shell.execute_reply.started": "2022-04-08T10:23:37.251726Z"
    }
   },
   "outputs": [],
   "source": [
    "from nltk.tokenize import sent_tokenize\n",
    "def create_frequency_table(sentences):\n",
    "    word_freq={}\n",
    "    for sentence in sentences:\n",
    "        words=SpaceTokenizer().tokenize(sentence)\n",
    "        for word in words:\n",
    "            if word in stopwords:\n",
    "                continue\n",
    "            if word in word_freq:\n",
    "                word_freq[word]+=1\n",
    "            else:\n",
    "                word_freq[word]=1\n",
    "    return word_freq\n",
    "\n",
    "def score_sentences(sentences,word_freq):\n",
    "    sentenceValue={}\n",
    "    for sentence in sentences:\n",
    "        words_in_sentence=SpaceTokenizer().tokenize(sentence)\n",
    "        word_count=len(words_in_sentence)\n",
    "        for word in word_freq:\n",
    "            if word in words_in_sentence:\n",
    "                if sentence[:10] in sentenceValue:\n",
    "                    sentenceValue[sentence[:10]]+=word_freq[word]\n",
    "                else:\n",
    "                    sentenceValue[sentence[:10]]=word_freq[word]\n",
    "        sentenceValue[sentence[:10]]=sentenceValue[sentence[:10]]/word_count\n",
    "    return sentenceValue\n",
    "    \n",
    "\n",
    "def average_sentence_value(sentenceValues):\n",
    "    sum_values=0\n",
    "    for sent_id in sentenceValues:\n",
    "        sum_values+=sentenceValues[sent_id]\n",
    "    sent_count=len(sentenceValues)\n",
    "    return sum_values/sent_count\n",
    "\n",
    "def generate_summary(avg_score,sentences,sentenceValue,identifier):\n",
    "    sentence_count=0\n",
    "    summary=''\n",
    "    for sentence in sentences:\n",
    "        if sentence[:identifier] in sentenceValue and sentenceValue[sentence[:identifier]]>=avg_score:\n",
    "            summary+=sentence.strip()+\"| \"\n",
    "            sentence_count+=1\n",
    "    return summary,sentence_count"
   ]
  },
  {
   "cell_type": "code",
   "execution_count": null,
   "metadata": {
    "execution": {
     "iopub.execute_input": "2022-04-08T10:23:37.272657Z",
     "iopub.status.busy": "2022-04-08T10:23:37.272185Z",
     "iopub.status.idle": "2022-04-08T10:23:37.292934Z",
     "shell.execute_reply": "2022-04-08T10:23:37.291685Z",
     "shell.execute_reply.started": "2022-04-08T10:23:37.272626Z"
    }
   },
   "outputs": [],
   "source": [
    "def summarise_term_frequency_sentence_weighing(sentences):\n",
    "    word_freq_table=create_frequency_table(sentences)\n",
    "    scores=score_sentences(sentences,word_freq_table)\n",
    "    avg_score=average_sentence_value(scores)\n",
    "    summary,sent_count=generate_summary(avg_score,sentences,scores,10)\n",
    "    return summary"
   ]
  },
  {
   "attachments": {
    "b75bea1e-0426-45ad-9e73-633f52f3fde0.png": {
     "image/png": "[encoded data removed]"
    }
   },
   "cell_type": "markdown",
   "metadata": {},
   "source": [
    "### <font color='blue'>Method III : Text Summarization using TF-IDF scores of sentences</font>\n",
    "\n",
    "#### TF(t) = (Number of times term t appears in a document) / (Total number of terms in the document)\n",
    "\n",
    "#### IDF(t) = log10(Total number of documents / Number of documents with term t in it)\n",
    "####  \n",
    "\n",
    "![TermFrequencyFlowDiagram.drawio (1).png](attachment:b75bea1e-0426-45ad-9e73-633f52f3fde0.png)\n"
   ]
  },
  {
   "cell_type": "code",
   "execution_count": null,
   "metadata": {
    "execution": {
     "iopub.execute_input": "2022-04-08T10:23:37.296006Z",
     "iopub.status.busy": "2022-04-08T10:23:37.295773Z",
     "iopub.status.idle": "2022-04-08T10:23:37.312152Z",
     "shell.execute_reply": "2022-04-08T10:23:37.311111Z",
     "shell.execute_reply.started": "2022-04-08T10:23:37.295979Z"
    }
   },
   "outputs": [],
   "source": [
    "def calc_term_frequency_sentence_wise(sentences):\n",
    "    freq_matrix={}\n",
    "    for sentence in sentences:\n",
    "        words=SpaceTokenizer().tokenize(sentence)\n",
    "        sent_freq_table={}\n",
    "        for word in words:\n",
    "            if word in stopwords:\n",
    "                continue\n",
    "            if word in sent_freq_table:\n",
    "                sent_freq_table[word]+=1\n",
    "            else:\n",
    "                sent_freq_table[word]=1\n",
    "        freq_matrix[sentence[:15]]=sent_freq_table\n",
    "    return freq_matrix\n",
    "        \n",
    "def calc_tf_matrix(freq_matrix):\n",
    "    for sentence,sent_freq_table in freq_matrix.items():\n",
    "        tf_sent={}\n",
    "        sent_len=len(sent_freq_table)\n",
    "        for word in sent_freq_table:\n",
    "            sent_freq_table[word]/=sent_len\n",
    "    return freq_matrix\n",
    "\n",
    "def calc_sentence_frequency(freq_matrix):\n",
    "    sent_freq={}\n",
    "    for sentence,freq_matrix_sent in freq_matrix.items():\n",
    "        for word,count in freq_matrix_sent.items():\n",
    "            if word in sent_freq:\n",
    "                sent_freq[word]+=1\n",
    "            else:\n",
    "                sent_freq[word]=1\n",
    "    return sent_freq\n",
    "\n",
    "def calc_idf_score(total_sentences,sent_freq,freq_matrix):\n",
    "    idf={}\n",
    "    for sentence,freq_matrix_sent in freq_matrix.items():\n",
    "        idf_sent={}\n",
    "        for word in freq_matrix_sent:\n",
    "            idf_sent[word]=math.log10(total_sentences / float(sent_freq[word]))\n",
    "        idf[sentence]=idf_sent\n",
    "    return idf\n",
    "    \n",
    "def calc_tf_idf_score(tf,idf):\n",
    "    tf_idf={}\n",
    "    for (sentence1,tf_sent),(sentence2,idf_sent) in zip(tf.items(),idf.items()):\n",
    "        tf_idf_sent={}\n",
    "        for (word1,tf_score),(word2,idf_score) in zip(tf_sent.items(),idf_sent.items()):\n",
    "            tf_idf_sent[word1]=tf_score*idf_score\n",
    "        tf_idf[sentence1]=tf_idf_sent\n",
    "    return tf_idf\n",
    "\n",
    "def calc_tf_idf_score_sentence_wise(tf_idf_matrix):\n",
    "    tf_idf={}\n",
    "    for sentence,tf_idf_sent in tf_idf_matrix.items():\n",
    "        tf_idf_sentence=0\n",
    "        for word,tf_idf_score in tf_idf_sent.items():\n",
    "            tf_idf_sentence+=tf_idf_score\n",
    "        tf_idf[sentence]=tf_idf_sentence\n",
    "    return tf_idf"
   ]
  },
  {
   "cell_type": "code",
   "execution_count": null,
   "metadata": {
    "execution": {
     "iopub.execute_input": "2022-04-08T10:23:37.314032Z",
     "iopub.status.busy": "2022-04-08T10:23:37.313460Z",
     "iopub.status.idle": "2022-04-08T10:23:37.332675Z",
     "shell.execute_reply": "2022-04-08T10:23:37.331672Z",
     "shell.execute_reply.started": "2022-04-08T10:23:37.313996Z"
    }
   },
   "outputs": [],
   "source": [
    "def get_tf_idf(sentences):\n",
    "    sent_freq_matrix=calc_term_frequency_sentence_wise(sentences)\n",
    "    freq_matrix=calc_tf_matrix(sent_freq_matrix)\n",
    "    total_sentences=len(sentences)\n",
    "    sent_freq=calc_sentence_frequency(freq_matrix)\n",
    "    idf=calc_idf_score(total_sentences,sent_freq,freq_matrix)\n",
    "    tf_idf_matrix=calc_tf_idf_score(freq_matrix,idf)\n",
    "    tf_idf=calc_tf_idf_score_sentence_wise(tf_idf_matrix)\n",
    "    return tf_idf\n",
    "\n",
    "def summarise_tf_idf_sentence_weighting(sentences):\n",
    "    tf_idf=get_tf_idf(sentences)\n",
    "    sentences=remove_redundant_sentences(sentences)\n",
    "    avg_tf_idf_score=average_sentence_value(tf_idf)\n",
    "    tf_idf_summary,sent_count=generate_summary(avg_tf_idf_score,sentences,tf_idf,15)\n",
    "    return tf_idf_summary\n",
    "    "
   ]
  },
  {
   "cell_type": "markdown",
   "metadata": {},
   "source": [
    "### <font color='blue'>Method V : Text Summarization using Bag of Words(BOW) and PageRank algorithm</font>"
   ]
  },
  {
   "cell_type": "code",
   "execution_count": null,
   "metadata": {
    "execution": {
     "iopub.execute_input": "2022-04-08T10:23:37.376865Z",
     "iopub.status.busy": "2022-04-08T10:23:37.376167Z",
     "iopub.status.idle": "2022-04-08T10:23:37.397845Z",
     "shell.execute_reply": "2022-04-08T10:23:37.396802Z",
     "shell.execute_reply.started": "2022-04-08T10:23:37.376827Z"
    }
   },
   "outputs": [],
   "source": [
    "def preprocess_textrank(text):\n",
    "    formatted_text = re.sub(r'\\s+', ' ', text)\n",
    "    formatted_text = formatted_text.lower()\n",
    "    tokens = []\n",
    "    for token in nltk.word_tokenize(formatted_text):\n",
    "        tokens.append(token)\n",
    "        tokens = [word for word in tokens if word not in stopwords and word not in string.punctuation]\n",
    "        formatted_text = ' '.join(element for element in tokens)\n",
    "\n",
    "  return formatted_text\n",
    "\n",
    "def calculate_sentence_similarity(sentence1, sentence2):\n",
    "  words1 = [word for word in nltk.word_tokenize(sentence1)]\n",
    "  words2 = [word for word in nltk.word_tokenize(sentence2)]\n",
    "\n",
    "  all_words = list(set(words1 + words2))\n",
    "\n",
    "  vector1 = [0] * len(all_words)\n",
    "  vector2 = [0] * len(all_words)\n",
    "\n",
    "  for word in words1:\n",
    "    vector1[all_words.index(word)] += 1\n",
    "  for word in words2:\n",
    "    vector2[all_words.index(word)] += 1\n",
    "\n",
    "  return 1 - cosine_distance(vector1, vector2)\n",
    "\n",
    "def calculate_similarity_matrix(sentences):\n",
    "  similarity_matrix = np.zeros((len(sentences), len(sentences)))\n",
    "  #print(similarity_matrix)\n",
    "  for i in range(len(sentences)):\n",
    "    for j in range(len(sentences)):\n",
    "      if i == j:\n",
    "        continue\n",
    "      similarity_matrix[i][j] = calculate_sentence_similarity(sentences[i], sentences[j])\n",
    "  return similarity_matrix\n",
    "\n",
    "def print_sentence_scores(original_sentences):\n",
    "    for i, score in enumerate(original_sentences):\n",
    "        print(i, score)\n",
    "        \n",
    "def summarize(clean_sentences, percentage = 0):\n",
    "  #original_sentences=sentence_tokenize.sentence_split(original_text, lang='hi')\n",
    "  #formatted_sentences = [preprocess(original_sentence) for original_sentence in original_sentences]\n",
    "  similarity_matrix = calculate_similarity_matrix(clean_sentences)\n",
    "\n",
    "  similarity_graph = nx.from_numpy_array(similarity_matrix)\n",
    "\n",
    "  scores = nx.pagerank(similarity_graph)\n",
    "  ordered_scores = sorted(((scores[i], score) for i, score in enumerate(clean_sentences)), reverse=True)\n",
    "  number_of_sentences=int(len(clean_sentences))\n",
    "  if percentage > 0:\n",
    "    number_of_sentences = int(len(clean_sentences) * percentage)\n",
    "\n",
    "  best_sentences = []\n",
    "  for sentence in range(number_of_sentences):\n",
    "    best_sentences.append(ordered_scores[sentence][1])\n",
    "  \n",
    "  return best_sentences, ordered_scores\n",
    "\n",
    "def generate_summary_textrank(clean_sentences,best_sentences):\n",
    "    sent_dict={}\n",
    "    ordered_list_of_sentences=[]\n",
    "    for sent in clean_sentences:\n",
    "        if sent[:15] in sent_dict:\n",
    "            pass\n",
    "        else:\n",
    "            sent_dict[sent[:15]]=sent\n",
    "            ordered_list_of_sentences.append(sent)\n",
    "    summary_text=\"\"\n",
    "    for sent in ordered_list_of_sentences:\n",
    "        if sent in best_sentences:\n",
    "            summary_text+=sent+\". \"\n",
    "    return summary_text\n"
   ]
  },
  {
   "cell_type": "markdown",
   "metadata": {},
   "source": [
    "### <font color='blue'>Generating summaries from all the above methods</font>"
   ]
  },
  {
   "cell_type": "code",
   "execution_count": null,
   "metadata": {},
   "outputs": [],
   "source": [
    "import numpy as np"
   ]
  },
  {
   "cell_type": "code",
   "execution_count": null,
   "metadata": {},
   "outputs": [],
   "source": [
    "sample=train_dataset.iloc[15]\n",
    "clean_sentences=get_clean_sentences(sample['article'])\n",
    "summary_tf_idf_weight=summarise_tf_idf_sentence_weighting(clean_sentences)\n",
    "summary_textrank=generate_summary_textrank(clean_sentences)\n",
    "\n",
    "print('Summary obtained from TF-IDF scores: ',summary_tf_idf_weight,'\\n')\n",
    "print('Summary obtained from textrank: ',summary_textrank)"
   ]
  },
  {
   "cell_type": "code",
   "execution_count": null,
   "metadata": {},
   "outputs": [],
   "source": []
  },
  {
   "cell_type": "code",
   "execution_count": null,
   "metadata": {},
   "outputs": [],
   "source": []
  },
  {
   "cell_type": "code",
   "execution_count": null,
   "metadata": {},
   "outputs": [],
   "source": []
  },
  {
   "cell_type": "markdown",
   "metadata": {
    "scrolled": false
   },
   "source": [
    "##### train_dataset"
   ]
  }
 ],
 "metadata": {
  "kernelspec": {
   "display_name": "Python 3 (ipykernel)",
   "language": "python",
   "name": "python3"
  },
  "language_info": {
   "codemirror_mode": {
    "name": "ipython",
    "version": 3
   },
   "file_extension": ".py",
   "mimetype": "text/x-python",
   "name": "python",
   "nbconvert_exporter": "python",
   "pygments_lexer": "ipython3",
   "version": "3.9.13"
  }
 },
 "nbformat": 4,
 "nbformat_minor": 4
}
