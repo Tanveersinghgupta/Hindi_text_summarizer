{
 "cells": [
  {
   "cell_type": "markdown",
   "id": "1825fb5a",
   "metadata": {
    "id": "1825fb5a"
   },
   "source": [
    "## Fine tunning T5 Model on Our Data"
   ]
  },
  {
   "cell_type": "code",
   "execution_count": null,
   "id": "kEdtz6XqdApY",
   "metadata": {
    "id": "kEdtz6XqdApY"
   },
   "outputs": [],
   "source": []
  },
  {
   "cell_type": "code",
   "execution_count": null,
   "id": "cac55858",
   "metadata": {
    "id": "cac55858"
   },
   "outputs": [],
   "source": [
    "import pandas as pd\n",
    "import numpy as np\n",
    "data=pd.read_excel(\"translated_data_l5000.xlsx\")"
   ]
  },
  {
   "cell_type": "code",
   "execution_count": null,
   "id": "a371b496",
   "metadata": {
    "colab": {
     "base_uri": "https://localhost:8080/",
     "height": 745
    },
    "id": "a371b496",
    "outputId": "64579b3f-3159-4645-9655-979635f546ba"
   },
   "outputs": [
    {
     "data": {
      "text/html": [
       "\n",
       "  <div id=\"df-7eea73d8-2a4f-4a36-9085-6cf1619f3eaf\">\n",
       "    <div class=\"colab-df-container\">\n",
       "      <div>\n",
       "<style scoped>\n",
       "    .dataframe tbody tr th:only-of-type {\n",
       "        vertical-align: middle;\n",
       "    }\n",
       "\n",
       "    .dataframe tbody tr th {\n",
       "        vertical-align: top;\n",
       "    }\n",
       "\n",
       "    .dataframe thead th {\n",
       "        text-align: right;\n",
       "    }\n",
       "</style>\n",
       "<table border=\"1\" class=\"dataframe\">\n",
       "  <thead>\n",
       "    <tr style=\"text-align: right;\">\n",
       "      <th></th>\n",
       "      <th>og_article</th>\n",
       "      <th>og_summary</th>\n",
       "      <th>og_headline</th>\n",
       "      <th>article</th>\n",
       "      <th>summary</th>\n",
       "      <th>headline</th>\n",
       "    </tr>\n",
       "  </thead>\n",
       "  <tbody>\n",
       "    <tr>\n",
       "      <th>0</th>\n",
       "      <td>ब्लैकबेरी हैंडसेट बनाने वाली कनाडा की कंपनी रि...</td>\n",
       "      <td>ब्लैकबेरी हैंडसेट बनाने वाली कनाडा की कंपनी रि...</td>\n",
       "      <td>रिम करेगा दो हजार कर्मचारियों की छंटनी</td>\n",
       "      <td>The Canadian company Research in Motion Rim, w...</td>\n",
       "      <td>The Canadian company Research in Motion Rim, w...</td>\n",
       "      <td>Rim will be trimmed of two thousand employees</td>\n",
       "    </tr>\n",
       "    <tr>\n",
       "      <th>1</th>\n",
       "      <td>अमेरिका में राष्ट्रपति पद के लिए डेमोक्रेटिक प...</td>\n",
       "      <td>श्रद्धांजलि सभा के दौरान अचानक खराब हुई हिलेरी...</td>\n",
       "      <td>अमेरिका राष्ट्रपति पद की उम्मीदवार हिलेरी क्लि...</td>\n",
       "      <td>Hillary Clinton, a Democratic Party candidate ...</td>\n",
       "      <td>Hillary Clinton's health that suddenly deterio...</td>\n",
       "      <td>US Presidential candidate Hillary Clinton conf...</td>\n",
       "    </tr>\n",
       "    <tr>\n",
       "      <th>2</th>\n",
       "      <td>इंडिगो एयरलाइन के प्रेसीडेंट और डायरेक्टर आदित...</td>\n",
       "      <td>इंडिगो के ग्राउंड स्टाफ ने यात्री से की हाथापा...</td>\n",
       "      <td>इंडिगो के स्टाफ ने दिल्ली एयरपोर्ट पर पैसेंजर ...</td>\n",
       "      <td>Aditya Ghosh, President and director of Indigo...</td>\n",
       "      <td>Indigo's ground staff has apologized for this ...</td>\n",
       "      <td>Indigo staff assaulted passenger at Delhi Airp...</td>\n",
       "    </tr>\n",
       "    <tr>\n",
       "      <th>3</th>\n",
       "      <td>संजय लीला भंसाली की फिल्म मलाल से बॉलीवुड में ...</td>\n",
       "      <td>मीजान जाफरी ने किया खुलासानव्या नंदा को बताया ...</td>\n",
       "      <td>नव्या नवेली के साथ दोस्ती पर जावेद जाफरी के बे...</td>\n",
       "      <td>Mejan Jafri, who made her Bollywood debut with...</td>\n",
       "      <td>Meijan Jafri opted out to Nanda, a good friend...</td>\n",
       "      <td>Javed Jaffrey's son revealed this on friendshi...</td>\n",
       "    </tr>\n",
       "    <tr>\n",
       "      <th>4</th>\n",
       "      <td>इस पूरे मामले की जांच उत्तर-प्रदेश सरकार द्वार...</td>\n",
       "      <td>समर्थकों के साथ पुलिस अधिकारी के आवास के बाहर...</td>\n",
       "      <td>उन्नाव रेप केस आधी रात को आरोपी विधायक कुलदीप ...</td>\n",
       "      <td>The SIT is being investigated by the Uttar Pra...</td>\n",
       "      <td>The supporters had reached outside the police ...</td>\n",
       "      <td>Unnao rape case did not surrender in front of ...</td>\n",
       "    </tr>\n",
       "    <tr>\n",
       "      <th>...</th>\n",
       "      <td>...</td>\n",
       "      <td>...</td>\n",
       "      <td>...</td>\n",
       "      <td>...</td>\n",
       "      <td>...</td>\n",
       "      <td>...</td>\n",
       "    </tr>\n",
       "    <tr>\n",
       "      <th>120</th>\n",
       "      <td>लेकिन ड्राइव से पहले जो चीज मुझे सबसे दिलचस्प ...</td>\n",
       "      <td>फ्रैंकफर्ट मोटर्स शो में लांच होगा इसमें है ली...</td>\n",
       "      <td>फ्रैंकफर्ट मोटर्स शो में लांच होगा लांचिंग से ...</td>\n",
       "      <td>But the thing that I found before the drive is...</td>\n",
       "      <td>Frankfurt Motors show will be launched in the ...</td>\n",
       "      <td>Frankfurt Motors show will be launched at the ...</td>\n",
       "    </tr>\n",
       "    <tr>\n",
       "      <th>121</th>\n",
       "      <td>अंतरराष्ट्रीय आतंकवादी संगठन अल कायदा के नए सर...</td>\n",
       "      <td>अल कायदा के नए सरगना सैफ अल अदेल ने ओसामा बिन ...</td>\n",
       "      <td>ओसामा की मौत का बदला लेकर रहेंगे</td>\n",
       "      <td>Saif Al Adel, the new kingpin of the internati...</td>\n",
       "      <td>Al Qaeda's new leader Saif Al Adel has resolve...</td>\n",
       "      <td>Will take revenge for Osama's death</td>\n",
       "    </tr>\n",
       "    <tr>\n",
       "      <th>122</th>\n",
       "      <td>शाहिद कपूर ने सिगरेट पीते हिए एंट्री मारी है इ...</td>\n",
       "      <td>कबीर सिंह का टीजर रिलीजधाकड़ लुक में दिखे शाह...</td>\n",
       "      <td>शाहिद कपूर ने राउडी अंदाज में मारी एंट्री ने ...</td>\n",
       "      <td>Shahid Kapoor smoking cigarettes, looking at t...</td>\n",
       "      <td>Kabir Singh's teaser is seen in the release lo...</td>\n",
       "      <td>Shahid Kapoor exploded Mari entry in Rowdy style</td>\n",
       "    </tr>\n",
       "    <tr>\n",
       "      <th>123</th>\n",
       "      <td>कार्यालय में अगर खड़ूस सा बॉस आसपास घूमता रहे ...</td>\n",
       "      <td>कार्यालय में अगर खड़ूस सा बॉस आसपास घूमता रहे ...</td>\n",
       "      <td>आसपास बॉस रहे तो दिल का दौरा पड़ने का जोखिम ज्...</td>\n",
       "      <td>If a bitter boss continues to roam around in t...</td>\n",
       "      <td>If a bitter boss continues to roam around in t...</td>\n",
       "      <td>If the boss is around, then the risk of heart ...</td>\n",
       "    </tr>\n",
       "    <tr>\n",
       "      <th>124</th>\n",
       "      <td>कर्नाटक में हुए पोर्नगेट स्कैण्डल के बाद अब गु...</td>\n",
       "      <td>गुजरात विधानसभा में भाजपा के दो सदस्य एक आई-पै...</td>\n",
       "      <td>एक और पोर्नगेट अब गुजरात विस में भाजपाइयों ने ...</td>\n",
       "      <td>After the Porngate Scandal held in Karnataka, ...</td>\n",
       "      <td>In the Gujarat Legislative Assembly, two BJP m...</td>\n",
       "      <td>Another porngate now watched pornographic vide...</td>\n",
       "    </tr>\n",
       "  </tbody>\n",
       "</table>\n",
       "<p>125 rows × 6 columns</p>\n",
       "</div>\n",
       "      <button class=\"colab-df-convert\" onclick=\"convertToInteractive('df-7eea73d8-2a4f-4a36-9085-6cf1619f3eaf')\"\n",
       "              title=\"Convert this dataframe to an interactive table.\"\n",
       "              style=\"display:none;\">\n",
       "        \n",
       "  <svg xmlns=\"http://www.w3.org/2000/svg\" height=\"24px\"viewBox=\"0 0 24 24\"\n",
       "       width=\"24px\">\n",
       "    <path d=\"M0 0h24v24H0V0z\" fill=\"none\"/>\n",
       "    <path d=\"M18.56 5.44l.94 2.06.94-2.06 2.06-.94-2.06-.94-.94-2.06-.94 2.06-2.06.94zm-11 1L8.5 8.5l.94-2.06 2.06-.94-2.06-.94L8.5 2.5l-.94 2.06-2.06.94zm10 10l.94 2.06.94-2.06 2.06-.94-2.06-.94-.94-2.06-.94 2.06-2.06.94z\"/><path d=\"M17.41 7.96l-1.37-1.37c-.4-.4-.92-.59-1.43-.59-.52 0-1.04.2-1.43.59L10.3 9.45l-7.72 7.72c-.78.78-.78 2.05 0 2.83L4 21.41c.39.39.9.59 1.41.59.51 0 1.02-.2 1.41-.59l7.78-7.78 2.81-2.81c.8-.78.8-2.07 0-2.86zM5.41 20L4 18.59l7.72-7.72 1.47 1.35L5.41 20z\"/>\n",
       "  </svg>\n",
       "      </button>\n",
       "      \n",
       "  <style>\n",
       "    .colab-df-container {\n",
       "      display:flex;\n",
       "      flex-wrap:wrap;\n",
       "      gap: 12px;\n",
       "    }\n",
       "\n",
       "    .colab-df-convert {\n",
       "      background-color: #E8F0FE;\n",
       "      border: none;\n",
       "      border-radius: 50%;\n",
       "      cursor: pointer;\n",
       "      display: none;\n",
       "      fill: #1967D2;\n",
       "      height: 32px;\n",
       "      padding: 0 0 0 0;\n",
       "      width: 32px;\n",
       "    }\n",
       "\n",
       "    .colab-df-convert:hover {\n",
       "      background-color: #E2EBFA;\n",
       "      box-shadow: 0px 1px 2px rgba(60, 64, 67, 0.3), 0px 1px 3px 1px rgba(60, 64, 67, 0.15);\n",
       "      fill: #174EA6;\n",
       "    }\n",
       "\n",
       "    [theme=dark] .colab-df-convert {\n",
       "      background-color: #3B4455;\n",
       "      fill: #D2E3FC;\n",
       "    }\n",
       "\n",
       "    [theme=dark] .colab-df-convert:hover {\n",
       "      background-color: #434B5C;\n",
       "      box-shadow: 0px 1px 3px 1px rgba(0, 0, 0, 0.15);\n",
       "      filter: drop-shadow(0px 1px 2px rgba(0, 0, 0, 0.3));\n",
       "      fill: #FFFFFF;\n",
       "    }\n",
       "  </style>\n",
       "\n",
       "      <script>\n",
       "        const buttonEl =\n",
       "          document.querySelector('#df-7eea73d8-2a4f-4a36-9085-6cf1619f3eaf button.colab-df-convert');\n",
       "        buttonEl.style.display =\n",
       "          google.colab.kernel.accessAllowed ? 'block' : 'none';\n",
       "\n",
       "        async function convertToInteractive(key) {\n",
       "          const element = document.querySelector('#df-7eea73d8-2a4f-4a36-9085-6cf1619f3eaf');\n",
       "          const dataTable =\n",
       "            await google.colab.kernel.invokeFunction('convertToInteractive',\n",
       "                                                     [key], {});\n",
       "          if (!dataTable) return;\n",
       "\n",
       "          const docLinkHtml = 'Like what you see? Visit the ' +\n",
       "            '<a target=\"_blank\" href=https://colab.research.google.com/notebooks/data_table.ipynb>data table notebook</a>'\n",
       "            + ' to learn more about interactive tables.';\n",
       "          element.innerHTML = '';\n",
       "          dataTable['output_type'] = 'display_data';\n",
       "          await google.colab.output.renderOutput(dataTable, element);\n",
       "          const docLink = document.createElement('div');\n",
       "          docLink.innerHTML = docLinkHtml;\n",
       "          element.appendChild(docLink);\n",
       "        }\n",
       "      </script>\n",
       "    </div>\n",
       "  </div>\n",
       "  "
      ],
      "text/plain": [
       "                                            og_article  \\\n",
       "0    ब्लैकबेरी हैंडसेट बनाने वाली कनाडा की कंपनी रि...   \n",
       "1    अमेरिका में राष्ट्रपति पद के लिए डेमोक्रेटिक प...   \n",
       "2    इंडिगो एयरलाइन के प्रेसीडेंट और डायरेक्टर आदित...   \n",
       "3    संजय लीला भंसाली की फिल्म मलाल से बॉलीवुड में ...   \n",
       "4    इस पूरे मामले की जांच उत्तर-प्रदेश सरकार द्वार...   \n",
       "..                                                 ...   \n",
       "120  लेकिन ड्राइव से पहले जो चीज मुझे सबसे दिलचस्प ...   \n",
       "121  अंतरराष्ट्रीय आतंकवादी संगठन अल कायदा के नए सर...   \n",
       "122  शाहिद कपूर ने सिगरेट पीते हिए एंट्री मारी है इ...   \n",
       "123  कार्यालय में अगर खड़ूस सा बॉस आसपास घूमता रहे ...   \n",
       "124  कर्नाटक में हुए पोर्नगेट स्कैण्डल के बाद अब गु...   \n",
       "\n",
       "                                            og_summary  \\\n",
       "0    ब्लैकबेरी हैंडसेट बनाने वाली कनाडा की कंपनी रि...   \n",
       "1    श्रद्धांजलि सभा के दौरान अचानक खराब हुई हिलेरी...   \n",
       "2    इंडिगो के ग्राउंड स्टाफ ने यात्री से की हाथापा...   \n",
       "3    मीजान जाफरी ने किया खुलासानव्या नंदा को बताया ...   \n",
       "4     समर्थकों के साथ पुलिस अधिकारी के आवास के बाहर...   \n",
       "..                                                 ...   \n",
       "120  फ्रैंकफर्ट मोटर्स शो में लांच होगा इसमें है ली...   \n",
       "121  अल कायदा के नए सरगना सैफ अल अदेल ने ओसामा बिन ...   \n",
       "122   कबीर सिंह का टीजर रिलीजधाकड़ लुक में दिखे शाह...   \n",
       "123  कार्यालय में अगर खड़ूस सा बॉस आसपास घूमता रहे ...   \n",
       "124  गुजरात विधानसभा में भाजपा के दो सदस्य एक आई-पै...   \n",
       "\n",
       "                                           og_headline  \\\n",
       "0              रिम करेगा दो हजार कर्मचारियों की छंटनी    \n",
       "1    अमेरिका राष्ट्रपति पद की उम्मीदवार हिलेरी क्लि...   \n",
       "2    इंडिगो के स्टाफ ने दिल्ली एयरपोर्ट पर पैसेंजर ...   \n",
       "3    नव्या नवेली के साथ दोस्ती पर जावेद जाफरी के बे...   \n",
       "4    उन्नाव रेप केस आधी रात को आरोपी विधायक कुलदीप ...   \n",
       "..                                                 ...   \n",
       "120  फ्रैंकफर्ट मोटर्स शो में लांच होगा लांचिंग से ...   \n",
       "121                  ओसामा की मौत का बदला लेकर रहेंगे    \n",
       "122   शाहिद कपूर ने राउडी अंदाज में मारी एंट्री ने ...   \n",
       "123  आसपास बॉस रहे तो दिल का दौरा पड़ने का जोखिम ज्...   \n",
       "124  एक और पोर्नगेट अब गुजरात विस में भाजपाइयों ने ...   \n",
       "\n",
       "                                               article  \\\n",
       "0    The Canadian company Research in Motion Rim, w...   \n",
       "1    Hillary Clinton, a Democratic Party candidate ...   \n",
       "2    Aditya Ghosh, President and director of Indigo...   \n",
       "3    Mejan Jafri, who made her Bollywood debut with...   \n",
       "4    The SIT is being investigated by the Uttar Pra...   \n",
       "..                                                 ...   \n",
       "120  But the thing that I found before the drive is...   \n",
       "121  Saif Al Adel, the new kingpin of the internati...   \n",
       "122  Shahid Kapoor smoking cigarettes, looking at t...   \n",
       "123  If a bitter boss continues to roam around in t...   \n",
       "124  After the Porngate Scandal held in Karnataka, ...   \n",
       "\n",
       "                                               summary  \\\n",
       "0    The Canadian company Research in Motion Rim, w...   \n",
       "1    Hillary Clinton's health that suddenly deterio...   \n",
       "2    Indigo's ground staff has apologized for this ...   \n",
       "3    Meijan Jafri opted out to Nanda, a good friend...   \n",
       "4    The supporters had reached outside the police ...   \n",
       "..                                                 ...   \n",
       "120  Frankfurt Motors show will be launched in the ...   \n",
       "121  Al Qaeda's new leader Saif Al Adel has resolve...   \n",
       "122  Kabir Singh's teaser is seen in the release lo...   \n",
       "123  If a bitter boss continues to roam around in t...   \n",
       "124  In the Gujarat Legislative Assembly, two BJP m...   \n",
       "\n",
       "                                              headline  \n",
       "0        Rim will be trimmed of two thousand employees  \n",
       "1    US Presidential candidate Hillary Clinton conf...  \n",
       "2    Indigo staff assaulted passenger at Delhi Airp...  \n",
       "3    Javed Jaffrey's son revealed this on friendshi...  \n",
       "4    Unnao rape case did not surrender in front of ...  \n",
       "..                                                 ...  \n",
       "120  Frankfurt Motors show will be launched at the ...  \n",
       "121                Will take revenge for Osama's death  \n",
       "122   Shahid Kapoor exploded Mari entry in Rowdy style  \n",
       "123  If the boss is around, then the risk of heart ...  \n",
       "124  Another porngate now watched pornographic vide...  \n",
       "\n",
       "[125 rows x 6 columns]"
      ]
     },
     "execution_count": 2,
     "metadata": {},
     "output_type": "execute_result"
    }
   ],
   "source": [
    "data"
   ]
  },
  {
   "cell_type": "code",
   "execution_count": null,
   "id": "86ce1522",
   "metadata": {
    "id": "86ce1522"
   },
   "outputs": [],
   "source": [
    "!pip install datasets transformers rouge-score nltk -q"
   ]
  },
  {
   "cell_type": "code",
   "execution_count": null,
   "id": "8bivzRSz9JPZ",
   "metadata": {
    "colab": {
     "base_uri": "https://localhost:8080/"
    },
    "id": "8bivzRSz9JPZ",
    "outputId": "2ed42302-6a86-41b8-e813-f9e162fbf657"
   },
   "outputs": [
    {
     "name": "stdout",
     "output_type": "stream",
     "text": [
      "Looking in indexes: https://pypi.org/simple, https://us-python.pkg.dev/colab-wheels/public/simple/\n",
      "Requirement already satisfied: datasets in /usr/local/lib/python3.9/dist-packages (2.11.0)\n",
      "Requirement already satisfied: xxhash in /usr/local/lib/python3.9/dist-packages (from datasets) (3.2.0)\n",
      "Requirement already satisfied: aiohttp in /usr/local/lib/python3.9/dist-packages (from datasets) (3.8.4)\n",
      "Requirement already satisfied: pyarrow>=8.0.0 in /usr/local/lib/python3.9/dist-packages (from datasets) (9.0.0)\n",
      "Requirement already satisfied: huggingface-hub<1.0.0,>=0.11.0 in /usr/local/lib/python3.9/dist-packages (from datasets) (0.13.4)\n",
      "Requirement already satisfied: fsspec[http]>=2021.11.1 in /usr/local/lib/python3.9/dist-packages (from datasets) (2023.4.0)\n",
      "Requirement already satisfied: requests>=2.19.0 in /usr/local/lib/python3.9/dist-packages (from datasets) (2.27.1)\n",
      "Requirement already satisfied: packaging in /usr/local/lib/python3.9/dist-packages (from datasets) (23.1)\n",
      "Requirement already satisfied: responses<0.19 in /usr/local/lib/python3.9/dist-packages (from datasets) (0.18.0)\n",
      "Requirement already satisfied: multiprocess in /usr/local/lib/python3.9/dist-packages (from datasets) (0.70.14)\n",
      "Requirement already satisfied: pandas in /usr/local/lib/python3.9/dist-packages (from datasets) (1.5.3)\n",
      "Requirement already satisfied: numpy>=1.17 in /usr/local/lib/python3.9/dist-packages (from datasets) (1.22.4)\n",
      "Requirement already satisfied: tqdm>=4.62.1 in /usr/local/lib/python3.9/dist-packages (from datasets) (4.65.0)\n",
      "Requirement already satisfied: dill<0.3.7,>=0.3.0 in /usr/local/lib/python3.9/dist-packages (from datasets) (0.3.6)\n",
      "Requirement already satisfied: pyyaml>=5.1 in /usr/local/lib/python3.9/dist-packages (from datasets) (6.0)\n",
      "Requirement already satisfied: async-timeout<5.0,>=4.0.0a3 in /usr/local/lib/python3.9/dist-packages (from aiohttp->datasets) (4.0.2)\n",
      "Requirement already satisfied: attrs>=17.3.0 in /usr/local/lib/python3.9/dist-packages (from aiohttp->datasets) (23.1.0)\n",
      "Requirement already satisfied: aiosignal>=1.1.2 in /usr/local/lib/python3.9/dist-packages (from aiohttp->datasets) (1.3.1)\n",
      "Requirement already satisfied: charset-normalizer<4.0,>=2.0 in /usr/local/lib/python3.9/dist-packages (from aiohttp->datasets) (2.0.12)\n",
      "Requirement already satisfied: yarl<2.0,>=1.0 in /usr/local/lib/python3.9/dist-packages (from aiohttp->datasets) (1.9.1)\n",
      "Requirement already satisfied: multidict<7.0,>=4.5 in /usr/local/lib/python3.9/dist-packages (from aiohttp->datasets) (6.0.4)\n",
      "Requirement already satisfied: frozenlist>=1.1.1 in /usr/local/lib/python3.9/dist-packages (from aiohttp->datasets) (1.3.3)\n",
      "Requirement already satisfied: typing-extensions>=3.7.4.3 in /usr/local/lib/python3.9/dist-packages (from huggingface-hub<1.0.0,>=0.11.0->datasets) (4.5.0)\n",
      "Requirement already satisfied: filelock in /usr/local/lib/python3.9/dist-packages (from huggingface-hub<1.0.0,>=0.11.0->datasets) (3.11.0)\n",
      "Requirement already satisfied: certifi>=2017.4.17 in /usr/local/lib/python3.9/dist-packages (from requests>=2.19.0->datasets) (2022.12.7)\n",
      "Requirement already satisfied: urllib3<1.27,>=1.21.1 in /usr/local/lib/python3.9/dist-packages (from requests>=2.19.0->datasets) (1.26.15)\n",
      "Requirement already satisfied: idna<4,>=2.5 in /usr/local/lib/python3.9/dist-packages (from requests>=2.19.0->datasets) (3.4)\n",
      "Requirement already satisfied: pytz>=2020.1 in /usr/local/lib/python3.9/dist-packages (from pandas->datasets) (2022.7.1)\n",
      "Requirement already satisfied: python-dateutil>=2.8.1 in /usr/local/lib/python3.9/dist-packages (from pandas->datasets) (2.8.2)\n",
      "Requirement already satisfied: six>=1.5 in /usr/local/lib/python3.9/dist-packages (from python-dateutil>=2.8.1->pandas->datasets) (1.16.0)\n"
     ]
    }
   ],
   "source": [
    "!pip install datasets"
   ]
  },
  {
   "cell_type": "code",
   "execution_count": null,
   "id": "f638a170",
   "metadata": {
    "id": "f638a170"
   },
   "outputs": [],
   "source": [
    "import torch\n",
    "\n",
    "import datasets\n",
    "from datasets import Dataset\n",
    "from datasets import load_metric"
   ]
  },
  {
   "cell_type": "code",
   "execution_count": null,
   "id": "46516708",
   "metadata": {
    "colab": {
     "base_uri": "https://localhost:8080/"
    },
    "id": "46516708",
    "outputId": "54500357-d163-42cb-e80a-c25655c9da55"
   },
   "outputs": [
    {
     "name": "stdout",
     "output_type": "stream",
     "text": [
      "4.28.1\n"
     ]
    }
   ],
   "source": [
    "import transformers\n",
    "print(transformers.__version__)"
   ]
  },
  {
   "cell_type": "code",
   "execution_count": null,
   "id": "8d74c77a",
   "metadata": {
    "colab": {
     "base_uri": "https://localhost:8080/"
    },
    "id": "8d74c77a",
    "outputId": "18142514-f1dd-4d88-c337-70ceae28ca74"
   },
   "outputs": [
    {
     "name": "stderr",
     "output_type": "stream",
     "text": [
      "/usr/local/lib/python3.9/dist-packages/transformers/models/t5/tokenization_t5_fast.py:155: FutureWarning: This tokenizer was incorrectly instantiated with a model max length of 512 which will be corrected in Transformers v5.\n",
      "For now, this behavior is kept to avoid breaking backwards compatibility when padding/encoding with `truncation is True`.\n",
      "- Be aware that you SHOULD NOT rely on t5-small automatically truncating your input to 512 when padding/encoding.\n",
      "- If you want to encode/pad to sequences longer than 512 you can either instantiate this tokenizer with `model_max_length` or pass `max_length` when encoding/padding.\n",
      "- To avoid this warning, please instantiate this tokenizer with `model_max_length` set to your preferred value.\n",
      "  warnings.warn(\n"
     ]
    }
   ],
   "source": [
    "from transformers import AutoTokenizer\n",
    "\n",
    "model_checkpoint ='t5-small'\n",
    "    \n",
    "tokenizer = AutoTokenizer.from_pretrained(model_checkpoint)\n",
    "\n",
    "pad_on_right = tokenizer.padding_side == \"right\""
   ]
  },
  {
   "cell_type": "code",
   "execution_count": null,
   "id": "810f7d9f",
   "metadata": {
    "id": "810f7d9f"
   },
   "outputs": [],
   "source": [
    "max_input_length = 1000\n",
    "max_target_length = 100"
   ]
  },
  {
   "cell_type": "code",
   "execution_count": null,
   "id": "562e0554",
   "metadata": {
    "colab": {
     "base_uri": "https://localhost:8080/"
    },
    "id": "562e0554",
    "outputId": "c6d108d8-3d39-48ad-ecd0-714d66d5ab9b"
   },
   "outputs": [
    {
     "data": {
      "text/plain": [
       "((100, 6), (10, 6), (15, 6))"
      ]
     },
     "execution_count": 9,
     "metadata": {},
     "output_type": "execute_result"
    }
   ],
   "source": [
    "df=data\n",
    "train = df[:100]\n",
    "valid = df[100:110]\n",
    "test = df[110:]\n",
    "train.shape, valid.shape,test.shape"
   ]
  },
  {
   "cell_type": "code",
   "execution_count": null,
   "id": "05b71f6b",
   "metadata": {
    "id": "05b71f6b"
   },
   "outputs": [],
   "source": [
    "def preprocess_function(examples):\n",
    "    inputs = ['summarize:' + doc for doc in examples[\"article\"]]\n",
    "    model_inputs = tokenizer(inputs, max_length=max_input_length, truncation=True,padding='max_length')\n",
    "\n",
    "    # Setup the tokenizer for targets\n",
    "    with tokenizer.as_target_tokenizer():\n",
    "        labels = tokenizer(examples[\"summary\"], max_length=max_target_length, truncation=True)\n",
    "\n",
    "    model_inputs[\"labels\"] = labels[\"input_ids\"]\n",
    "    return model_inputs"
   ]
  },
  {
   "cell_type": "code",
   "execution_count": null,
   "id": "fca692aa",
   "metadata": {
    "id": "fca692aa"
   },
   "outputs": [],
   "source": [
    "import torch\n",
    "import datasets\n",
    "from datasets import Dataset\n",
    "\n",
    "train = Dataset.from_pandas(train)\n",
    "valid = Dataset.from_pandas(valid)"
   ]
  },
  {
   "cell_type": "code",
   "execution_count": null,
   "id": "b335abc1",
   "metadata": {
    "colab": {
     "base_uri": "https://localhost:8080/",
     "height": 72,
     "referenced_widgets": [
      "d6b4baddf6a34669baa77f81022c10f4",
      "507c84e798e44e42b8c66ebee47cded8",
      "b4999d2164e34b969296ac6ddba46e3e",
      "453ecb975d41433da2c7ac27aaf517e4",
      "36f8088d16d4403092cb61fbe74070cf",
      "f430344adc29463da9faa050b75e62d5",
      "b076f0d87bf845bbb141d0ad59db2182",
      "4c0b03af456c43c1893af7c5009a401a",
      "592b741c0240411aa91d10f38c4b07fe",
      "d10e64c3e6964fd38713b3c37244b327",
      "6ecec3c47b7d4b6ebde849bec1230957",
      "9e4de325f6ed4dcb9c41684f9dc282c8",
      "c0ab60f8e13b444ba286d3307b5e7b4f",
      "241da38d4ef948df82c09fa17cb88082",
      "8a7f255e8c6e4745bca9e577f61eb0a4",
      "9dadccb2bd5f441492787c4cb22b83b2",
      "908efc8b866d4e378f4eb8daf2478c8d",
      "47f3baba948e4d47b95e80ea29b231b3",
      "1b3fdfe998ab492d8e42f1e9ecf012fb",
      "f9ff8fceb6af48be83bca087bc57ef47",
      "9b0227ee28da4b1aa58c7ad78e21c64d",
      "18820d6837d045bc92630b7a1e637863"
     ]
    },
    "id": "b335abc1",
    "outputId": "f2673e0c-d928-462c-e6b2-8d4ded693c1e"
   },
   "outputs": [
    {
     "data": {
      "application/vnd.jupyter.widget-view+json": {
       "model_id": "d6b4baddf6a34669baa77f81022c10f4",
       "version_major": 2,
       "version_minor": 0
      },
      "text/plain": [
       "Map:   0%|          | 0/100 [00:00<?, ? examples/s]"
      ]
     },
     "metadata": {},
     "output_type": "display_data"
    },
    {
     "name": "stderr",
     "output_type": "stream",
     "text": [
      "/usr/local/lib/python3.9/dist-packages/transformers/tokenization_utils_base.py:3596: UserWarning: `as_target_tokenizer` is deprecated and will be removed in v5 of Transformers. You can tokenize your labels by using the argument `text_target` of the regular `__call__` method (either in the same call as your input texts if you use the same keyword arguments, or in a separate call.\n",
      "  warnings.warn(\n"
     ]
    },
    {
     "data": {
      "application/vnd.jupyter.widget-view+json": {
       "model_id": "9e4de325f6ed4dcb9c41684f9dc282c8",
       "version_major": 2,
       "version_minor": 0
      },
      "text/plain": [
       "Map:   0%|          | 0/10 [00:00<?, ? examples/s]"
      ]
     },
     "metadata": {},
     "output_type": "display_data"
    }
   ],
   "source": [
    "tokenized_train = train.map(preprocess_function, batched=True)\n",
    "tokenized_valid = valid.map(preprocess_function, batched=True)"
   ]
  },
  {
   "cell_type": "code",
   "execution_count": null,
   "id": "31eb4049",
   "metadata": {
    "id": "31eb4049"
   },
   "outputs": [],
   "source": [
    "import transformers\n",
    "assert isinstance(tokenizer, transformers.PreTrainedTokenizerFast)"
   ]
  },
  {
   "cell_type": "markdown",
   "id": "3407e618",
   "metadata": {
    "id": "3407e618"
   },
   "source": [
    "### Fine Tuning"
   ]
  },
  {
   "cell_type": "code",
   "execution_count": null,
   "id": "04f30872",
   "metadata": {
    "id": "04f30872"
   },
   "outputs": [],
   "source": [
    "from transformers import AutoModelForSeq2SeqLM, DataCollatorForSeq2Seq, Seq2SeqTrainingArguments, Seq2SeqTrainer\n",
    "\n",
    "model = AutoModelForSeq2SeqLM.from_pretrained(model_checkpoint)"
   ]
  },
  {
   "cell_type": "code",
   "execution_count": null,
   "id": "478842a0",
   "metadata": {
    "id": "478842a0"
   },
   "outputs": [],
   "source": [
    "batch_size = 10\n",
    "data_collator = DataCollatorForSeq2Seq(tokenizer, model=model)"
   ]
  },
  {
   "cell_type": "code",
   "execution_count": null,
   "id": "a6cd5627",
   "metadata": {
    "id": "a6cd5627"
   },
   "outputs": [],
   "source": [
    "import nltk\n",
    "import numpy as np\n",
    "\n",
    "def compute_metrics(eval_pred):\n",
    "    predictions, labels = eval_pred\n",
    "    decoded_preds = tokenizer.batch_decode(predictions, skip_special_tokens=True)\n",
    "    # Replace -100 in the labels as we can't decode them.\n",
    "    labels = np.where(labels != -100, labels, tokenizer.pad_token_id)\n",
    "    decoded_labels = tokenizer.batch_decode(labels, skip_special_tokens=True)\n",
    "    \n",
    "    # Rouge expects a newline after each sentence\n",
    "    decoded_preds = [\"\\n\".join(nltk.sent_tokenize(pred.strip())) for pred in decoded_preds]\n",
    "    decoded_labels = [\"\\n\".join(nltk.sent_tokenize(label.strip())) for label in decoded_labels]\n",
    "    \n",
    "    result = metric.compute(predictions=decoded_preds, references=decoded_labels, use_stemmer=True)\n",
    "    # Extract a few results\n",
    "    result = {key: value.mid.fmeasure * 100 for key, value in result.items()}\n",
    "    \n",
    "    # Add mean generated length\n",
    "    prediction_lens = [np.count_nonzero(pred != tokenizer.pad_token_id) for pred in predictions]\n",
    "    result[\"gen_len\"] = np.mean(prediction_lens)\n",
    "    \n",
    "    return {k: round(v, 4) for k, v in result.items()}\n"
   ]
  },
  {
   "cell_type": "code",
   "execution_count": null,
   "id": "6bde2d87",
   "metadata": {
    "colab": {
     "base_uri": "https://localhost:8080/"
    },
    "id": "6bde2d87",
    "outputId": "254c9a7e-fa1f-45eb-9bca-685408ef11fd"
   },
   "outputs": [
    {
     "data": {
      "text/plain": [
       "8"
      ]
     },
     "execution_count": 17,
     "metadata": {},
     "output_type": "execute_result"
    }
   ],
   "source": [
    "import gc\n",
    "gc.collect()"
   ]
  },
  {
   "cell_type": "code",
   "execution_count": null,
   "id": "825c99ed",
   "metadata": {
    "colab": {
     "base_uri": "https://localhost:8080/"
    },
    "id": "825c99ed",
    "outputId": "565ebb61-fe46-4a61-9a1d-94f2ab11d6c2"
   },
   "outputs": [
    {
     "name": "stdout",
     "output_type": "stream",
     "text": [
      "[INFO] training using Tesla T4\n"
     ]
    }
   ],
   "source": [
    "# determine the device we will be using for training\n",
    "DEVICE = \"cuda\" if torch.cuda.is_available() else \"cpu\"\n",
    "print(\"[INFO] training using {}\".format(torch.cuda.get_device_name(0)))\n",
    "#print('There are %d GPU(s) available.' % torch.cuda.device_count())"
   ]
  },
  {
   "cell_type": "code",
   "execution_count": null,
   "id": "e9315358",
   "metadata": {
    "id": "e9315358"
   },
   "outputs": [],
   "source": [
    "torch.cuda.empty_cache()"
   ]
  },
  {
   "cell_type": "code",
   "execution_count": null,
   "id": "244eb698",
   "metadata": {
    "colab": {
     "base_uri": "https://localhost:8080/"
    },
    "id": "244eb698",
    "outputId": "0200f395-d9b6-4eed-f1d1-0ac06b5d7f60"
   },
   "outputs": [
    {
     "name": "stdout",
     "output_type": "stream",
     "text": [
      "env: WANDB_DISABLED=True\n"
     ]
    }
   ],
   "source": [
    "%env WANDB_DISABLED=True"
   ]
  },
  {
   "cell_type": "code",
   "execution_count": null,
   "id": "341049ac",
   "metadata": {
    "colab": {
     "base_uri": "https://localhost:8080/"
    },
    "id": "341049ac",
    "outputId": "1121c74d-0cfb-42f4-ddbf-41332c4a8bc4"
   },
   "outputs": [
    {
     "name": "stderr",
     "output_type": "stream",
     "text": [
      "Using the `WANDB_DISABLED` environment variable is deprecated and will be removed in v5. Use the --report_to flag to control the integrations used for logging result (for instance --report_to none).\n"
     ]
    }
   ],
   "source": [
    "model_name = model_checkpoint.split(\"/\")[-1]\n",
    "args = Seq2SeqTrainingArguments(\n",
    "    f\"{model_name}-finetuned-newsarticles\",\n",
    "    evaluation_strategy = \"epoch\",\n",
    "    learning_rate=2e-5,\n",
    "    per_device_train_batch_size=batch_size,\n",
    "    per_device_eval_batch_size=batch_size,\n",
    "    weight_decay=0.01,\n",
    "    save_total_limit=3,\n",
    "    num_train_epochs=5,\n",
    "    predict_with_generate=True,\n",
    "    fp16=True\n",
    ")"
   ]
  },
  {
   "cell_type": "code",
   "execution_count": null,
   "id": "43a91c13",
   "metadata": {
    "id": "43a91c13"
   },
   "outputs": [],
   "source": [
    "trainer = Seq2SeqTrainer(\n",
    "    model,\n",
    "    args,\n",
    "    train_dataset=tokenized_train,\n",
    "    eval_dataset=tokenized_valid,\n",
    "    data_collator=data_collator,\n",
    "    tokenizer=tokenizer,\n",
    "    compute_metrics=compute_metrics\n",
    ")"
   ]
  },
  {
   "cell_type": "code",
   "execution_count": null,
   "id": "d9a5ee71",
   "metadata": {
    "colab": {
     "base_uri": "https://localhost:8080/"
    },
    "id": "d9a5ee71",
    "outputId": "94423089-b1cb-4956-a5c3-1795869e7cb8"
   },
   "outputs": [
    {
     "name": "stderr",
     "output_type": "stream",
     "text": [
      "<ipython-input-23-7154407f1f07>:1: FutureWarning: load_metric is deprecated and will be removed in the next major version of datasets. Use 'evaluate.load' instead, from the new library 🤗 Evaluate: https://huggingface.co/docs/evaluate\n",
      "  metric = load_metric(\"rouge\")\n"
     ]
    }
   ],
   "source": [
    "metric = load_metric(\"rouge\")"
   ]
  },
  {
   "cell_type": "code",
   "execution_count": null,
   "id": "kNhLcQzQ-Zs6",
   "metadata": {
    "colab": {
     "base_uri": "https://localhost:8080/"
    },
    "id": "kNhLcQzQ-Zs6",
    "outputId": "6b8297ad-b0d7-45a3-dcfd-af994200724e"
   },
   "outputs": [
    {
     "name": "stderr",
     "output_type": "stream",
     "text": [
      "[nltk_data] Downloading package punkt to /root/nltk_data...\n",
      "[nltk_data]   Package punkt is already up-to-date!\n"
     ]
    },
    {
     "data": {
      "text/plain": [
       "True"
      ]
     },
     "execution_count": 24,
     "metadata": {},
     "output_type": "execute_result"
    }
   ],
   "source": [
    "import nltk\n",
    "nltk.download('punkt')"
   ]
  },
  {
   "cell_type": "code",
   "execution_count": null,
   "id": "84574c16",
   "metadata": {
    "colab": {
     "base_uri": "https://localhost:8080/",
     "height": 339
    },
    "id": "84574c16",
    "outputId": "8e6d79e2-1017-4ad2-a3dc-abddfea0f4cb"
   },
   "outputs": [
    {
     "name": "stderr",
     "output_type": "stream",
     "text": [
      "/usr/local/lib/python3.9/dist-packages/transformers/optimization.py:391: FutureWarning: This implementation of AdamW is deprecated and will be removed in a future version. Use the PyTorch implementation torch.optim.AdamW instead, or set `no_deprecation_warning=True` to disable this warning\n",
      "  warnings.warn(\n",
      "You're using a T5TokenizerFast tokenizer. Please note that with a fast tokenizer, using the `__call__` method is faster than using a method to encode the text followed by a call to the `pad` method to get a padded encoding.\n"
     ]
    },
    {
     "data": {
      "text/html": [
       "\n",
       "    <div>\n",
       "      \n",
       "      <progress value='50' max='50' style='width:300px; height:20px; vertical-align: middle;'></progress>\n",
       "      [50/50 00:31, Epoch 5/5]\n",
       "    </div>\n",
       "    <table border=\"1\" class=\"dataframe\">\n",
       "  <thead>\n",
       " <tr style=\"text-align: left;\">\n",
       "      <th>Epoch</th>\n",
       "      <th>Training Loss</th>\n",
       "      <th>Validation Loss</th>\n",
       "      <th>Rouge1</th>\n",
       "      <th>Rouge2</th>\n",
       "      <th>Rougel</th>\n",
       "      <th>Rougelsum</th>\n",
       "      <th>Gen Len</th>\n",
       "    </tr>\n",
       "  </thead>\n",
       "  <tbody>\n",
       "    <tr>\n",
       "      <td>1</td>\n",
       "      <td>No log</td>\n",
       "      <td>2.419704</td>\n",
       "      <td>37.667800</td>\n",
       "      <td>21.224600</td>\n",
       "      <td>33.623100</td>\n",
       "      <td>34.471600</td>\n",
       "      <td>19.000000</td>\n",
       "    </tr>\n",
       "    <tr>\n",
       "      <td>2</td>\n",
       "      <td>No log</td>\n",
       "      <td>2.354662</td>\n",
       "      <td>35.999300</td>\n",
       "      <td>21.400700</td>\n",
       "      <td>32.354300</td>\n",
       "      <td>34.273500</td>\n",
       "      <td>19.000000</td>\n",
       "    </tr>\n",
       "    <tr>\n",
       "      <td>3</td>\n",
       "      <td>No log</td>\n",
       "      <td>2.313812</td>\n",
       "      <td>36.559300</td>\n",
       "      <td>21.530800</td>\n",
       "      <td>34.156200</td>\n",
       "      <td>35.957100</td>\n",
       "      <td>19.000000</td>\n",
       "    </tr>\n",
       "    <tr>\n",
       "      <td>4</td>\n",
       "      <td>No log</td>\n",
       "      <td>2.290521</td>\n",
       "      <td>38.301800</td>\n",
       "      <td>22.241200</td>\n",
       "      <td>35.601600</td>\n",
       "      <td>36.530900</td>\n",
       "      <td>19.000000</td>\n",
       "    </tr>\n",
       "    <tr>\n",
       "      <td>5</td>\n",
       "      <td>No log</td>\n",
       "      <td>2.282169</td>\n",
       "      <td>38.301800</td>\n",
       "      <td>22.241200</td>\n",
       "      <td>35.601600</td>\n",
       "      <td>36.530900</td>\n",
       "      <td>19.000000</td>\n",
       "    </tr>\n",
       "  </tbody>\n",
       "</table><p>"
      ],
      "text/plain": [
       "<IPython.core.display.HTML object>"
      ]
     },
     "metadata": {},
     "output_type": "display_data"
    },
    {
     "data": {
      "text/plain": [
       "TrainOutput(global_step=50, training_loss=2.9805242919921877, metrics={'train_runtime': 33.1042, 'train_samples_per_second': 15.104, 'train_steps_per_second': 1.51, 'total_flos': 132169728000000.0, 'train_loss': 2.9805242919921877, 'epoch': 5.0})"
      ]
     },
     "execution_count": 25,
     "metadata": {},
     "output_type": "execute_result"
    }
   ],
   "source": [
    "trainer.train()"
   ]
  },
  {
   "cell_type": "code",
   "execution_count": null,
   "id": "ff7bb031",
   "metadata": {
    "id": "ff7bb031"
   },
   "outputs": [],
   "source": [
    "eval_dataset = Dataset.from_pandas(test)"
   ]
  },
  {
   "cell_type": "code",
   "execution_count": null,
   "id": "debbae98",
   "metadata": {
    "colab": {
     "base_uri": "https://localhost:8080/",
     "height": 72,
     "referenced_widgets": [
      "ed86fb30ac674f1ea2a3dbdb19024829",
      "94f86542e2a9497b95528abe20718c65",
      "7bef3a8d91834fe3981641c2a97f1642",
      "6b7927e4fbb34e92802a8a522405cd66",
      "8590aec1253f47ffbb1f8a67460e824e",
      "69e3a170f58745b8bcb52f2e0415645b",
      "9f5f5f2459e644dfbd15ce6135990f79",
      "0e89ab576e164ba5b09727bf455a7551",
      "fb3ddf62e7df4c0192b44b4f737a5bb5",
      "418825b698ba48a78e41f377b96e80aa",
      "f8de876bd9d74393ac8e374665512157"
     ]
    },
    "id": "debbae98",
    "outputId": "d9789b3c-78ec-44bc-fee4-2ecd569093d8"
   },
   "outputs": [
    {
     "data": {
      "application/vnd.jupyter.widget-view+json": {
       "model_id": "ed86fb30ac674f1ea2a3dbdb19024829",
       "version_major": 2,
       "version_minor": 0
      },
      "text/plain": [
       "Map:   0%|          | 0/15 [00:00<?, ? examples/s]"
      ]
     },
     "metadata": {},
     "output_type": "display_data"
    },
    {
     "name": "stderr",
     "output_type": "stream",
     "text": [
      "/usr/local/lib/python3.9/dist-packages/transformers/tokenization_utils_base.py:3596: UserWarning: `as_target_tokenizer` is deprecated and will be removed in v5 of Transformers. You can tokenize your labels by using the argument `text_target` of the regular `__call__` method (either in the same call as your input texts if you use the same keyword arguments, or in a separate call.\n",
      "  warnings.warn(\n"
     ]
    }
   ],
   "source": [
    "eval_dataset = eval_dataset.map(\n",
    "                preprocess_function,\n",
    "                batched=True)"
   ]
  },
  {
   "cell_type": "code",
   "execution_count": null,
   "id": "b04e6165",
   "metadata": {
    "colab": {
     "base_uri": "https://localhost:8080/",
     "height": 17
    },
    "id": "b04e6165",
    "outputId": "b2ebc6d5-df41-4683-8e12-8968ca2d64ee"
   },
   "outputs": [
    {
     "data": {
      "text/html": [],
      "text/plain": [
       "<IPython.core.display.HTML object>"
      ]
     },
     "metadata": {},
     "output_type": "display_data"
    }
   ],
   "source": [
    "predict_results = trainer.predict(\n",
    "            eval_dataset,max_length=300, num_beams=3)"
   ]
  },
  {
   "cell_type": "code",
   "execution_count": null,
   "id": "801eeaab",
   "metadata": {
    "id": "801eeaab"
   },
   "outputs": [],
   "source": [
    "metrics = predict_results.metrics"
   ]
  },
  {
   "cell_type": "code",
   "execution_count": null,
   "id": "8115623e",
   "metadata": {
    "colab": {
     "base_uri": "https://localhost:8080/"
    },
    "id": "8115623e",
    "outputId": "9a8df753-e6fe-481c-a21e-b6a2ef464039"
   },
   "outputs": [
    {
     "data": {
      "text/plain": [
       "{'test_loss': 3.2294347286224365,\n",
       " 'test_rouge1': 30.4451,\n",
       " 'test_rouge2': 17.1221,\n",
       " 'test_rougeL': 23.8949,\n",
       " 'test_rougeLsum': 26.528,\n",
       " 'test_gen_len': 79.6667,\n",
       " 'test_runtime': 5.356,\n",
       " 'test_samples_per_second': 2.801,\n",
       " 'test_steps_per_second': 0.373}"
      ]
     },
     "execution_count": 30,
     "metadata": {},
     "output_type": "execute_result"
    }
   ],
   "source": [
    "metrics"
   ]
  },
  {
   "cell_type": "code",
   "execution_count": null,
   "id": "57DaI2Vr_Sku",
   "metadata": {
    "id": "57DaI2Vr_Sku"
   },
   "outputs": [],
   "source": [
    "if args.predict_with_generate:\n",
    "    predictions = tokenizer.batch_decode(predict_results.predictions, skip_special_tokens=True, clean_up_tokenization_spaces=True)\n",
    "    predictions = [pred.strip() for pred in predictions]"
   ]
  },
  {
   "cell_type": "code",
   "execution_count": null,
   "id": "a1Mgm6nR_WEP",
   "metadata": {
    "colab": {
     "base_uri": "https://localhost:8080/"
    },
    "id": "a1Mgm6nR_WEP",
    "outputId": "9a417331-5d3a-4a67-9f67-5c8ca145b501"
   },
   "outputs": [
    {
     "name": "stdout",
     "output_type": "stream",
     "text": [
      "--------\n",
      "SP chief Akhilesh Yadav and BSP chief Mayawati announced the SP-BSP alliance by holding a joint press conference. Mayawati said that in the interest of the country we have kept the Lucknow Guest House scandal on the shore, we had also had a coalition, but due to some reasons we had to separate.\n",
      "---x---\n",
      "--------\n",
      "potential monument friends have been selected, they have been selected by the inspection and vision committee so that tourist facilities can be developed on heritage monuments.\n",
      "---x---\n",
      "--------\n",
      "the accused, who was working with Mohol Panchayat Samiti as an agricultural officer, was arrested on Wednesday when he was accepting a bribe from a person. police said that the complainant said that the complainantDattatre Bedge had contacted Balasaheb Bhikaji Babur to approve the proposal of his Agricultural Service Center.\n",
      "---x---\n",
      "--------\n",
      "a memorandum letter was signed between the two sides to set up a large food park in Telangana.\n",
      "---x---\n",
      "--------\n",
      "the budget has been passed amid increasing pressure from european leaders to curb the growing debt crisis in the euro sector. the rightists giving supported the budget, while in favor of the budget, while protesting against it, the caretaker Prime Minister Lucas Papademos had requested the MPs to support the budget.\n",
      "---x---\n",
      "--------\n",
      "the court will not get a copy of the SIT's closure report at present. the court said that the report is not fully appeared in the court with full papers, so this copy cannot be given to Zakia. earlier, the SIT had sought a month's time to keep all the documents related to the case, the SIT had said that when the court arranges to keep all the documents related to the case, then it will hand over all the documents related to the report to investigate the riots.\n",
      "---x---\n",
      "--------\n",
      "Pakistan's move a new Pakistan, a twitter user wrote that Pakistan has nothing but belly dancing to attract investors. the country's financial condition is very bad and it has to take help of countries like China UAE and Saudi Arabia.\n",
      "---x---\n",
      "--------\n",
      "the silver medal was won with the effort, PM Modi, sitting with Haryana Governor Captain Singh Solanki and Chief Minister Manohar Lal Khattar, descended from the stage and reached Deepa sitting on a wheelchair and honored them. Earlier, PM Modi said that the girls of Haryana have made India proud many times on the global platform, praising the state for improving the comments.\n",
      "---x---\n",
      "--------\n",
      "this handset of Xiaomi has been listed with important specification on the benchmark site before it is launched. the online listing would suggest not relying onand this grade will come up with Finnish, a video teaser of the new phone has also been released, which confirmed the watershed in the phone. the website has revealed that the score of the single core test got and the multi-core score is mentioned in April, the first information about it was given by Tech Blog as we told you first to upgrade in the market.\n",
      "---x---\n",
      "--------\n",
      "Rani Mukherjee's schedule in this desert state is an action packed for a full month in which she chases the villain of the film and tries to catch her, the queen shouts the day she shouts. at present, the temperature in Kota is more than the degree and soon it will cross the degree soon, we also see the shooting in the afternoon amidst the scorching sun in the summer of RajasthanDue to which the shooting schedule has become very difficult, in all the scenes, Rani\n",
      "---x---\n",
      "--------\n",
      "the thing that I found before the drive is the most interesting, this film made by the company before today, you have hardly seen such a film about the offoroding capacity of goats.\n",
      "---x---\n",
      "--------\n",
      "al Adel is determined to avenge the death of Osama bin Laden. the new kingpin of the international terrorist organization has resolved to hold a fierce attack on London. the administration was forced to tighten the security arrangements of the major establishments of the city here here.\n",
      "---x---\n",
      "--------\n",
      "Shahid Kapoor smoking cigarettes, looking at the teaser of this film, there is a chance in the teaser of this film when Shahid can be heard abusing Shahid Kapoor, Shahid can be heard. the teaser of this film has been released under the banner of T-Series, Shahid Kapoor's film Kabir Singh's film has been directed by Sandeep Reddy while this Bhushan Kumar Murad Khetani Krishna KumarAnd Ashwivan\n",
      "---x---\n",
      "--------\n",
      "study conducted on two lakh employees revealed that researchers say that employees who are under pressure during work are more likely to have a heart attack than people living under low pressure. if the person is always under stress, then he increases the possibility of a heart attack, even though similar conclusions were revealed in a study, but there was mutual opposition to some things, this fact was confirmed by the latest conclusion.\n",
      "---x---\n",
      "--------\n",
      "two members of the Bharatiya Janata Party in the Gujarat Assembly have seen pornographic photos and videos on an i-padAt present, no comments have been made on these allegations, according to the local media. the two BJP MLAs have been accused by the journalist Janakbhai Purohit, according to the local media, the local media. Chaudhary has filed these allegations as baseless and claimed that milk milk and water will get water after seeing the CCTV footage of the assembly\n",
      "---x---\n"
     ]
    }
   ],
   "source": [
    "for i in predictions:\n",
    "  print(\"--------\")\n",
    "  print(i)\n",
    "  print(\"---x---\")"
   ]
  },
  {
   "cell_type": "code",
   "execution_count": null,
   "id": "kU4-VtQP_jR9",
   "metadata": {
    "colab": {
     "base_uri": "https://localhost:8080/",
     "height": 36
    },
    "id": "kU4-VtQP_jR9",
    "outputId": "86478c7b-291d-4481-9239-d3603a0707fa"
   },
   "outputs": [
    {
     "data": {
      "application/vnd.google.colaboratory.intrinsic+json": {
       "type": "string"
      },
      "text/plain": [
       "'If a bitter boss continues to roam around in the office, then the risk of heart attack increases in a study conducted on two lakh employees.'"
      ]
     },
     "execution_count": 37,
     "metadata": {},
     "output_type": "execute_result"
    }
   ],
   "source": [
    "test['summary'][123]"
   ]
  },
  {
   "cell_type": "code",
   "execution_count": null,
   "id": "nxumguj9_4wH",
   "metadata": {
    "colab": {
     "base_uri": "https://localhost:8080/",
     "height": 88
    },
    "id": "nxumguj9_4wH",
    "outputId": "1bc47ff9-0698-4059-cc7f-5c1d516f0adc"
   },
   "outputs": [
    {
     "data": {
      "application/vnd.google.colaboratory.intrinsic+json": {
       "type": "string"
      },
      "text/plain": [
       "'study conducted on two lakh employees revealed that researchers say that employees who are under pressure during work are more likely to have a heart attack than people living under low pressure. if the person is always under stress, then he increases the possibility of a heart attack, even though similar conclusions were revealed in a study, but there was mutual opposition to some things, this fact was confirmed by the latest conclusion.'"
      ]
     },
     "execution_count": 34,
     "metadata": {},
     "output_type": "execute_result"
    }
   ],
   "source": [
    "predictions[-2]"
   ]
  }
 ],
 "metadata": {
  "accelerator": "GPU",
  "colab": {
   "provenance": []
  },
  "gpuClass": "standard",
  "kernelspec": {
   "display_name": "Python 3 (ipykernel)",
   "language": "python",
   "name": "python3"
  },
  "language_info": {
   "codemirror_mode": {
    "name": "ipython",
    "version": 3
   },
   "file_extension": ".py",
   "mimetype": "text/x-python",
   "name": "python",
   "nbconvert_exporter": "python",
   "pygments_lexer": "ipython3",
   "version": "3.9.13"
  },
  "widgets": {
   "application/vnd.jupyter.widget-state+json": {
    "0e89ab576e164ba5b09727bf455a7551": {
     "model_module": "@jupyter-widgets/base",
     "model_module_version": "1.2.0",
     "model_name": "LayoutModel",
     "state": {
      "_model_module": "@jupyter-widgets/base",
      "_model_module_version": "1.2.0",
      "_model_name": "LayoutModel",
      "_view_count": null,
      "_view_module": "@jupyter-widgets/base",
      "_view_module_version": "1.2.0",
      "_view_name": "LayoutView",
      "align_content": null,
      "align_items": null,
      "align_self": null,
      "border": null,
      "bottom": null,
      "display": null,
      "flex": null,
      "flex_flow": null,
      "grid_area": null,
      "grid_auto_columns": null,
      "grid_auto_flow": null,
      "grid_auto_rows": null,
      "grid_column": null,
      "grid_gap": null,
      "grid_row": null,
      "grid_template_areas": null,
      "grid_template_columns": null,
      "grid_template_rows": null,
      "height": null,
      "justify_content": null,
      "justify_items": null,
      "left": null,
      "margin": null,
      "max_height": null,
      "max_width": null,
      "min_height": null,
      "min_width": null,
      "object_fit": null,
      "object_position": null,
      "order": null,
      "overflow": null,
      "overflow_x": null,
      "overflow_y": null,
      "padding": null,
      "right": null,
      "top": null,
      "visibility": null,
      "width": null
     }
    },
    "18820d6837d045bc92630b7a1e637863": {
     "model_module": "@jupyter-widgets/controls",
     "model_module_version": "1.5.0",
     "model_name": "DescriptionStyleModel",
     "state": {
      "_model_module": "@jupyter-widgets/controls",
      "_model_module_version": "1.5.0",
      "_model_name": "DescriptionStyleModel",
      "_view_count": null,
      "_view_module": "@jupyter-widgets/base",
      "_view_module_version": "1.2.0",
      "_view_name": "StyleView",
      "description_width": ""
     }
    },
    "1b3fdfe998ab492d8e42f1e9ecf012fb": {
     "model_module": "@jupyter-widgets/base",
     "model_module_version": "1.2.0",
     "model_name": "LayoutModel",
     "state": {
      "_model_module": "@jupyter-widgets/base",
      "_model_module_version": "1.2.0",
      "_model_name": "LayoutModel",
      "_view_count": null,
      "_view_module": "@jupyter-widgets/base",
      "_view_module_version": "1.2.0",
      "_view_name": "LayoutView",
      "align_content": null,
      "align_items": null,
      "align_self": null,
      "border": null,
      "bottom": null,
      "display": null,
      "flex": null,
      "flex_flow": null,
      "grid_area": null,
      "grid_auto_columns": null,
      "grid_auto_flow": null,
      "grid_auto_rows": null,
      "grid_column": null,
      "grid_gap": null,
      "grid_row": null,
      "grid_template_areas": null,
      "grid_template_columns": null,
      "grid_template_rows": null,
      "height": null,
      "justify_content": null,
      "justify_items": null,
      "left": null,
      "margin": null,
      "max_height": null,
      "max_width": null,
      "min_height": null,
      "min_width": null,
      "object_fit": null,
      "object_position": null,
      "order": null,
      "overflow": null,
      "overflow_x": null,
      "overflow_y": null,
      "padding": null,
      "right": null,
      "top": null,
      "visibility": null,
      "width": null
     }
    },
    "241da38d4ef948df82c09fa17cb88082": {
     "model_module": "@jupyter-widgets/controls",
     "model_module_version": "1.5.0",
     "model_name": "FloatProgressModel",
     "state": {
      "_dom_classes": [],
      "_model_module": "@jupyter-widgets/controls",
      "_model_module_version": "1.5.0",
      "_model_name": "FloatProgressModel",
      "_view_count": null,
      "_view_module": "@jupyter-widgets/controls",
      "_view_module_version": "1.5.0",
      "_view_name": "ProgressView",
      "bar_style": "",
      "description": "",
      "description_tooltip": null,
      "layout": "IPY_MODEL_1b3fdfe998ab492d8e42f1e9ecf012fb",
      "max": 10,
      "min": 0,
      "orientation": "horizontal",
      "style": "IPY_MODEL_f9ff8fceb6af48be83bca087bc57ef47",
      "value": 10
     }
    },
    "36f8088d16d4403092cb61fbe74070cf": {
     "model_module": "@jupyter-widgets/base",
     "model_module_version": "1.2.0",
     "model_name": "LayoutModel",
     "state": {
      "_model_module": "@jupyter-widgets/base",
      "_model_module_version": "1.2.0",
      "_model_name": "LayoutModel",
      "_view_count": null,
      "_view_module": "@jupyter-widgets/base",
      "_view_module_version": "1.2.0",
      "_view_name": "LayoutView",
      "align_content": null,
      "align_items": null,
      "align_self": null,
      "border": null,
      "bottom": null,
      "display": null,
      "flex": null,
      "flex_flow": null,
      "grid_area": null,
      "grid_auto_columns": null,
      "grid_auto_flow": null,
      "grid_auto_rows": null,
      "grid_column": null,
      "grid_gap": null,
      "grid_row": null,
      "grid_template_areas": null,
      "grid_template_columns": null,
      "grid_template_rows": null,
      "height": null,
      "justify_content": null,
      "justify_items": null,
      "left": null,
      "margin": null,
      "max_height": null,
      "max_width": null,
      "min_height": null,
      "min_width": null,
      "object_fit": null,
      "object_position": null,
      "order": null,
      "overflow": null,
      "overflow_x": null,
      "overflow_y": null,
      "padding": null,
      "right": null,
      "top": null,
      "visibility": "hidden",
      "width": null
     }
    },
    "418825b698ba48a78e41f377b96e80aa": {
     "model_module": "@jupyter-widgets/base",
     "model_module_version": "1.2.0",
     "model_name": "LayoutModel",
     "state": {
      "_model_module": "@jupyter-widgets/base",
      "_model_module_version": "1.2.0",
      "_model_name": "LayoutModel",
      "_view_count": null,
      "_view_module": "@jupyter-widgets/base",
      "_view_module_version": "1.2.0",
      "_view_name": "LayoutView",
      "align_content": null,
      "align_items": null,
      "align_self": null,
      "border": null,
      "bottom": null,
      "display": null,
      "flex": null,
      "flex_flow": null,
      "grid_area": null,
      "grid_auto_columns": null,
      "grid_auto_flow": null,
      "grid_auto_rows": null,
      "grid_column": null,
      "grid_gap": null,
      "grid_row": null,
      "grid_template_areas": null,
      "grid_template_columns": null,
      "grid_template_rows": null,
      "height": null,
      "justify_content": null,
      "justify_items": null,
      "left": null,
      "margin": null,
      "max_height": null,
      "max_width": null,
      "min_height": null,
      "min_width": null,
      "object_fit": null,
      "object_position": null,
      "order": null,
      "overflow": null,
      "overflow_x": null,
      "overflow_y": null,
      "padding": null,
      "right": null,
      "top": null,
      "visibility": null,
      "width": null
     }
    },
    "453ecb975d41433da2c7ac27aaf517e4": {
     "model_module": "@jupyter-widgets/controls",
     "model_module_version": "1.5.0",
     "model_name": "HTMLModel",
     "state": {
      "_dom_classes": [],
      "_model_module": "@jupyter-widgets/controls",
      "_model_module_version": "1.5.0",
      "_model_name": "HTMLModel",
      "_view_count": null,
      "_view_module": "@jupyter-widgets/controls",
      "_view_module_version": "1.5.0",
      "_view_name": "HTMLView",
      "description": "",
      "description_tooltip": null,
      "layout": "IPY_MODEL_d10e64c3e6964fd38713b3c37244b327",
      "placeholder": "​",
      "style": "IPY_MODEL_6ecec3c47b7d4b6ebde849bec1230957",
      "value": " 100/100 [00:00&lt;00:00, 562.16 examples/s]"
     }
    },
    "47f3baba948e4d47b95e80ea29b231b3": {
     "model_module": "@jupyter-widgets/controls",
     "model_module_version": "1.5.0",
     "model_name": "DescriptionStyleModel",
     "state": {
      "_model_module": "@jupyter-widgets/controls",
      "_model_module_version": "1.5.0",
      "_model_name": "DescriptionStyleModel",
      "_view_count": null,
      "_view_module": "@jupyter-widgets/base",
      "_view_module_version": "1.2.0",
      "_view_name": "StyleView",
      "description_width": ""
     }
    },
    "4c0b03af456c43c1893af7c5009a401a": {
     "model_module": "@jupyter-widgets/base",
     "model_module_version": "1.2.0",
     "model_name": "LayoutModel",
     "state": {
      "_model_module": "@jupyter-widgets/base",
      "_model_module_version": "1.2.0",
      "_model_name": "LayoutModel",
      "_view_count": null,
      "_view_module": "@jupyter-widgets/base",
      "_view_module_version": "1.2.0",
      "_view_name": "LayoutView",
      "align_content": null,
      "align_items": null,
      "align_self": null,
      "border": null,
      "bottom": null,
      "display": null,
      "flex": null,
      "flex_flow": null,
      "grid_area": null,
      "grid_auto_columns": null,
      "grid_auto_flow": null,
      "grid_auto_rows": null,
      "grid_column": null,
      "grid_gap": null,
      "grid_row": null,
      "grid_template_areas": null,
      "grid_template_columns": null,
      "grid_template_rows": null,
      "height": null,
      "justify_content": null,
      "justify_items": null,
      "left": null,
      "margin": null,
      "max_height": null,
      "max_width": null,
      "min_height": null,
      "min_width": null,
      "object_fit": null,
      "object_position": null,
      "order": null,
      "overflow": null,
      "overflow_x": null,
      "overflow_y": null,
      "padding": null,
      "right": null,
      "top": null,
      "visibility": null,
      "width": null
     }
    },
    "507c84e798e44e42b8c66ebee47cded8": {
     "model_module": "@jupyter-widgets/controls",
     "model_module_version": "1.5.0",
     "model_name": "HTMLModel",
     "state": {
      "_dom_classes": [],
      "_model_module": "@jupyter-widgets/controls",
      "_model_module_version": "1.5.0",
      "_model_name": "HTMLModel",
      "_view_count": null,
      "_view_module": "@jupyter-widgets/controls",
      "_view_module_version": "1.5.0",
      "_view_name": "HTMLView",
      "description": "",
      "description_tooltip": null,
      "layout": "IPY_MODEL_f430344adc29463da9faa050b75e62d5",
      "placeholder": "​",
      "style": "IPY_MODEL_b076f0d87bf845bbb141d0ad59db2182",
      "value": "Map: 100%"
     }
    },
    "592b741c0240411aa91d10f38c4b07fe": {
     "model_module": "@jupyter-widgets/controls",
     "model_module_version": "1.5.0",
     "model_name": "ProgressStyleModel",
     "state": {
      "_model_module": "@jupyter-widgets/controls",
      "_model_module_version": "1.5.0",
      "_model_name": "ProgressStyleModel",
      "_view_count": null,
      "_view_module": "@jupyter-widgets/base",
      "_view_module_version": "1.2.0",
      "_view_name": "StyleView",
      "bar_color": null,
      "description_width": ""
     }
    },
    "69e3a170f58745b8bcb52f2e0415645b": {
     "model_module": "@jupyter-widgets/base",
     "model_module_version": "1.2.0",
     "model_name": "LayoutModel",
     "state": {
      "_model_module": "@jupyter-widgets/base",
      "_model_module_version": "1.2.0",
      "_model_name": "LayoutModel",
      "_view_count": null,
      "_view_module": "@jupyter-widgets/base",
      "_view_module_version": "1.2.0",
      "_view_name": "LayoutView",
      "align_content": null,
      "align_items": null,
      "align_self": null,
      "border": null,
      "bottom": null,
      "display": null,
      "flex": null,
      "flex_flow": null,
      "grid_area": null,
      "grid_auto_columns": null,
      "grid_auto_flow": null,
      "grid_auto_rows": null,
      "grid_column": null,
      "grid_gap": null,
      "grid_row": null,
      "grid_template_areas": null,
      "grid_template_columns": null,
      "grid_template_rows": null,
      "height": null,
      "justify_content": null,
      "justify_items": null,
      "left": null,
      "margin": null,
      "max_height": null,
      "max_width": null,
      "min_height": null,
      "min_width": null,
      "object_fit": null,
      "object_position": null,
      "order": null,
      "overflow": null,
      "overflow_x": null,
      "overflow_y": null,
      "padding": null,
      "right": null,
      "top": null,
      "visibility": null,
      "width": null
     }
    },
    "6b7927e4fbb34e92802a8a522405cd66": {
     "model_module": "@jupyter-widgets/controls",
     "model_module_version": "1.5.0",
     "model_name": "HTMLModel",
     "state": {
      "_dom_classes": [],
      "_model_module": "@jupyter-widgets/controls",
      "_model_module_version": "1.5.0",
      "_model_name": "HTMLModel",
      "_view_count": null,
      "_view_module": "@jupyter-widgets/controls",
      "_view_module_version": "1.5.0",
      "_view_name": "HTMLView",
      "description": "",
      "description_tooltip": null,
      "layout": "IPY_MODEL_418825b698ba48a78e41f377b96e80aa",
      "placeholder": "​",
      "style": "IPY_MODEL_f8de876bd9d74393ac8e374665512157",
      "value": " 0/15 [00:00&lt;?, ? examples/s]"
     }
    },
    "6ecec3c47b7d4b6ebde849bec1230957": {
     "model_module": "@jupyter-widgets/controls",
     "model_module_version": "1.5.0",
     "model_name": "DescriptionStyleModel",
     "state": {
      "_model_module": "@jupyter-widgets/controls",
      "_model_module_version": "1.5.0",
      "_model_name": "DescriptionStyleModel",
      "_view_count": null,
      "_view_module": "@jupyter-widgets/base",
      "_view_module_version": "1.2.0",
      "_view_name": "StyleView",
      "description_width": ""
     }
    },
    "7bef3a8d91834fe3981641c2a97f1642": {
     "model_module": "@jupyter-widgets/controls",
     "model_module_version": "1.5.0",
     "model_name": "FloatProgressModel",
     "state": {
      "_dom_classes": [],
      "_model_module": "@jupyter-widgets/controls",
      "_model_module_version": "1.5.0",
      "_model_name": "FloatProgressModel",
      "_view_count": null,
      "_view_module": "@jupyter-widgets/controls",
      "_view_module_version": "1.5.0",
      "_view_name": "ProgressView",
      "bar_style": "",
      "description": "",
      "description_tooltip": null,
      "layout": "IPY_MODEL_0e89ab576e164ba5b09727bf455a7551",
      "max": 15,
      "min": 0,
      "orientation": "horizontal",
      "style": "IPY_MODEL_fb3ddf62e7df4c0192b44b4f737a5bb5",
      "value": 15
     }
    },
    "8590aec1253f47ffbb1f8a67460e824e": {
     "model_module": "@jupyter-widgets/base",
     "model_module_version": "1.2.0",
     "model_name": "LayoutModel",
     "state": {
      "_model_module": "@jupyter-widgets/base",
      "_model_module_version": "1.2.0",
      "_model_name": "LayoutModel",
      "_view_count": null,
      "_view_module": "@jupyter-widgets/base",
      "_view_module_version": "1.2.0",
      "_view_name": "LayoutView",
      "align_content": null,
      "align_items": null,
      "align_self": null,
      "border": null,
      "bottom": null,
      "display": null,
      "flex": null,
      "flex_flow": null,
      "grid_area": null,
      "grid_auto_columns": null,
      "grid_auto_flow": null,
      "grid_auto_rows": null,
      "grid_column": null,
      "grid_gap": null,
      "grid_row": null,
      "grid_template_areas": null,
      "grid_template_columns": null,
      "grid_template_rows": null,
      "height": null,
      "justify_content": null,
      "justify_items": null,
      "left": null,
      "margin": null,
      "max_height": null,
      "max_width": null,
      "min_height": null,
      "min_width": null,
      "object_fit": null,
      "object_position": null,
      "order": null,
      "overflow": null,
      "overflow_x": null,
      "overflow_y": null,
      "padding": null,
      "right": null,
      "top": null,
      "visibility": "hidden",
      "width": null
     }
    },
    "8a7f255e8c6e4745bca9e577f61eb0a4": {
     "model_module": "@jupyter-widgets/controls",
     "model_module_version": "1.5.0",
     "model_name": "HTMLModel",
     "state": {
      "_dom_classes": [],
      "_model_module": "@jupyter-widgets/controls",
      "_model_module_version": "1.5.0",
      "_model_name": "HTMLModel",
      "_view_count": null,
      "_view_module": "@jupyter-widgets/controls",
      "_view_module_version": "1.5.0",
      "_view_name": "HTMLView",
      "description": "",
      "description_tooltip": null,
      "layout": "IPY_MODEL_9b0227ee28da4b1aa58c7ad78e21c64d",
      "placeholder": "​",
      "style": "IPY_MODEL_18820d6837d045bc92630b7a1e637863",
      "value": " 0/10 [00:00&lt;?, ? examples/s]"
     }
    },
    "908efc8b866d4e378f4eb8daf2478c8d": {
     "model_module": "@jupyter-widgets/base",
     "model_module_version": "1.2.0",
     "model_name": "LayoutModel",
     "state": {
      "_model_module": "@jupyter-widgets/base",
      "_model_module_version": "1.2.0",
      "_model_name": "LayoutModel",
      "_view_count": null,
      "_view_module": "@jupyter-widgets/base",
      "_view_module_version": "1.2.0",
      "_view_name": "LayoutView",
      "align_content": null,
      "align_items": null,
      "align_self": null,
      "border": null,
      "bottom": null,
      "display": null,
      "flex": null,
      "flex_flow": null,
      "grid_area": null,
      "grid_auto_columns": null,
      "grid_auto_flow": null,
      "grid_auto_rows": null,
      "grid_column": null,
      "grid_gap": null,
      "grid_row": null,
      "grid_template_areas": null,
      "grid_template_columns": null,
      "grid_template_rows": null,
      "height": null,
      "justify_content": null,
      "justify_items": null,
      "left": null,
      "margin": null,
      "max_height": null,
      "max_width": null,
      "min_height": null,
      "min_width": null,
      "object_fit": null,
      "object_position": null,
      "order": null,
      "overflow": null,
      "overflow_x": null,
      "overflow_y": null,
      "padding": null,
      "right": null,
      "top": null,
      "visibility": null,
      "width": null
     }
    },
    "94f86542e2a9497b95528abe20718c65": {
     "model_module": "@jupyter-widgets/controls",
     "model_module_version": "1.5.0",
     "model_name": "HTMLModel",
     "state": {
      "_dom_classes": [],
      "_model_module": "@jupyter-widgets/controls",
      "_model_module_version": "1.5.0",
      "_model_name": "HTMLModel",
      "_view_count": null,
      "_view_module": "@jupyter-widgets/controls",
      "_view_module_version": "1.5.0",
      "_view_name": "HTMLView",
      "description": "",
      "description_tooltip": null,
      "layout": "IPY_MODEL_69e3a170f58745b8bcb52f2e0415645b",
      "placeholder": "​",
      "style": "IPY_MODEL_9f5f5f2459e644dfbd15ce6135990f79",
      "value": "Map:   0%"
     }
    },
    "9b0227ee28da4b1aa58c7ad78e21c64d": {
     "model_module": "@jupyter-widgets/base",
     "model_module_version": "1.2.0",
     "model_name": "LayoutModel",
     "state": {
      "_model_module": "@jupyter-widgets/base",
      "_model_module_version": "1.2.0",
      "_model_name": "LayoutModel",
      "_view_count": null,
      "_view_module": "@jupyter-widgets/base",
      "_view_module_version": "1.2.0",
      "_view_name": "LayoutView",
      "align_content": null,
      "align_items": null,
      "align_self": null,
      "border": null,
      "bottom": null,
      "display": null,
      "flex": null,
      "flex_flow": null,
      "grid_area": null,
      "grid_auto_columns": null,
      "grid_auto_flow": null,
      "grid_auto_rows": null,
      "grid_column": null,
      "grid_gap": null,
      "grid_row": null,
      "grid_template_areas": null,
      "grid_template_columns": null,
      "grid_template_rows": null,
      "height": null,
      "justify_content": null,
      "justify_items": null,
      "left": null,
      "margin": null,
      "max_height": null,
      "max_width": null,
      "min_height": null,
      "min_width": null,
      "object_fit": null,
      "object_position": null,
      "order": null,
      "overflow": null,
      "overflow_x": null,
      "overflow_y": null,
      "padding": null,
      "right": null,
      "top": null,
      "visibility": null,
      "width": null
     }
    },
    "9dadccb2bd5f441492787c4cb22b83b2": {
     "model_module": "@jupyter-widgets/base",
     "model_module_version": "1.2.0",
     "model_name": "LayoutModel",
     "state": {
      "_model_module": "@jupyter-widgets/base",
      "_model_module_version": "1.2.0",
      "_model_name": "LayoutModel",
      "_view_count": null,
      "_view_module": "@jupyter-widgets/base",
      "_view_module_version": "1.2.0",
      "_view_name": "LayoutView",
      "align_content": null,
      "align_items": null,
      "align_self": null,
      "border": null,
      "bottom": null,
      "display": null,
      "flex": null,
      "flex_flow": null,
      "grid_area": null,
      "grid_auto_columns": null,
      "grid_auto_flow": null,
      "grid_auto_rows": null,
      "grid_column": null,
      "grid_gap": null,
      "grid_row": null,
      "grid_template_areas": null,
      "grid_template_columns": null,
      "grid_template_rows": null,
      "height": null,
      "justify_content": null,
      "justify_items": null,
      "left": null,
      "margin": null,
      "max_height": null,
      "max_width": null,
      "min_height": null,
      "min_width": null,
      "object_fit": null,
      "object_position": null,
      "order": null,
      "overflow": null,
      "overflow_x": null,
      "overflow_y": null,
      "padding": null,
      "right": null,
      "top": null,
      "visibility": "hidden",
      "width": null
     }
    },
    "9e4de325f6ed4dcb9c41684f9dc282c8": {
     "model_module": "@jupyter-widgets/controls",
     "model_module_version": "1.5.0",
     "model_name": "HBoxModel",
     "state": {
      "_dom_classes": [],
      "_model_module": "@jupyter-widgets/controls",
      "_model_module_version": "1.5.0",
      "_model_name": "HBoxModel",
      "_view_count": null,
      "_view_module": "@jupyter-widgets/controls",
      "_view_module_version": "1.5.0",
      "_view_name": "HBoxView",
      "box_style": "",
      "children": [
       "IPY_MODEL_c0ab60f8e13b444ba286d3307b5e7b4f",
       "IPY_MODEL_241da38d4ef948df82c09fa17cb88082",
       "IPY_MODEL_8a7f255e8c6e4745bca9e577f61eb0a4"
      ],
      "layout": "IPY_MODEL_9dadccb2bd5f441492787c4cb22b83b2"
     }
    },
    "9f5f5f2459e644dfbd15ce6135990f79": {
     "model_module": "@jupyter-widgets/controls",
     "model_module_version": "1.5.0",
     "model_name": "DescriptionStyleModel",
     "state": {
      "_model_module": "@jupyter-widgets/controls",
      "_model_module_version": "1.5.0",
      "_model_name": "DescriptionStyleModel",
      "_view_count": null,
      "_view_module": "@jupyter-widgets/base",
      "_view_module_version": "1.2.0",
      "_view_name": "StyleView",
      "description_width": ""
     }
    },
    "b076f0d87bf845bbb141d0ad59db2182": {
     "model_module": "@jupyter-widgets/controls",
     "model_module_version": "1.5.0",
     "model_name": "DescriptionStyleModel",
     "state": {
      "_model_module": "@jupyter-widgets/controls",
      "_model_module_version": "1.5.0",
      "_model_name": "DescriptionStyleModel",
      "_view_count": null,
      "_view_module": "@jupyter-widgets/base",
      "_view_module_version": "1.2.0",
      "_view_name": "StyleView",
      "description_width": ""
     }
    },
    "b4999d2164e34b969296ac6ddba46e3e": {
     "model_module": "@jupyter-widgets/controls",
     "model_module_version": "1.5.0",
     "model_name": "FloatProgressModel",
     "state": {
      "_dom_classes": [],
      "_model_module": "@jupyter-widgets/controls",
      "_model_module_version": "1.5.0",
      "_model_name": "FloatProgressModel",
      "_view_count": null,
      "_view_module": "@jupyter-widgets/controls",
      "_view_module_version": "1.5.0",
      "_view_name": "ProgressView",
      "bar_style": "",
      "description": "",
      "description_tooltip": null,
      "layout": "IPY_MODEL_4c0b03af456c43c1893af7c5009a401a",
      "max": 100,
      "min": 0,
      "orientation": "horizontal",
      "style": "IPY_MODEL_592b741c0240411aa91d10f38c4b07fe",
      "value": 100
     }
    },
    "c0ab60f8e13b444ba286d3307b5e7b4f": {
     "model_module": "@jupyter-widgets/controls",
     "model_module_version": "1.5.0",
     "model_name": "HTMLModel",
     "state": {
      "_dom_classes": [],
      "_model_module": "@jupyter-widgets/controls",
      "_model_module_version": "1.5.0",
      "_model_name": "HTMLModel",
      "_view_count": null,
      "_view_module": "@jupyter-widgets/controls",
      "_view_module_version": "1.5.0",
      "_view_name": "HTMLView",
      "description": "",
      "description_tooltip": null,
      "layout": "IPY_MODEL_908efc8b866d4e378f4eb8daf2478c8d",
      "placeholder": "​",
      "style": "IPY_MODEL_47f3baba948e4d47b95e80ea29b231b3",
      "value": "Map:   0%"
     }
    },
    "d10e64c3e6964fd38713b3c37244b327": {
     "model_module": "@jupyter-widgets/base",
     "model_module_version": "1.2.0",
     "model_name": "LayoutModel",
     "state": {
      "_model_module": "@jupyter-widgets/base",
      "_model_module_version": "1.2.0",
      "_model_name": "LayoutModel",
      "_view_count": null,
      "_view_module": "@jupyter-widgets/base",
      "_view_module_version": "1.2.0",
      "_view_name": "LayoutView",
      "align_content": null,
      "align_items": null,
      "align_self": null,
      "border": null,
      "bottom": null,
      "display": null,
      "flex": null,
      "flex_flow": null,
      "grid_area": null,
      "grid_auto_columns": null,
      "grid_auto_flow": null,
      "grid_auto_rows": null,
      "grid_column": null,
      "grid_gap": null,
      "grid_row": null,
      "grid_template_areas": null,
      "grid_template_columns": null,
      "grid_template_rows": null,
      "height": null,
      "justify_content": null,
      "justify_items": null,
      "left": null,
      "margin": null,
      "max_height": null,
      "max_width": null,
      "min_height": null,
      "min_width": null,
      "object_fit": null,
      "object_position": null,
      "order": null,
      "overflow": null,
      "overflow_x": null,
      "overflow_y": null,
      "padding": null,
      "right": null,
      "top": null,
      "visibility": null,
      "width": null
     }
    },
    "d6b4baddf6a34669baa77f81022c10f4": {
     "model_module": "@jupyter-widgets/controls",
     "model_module_version": "1.5.0",
     "model_name": "HBoxModel",
     "state": {
      "_dom_classes": [],
      "_model_module": "@jupyter-widgets/controls",
      "_model_module_version": "1.5.0",
      "_model_name": "HBoxModel",
      "_view_count": null,
      "_view_module": "@jupyter-widgets/controls",
      "_view_module_version": "1.5.0",
      "_view_name": "HBoxView",
      "box_style": "",
      "children": [
       "IPY_MODEL_507c84e798e44e42b8c66ebee47cded8",
       "IPY_MODEL_b4999d2164e34b969296ac6ddba46e3e",
       "IPY_MODEL_453ecb975d41433da2c7ac27aaf517e4"
      ],
      "layout": "IPY_MODEL_36f8088d16d4403092cb61fbe74070cf"
     }
    },
    "ed86fb30ac674f1ea2a3dbdb19024829": {
     "model_module": "@jupyter-widgets/controls",
     "model_module_version": "1.5.0",
     "model_name": "HBoxModel",
     "state": {
      "_dom_classes": [],
      "_model_module": "@jupyter-widgets/controls",
      "_model_module_version": "1.5.0",
      "_model_name": "HBoxModel",
      "_view_count": null,
      "_view_module": "@jupyter-widgets/controls",
      "_view_module_version": "1.5.0",
      "_view_name": "HBoxView",
      "box_style": "",
      "children": [
       "IPY_MODEL_94f86542e2a9497b95528abe20718c65",
       "IPY_MODEL_7bef3a8d91834fe3981641c2a97f1642",
       "IPY_MODEL_6b7927e4fbb34e92802a8a522405cd66"
      ],
      "layout": "IPY_MODEL_8590aec1253f47ffbb1f8a67460e824e"
     }
    },
    "f430344adc29463da9faa050b75e62d5": {
     "model_module": "@jupyter-widgets/base",
     "model_module_version": "1.2.0",
     "model_name": "LayoutModel",
     "state": {
      "_model_module": "@jupyter-widgets/base",
      "_model_module_version": "1.2.0",
      "_model_name": "LayoutModel",
      "_view_count": null,
      "_view_module": "@jupyter-widgets/base",
      "_view_module_version": "1.2.0",
      "_view_name": "LayoutView",
      "align_content": null,
      "align_items": null,
      "align_self": null,
      "border": null,
      "bottom": null,
      "display": null,
      "flex": null,
      "flex_flow": null,
      "grid_area": null,
      "grid_auto_columns": null,
      "grid_auto_flow": null,
      "grid_auto_rows": null,
      "grid_column": null,
      "grid_gap": null,
      "grid_row": null,
      "grid_template_areas": null,
      "grid_template_columns": null,
      "grid_template_rows": null,
      "height": null,
      "justify_content": null,
      "justify_items": null,
      "left": null,
      "margin": null,
      "max_height": null,
      "max_width": null,
      "min_height": null,
      "min_width": null,
      "object_fit": null,
      "object_position": null,
      "order": null,
      "overflow": null,
      "overflow_x": null,
      "overflow_y": null,
      "padding": null,
      "right": null,
      "top": null,
      "visibility": null,
      "width": null
     }
    },
    "f8de876bd9d74393ac8e374665512157": {
     "model_module": "@jupyter-widgets/controls",
     "model_module_version": "1.5.0",
     "model_name": "DescriptionStyleModel",
     "state": {
      "_model_module": "@jupyter-widgets/controls",
      "_model_module_version": "1.5.0",
      "_model_name": "DescriptionStyleModel",
      "_view_count": null,
      "_view_module": "@jupyter-widgets/base",
      "_view_module_version": "1.2.0",
      "_view_name": "StyleView",
      "description_width": ""
     }
    },
    "f9ff8fceb6af48be83bca087bc57ef47": {
     "model_module": "@jupyter-widgets/controls",
     "model_module_version": "1.5.0",
     "model_name": "ProgressStyleModel",
     "state": {
      "_model_module": "@jupyter-widgets/controls",
      "_model_module_version": "1.5.0",
      "_model_name": "ProgressStyleModel",
      "_view_count": null,
      "_view_module": "@jupyter-widgets/base",
      "_view_module_version": "1.2.0",
      "_view_name": "StyleView",
      "bar_color": null,
      "description_width": ""
     }
    },
    "fb3ddf62e7df4c0192b44b4f737a5bb5": {
     "model_module": "@jupyter-widgets/controls",
     "model_module_version": "1.5.0",
     "model_name": "ProgressStyleModel",
     "state": {
      "_model_module": "@jupyter-widgets/controls",
      "_model_module_version": "1.5.0",
      "_model_name": "ProgressStyleModel",
      "_view_count": null,
      "_view_module": "@jupyter-widgets/base",
      "_view_module_version": "1.2.0",
      "_view_name": "StyleView",
      "bar_color": null,
      "description_width": ""
     }
    }
   }
  }
 },
 "nbformat": 4,
 "nbformat_minor": 5
}
