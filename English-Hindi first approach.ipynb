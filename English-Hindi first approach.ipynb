{
 "cells": [
  {
   "cell_type": "code",
   "execution_count": 31,
   "id": "c79a0796",
   "metadata": {},
   "outputs": [
    {
     "name": "stdout",
     "output_type": "stream",
     "text": [
      "4.0.0-rc.1\n"
     ]
    }
   ],
   "source": [
    "import googletrans\n",
    "print(googletrans.__version__)\n"
   ]
  },
  {
   "cell_type": "code",
   "execution_count": 32,
   "id": "1f70be2c",
   "metadata": {},
   "outputs": [],
   "source": [
    "from googletrans import Translator\n",
    "translator=Translator()"
   ]
  },
  {
   "cell_type": "code",
   "execution_count": 33,
   "id": "ffe17f00",
   "metadata": {},
   "outputs": [],
   "source": [
    "text=\"\"\"भारत देश एक बहुत ही समृद्ध और विविधताओं से भरा हुआ देश है। इस देश की भाषा हिंदी है जो एक मध्य पूर्वी भाषा है। हिंदी भाषा दुनिया भर में बोली जाती है और यह देश की राजभाषा भी है। इस भाषा में बहुत सारे शब्द होते हैं जो अन्य भाषाओं से भिन्न होते हैं। हिंदी भाषा के विकास में अलग-अलग समूहों द्वारा कार्य किए गए हैं।\n",
    "\n",
    "हिंदी भाषा का उत्पत्ति का इतिहास बहुत पुराना है। इस भाषा के उत्पत्ति का संबंध संस्कृत भाषा से है। संस्कृत भाषा भारत की सबसे पुरानी भाषा है जो लोगों द्वारा अभ्यास की जाने वाली प्राचीनतम भाषाओं में से एक है। हिंदी भाषा का उत्पत्ति संस्कृत भाषा से हुआ है जिसमें संस्कृत भाषा के शब्दों को हिंदी में उपयोग किया जाता है।\n",
    "\n",
    "हिंदी भाषा के विकास में भारत के विभिन्न हिस्सों के भाषाएं भी एक महत्वपूर्ण भूमिका निभाती हैं। हिंदी भाषा का विकास भारत के विभिन्न हिस्सों में अलग-अलग रू\"\"\""
   ]
  },
  {
   "cell_type": "code",
   "execution_count": 34,
   "id": "710c1073",
   "metadata": {},
   "outputs": [],
   "source": [
    "out=translator.translate(text,dest='en')"
   ]
  },
  {
   "cell_type": "code",
   "execution_count": 24,
   "id": "cdbc232f",
   "metadata": {},
   "outputs": [
    {
     "name": "stdout",
     "output_type": "stream",
     "text": [
      "The country of India is a very rich and full of diversity.The language of this country is Hindi which is a Middle Eastern language.Hindi language is spoken worldwide and it is also the official language of the country.There are many words in this language which are different from other languages.Work has been done by different groups in the development of Hindi language.\n",
      "\n",
      "The history of the origin of Hindi language is very old.The origin of this language is related to Sanskrit language.Sanskrit language is the oldest language in India which is one of the oldest languages practiced by people.Hindi language originated from Sanskrit language in which Sanskrit language words are used in Hindi.\n",
      "\n",
      "The languages of different parts of India also play an important role in the development of Hindi language.Development of Hindi language is different in different parts of India\n"
     ]
    }
   ],
   "source": [
    "print(out.text)"
   ]
  },
  {
   "cell_type": "code",
   "execution_count": 25,
   "id": "5a5e36a8",
   "metadata": {},
   "outputs": [
    {
     "name": "stderr",
     "output_type": "stream",
     "text": [
      "[nltk_data] Downloading package punkt to\n",
      "[nltk_data]     C:\\Users\\Acer\\AppData\\Roaming\\nltk_data...\n",
      "[nltk_data]   Package punkt is already up-to-date!\n"
     ]
    },
    {
     "data": {
      "text/plain": [
       "True"
      ]
     },
     "execution_count": 25,
     "metadata": {},
     "output_type": "execute_result"
    }
   ],
   "source": [
    "from transformers import pipeline,set_seed,AutoModelForSeq2SeqLM,AutoTokenizer\n",
    "import matplotlib.pyplot as plt\n",
    "import pandas as pd\n",
    "from datasets import load_dataset,load_metric\n",
    "\n",
    "import nltk\n",
    "from nltk.tokenize import sent_tokenize\n",
    "\n",
    "nltk.download('punkt')"
   ]
  },
  {
   "cell_type": "code",
   "execution_count": 28,
   "id": "908d70ca",
   "metadata": {},
   "outputs": [
    {
     "name": "stderr",
     "output_type": "stream",
     "text": [
      "Your max_length is set to 200, but you input_length is only 182. You might consider decreasing max_length manually, e.g. summarizer('...', max_length=91)\n"
     ]
    }
   ],
   "source": [
    "pipe=pipeline('summarization',model='t5-small')\n",
    "\n",
    "pipe_out=pipe(out.text)"
   ]
  },
  {
   "cell_type": "code",
   "execution_count": 29,
   "id": "b5bd50bc",
   "metadata": {},
   "outputs": [
    {
     "data": {
      "text/plain": [
       "[{'summary_text': 'the language of this country is Hindi which is spoken worldwide and it is also the official language of the country . the origin of this language is related to Sanskrit language .'}]"
      ]
     },
     "execution_count": 29,
     "metadata": {},
     "output_type": "execute_result"
    }
   ],
   "source": [
    "pipe_out"
   ]
  },
  {
   "cell_type": "code",
   "execution_count": 35,
   "id": "2f0ad92c",
   "metadata": {},
   "outputs": [],
   "source": [
    "pipe=pipeline('summarization',model='google/pegasus-cnn_dailymail')\n",
    "pipe_out=pipe(out.text)"
   ]
  },
  {
   "cell_type": "code",
   "execution_count": 38,
   "id": "a857e7b1",
   "metadata": {},
   "outputs": [
    {
     "data": {
      "text/plain": [
       "[{'summary_text': 'The history of the origin of Hindi language is very old .<n>The origin of this language is related to Sanskrit language .<n>The languages of different parts of India also play an important role in the development of Hindi language .'}]"
      ]
     },
     "execution_count": 38,
     "metadata": {},
     "output_type": "execute_result"
    }
   ],
   "source": [
    "pipe_out"
   ]
  },
  {
   "cell_type": "code",
   "execution_count": 39,
   "id": "6d7d4671",
   "metadata": {},
   "outputs": [
    {
     "data": {
      "text/plain": [
       "'The history of the origin of Hindi language is very old .<n>The origin of this language is related to Sanskrit language .<n>The languages of different parts of India also play an important role in the development of Hindi language .'"
      ]
     },
     "execution_count": 39,
     "metadata": {},
     "output_type": "execute_result"
    }
   ],
   "source": [
    "pipe_out[0]['summary_text']"
   ]
  },
  {
   "cell_type": "code",
   "execution_count": 40,
   "id": "6d65cba9",
   "metadata": {},
   "outputs": [],
   "source": [
    "out=translator.translate(pipe_out[0]['summary_text'],dest='hi')"
   ]
  },
  {
   "cell_type": "code",
   "execution_count": 42,
   "id": "dc3e400e",
   "metadata": {},
   "outputs": [
    {
     "name": "stdout",
     "output_type": "stream",
     "text": [
      "हिंदी भाषा की उत्पत्ति का इतिहास बहुत पुराना है। <n> इस भाषा की उत्पत्ति संस्कृत भाषा से संबंधित है। <n> भारत के विभिन्न हिस्सों की भाषाएं भी हिंदी भाषा के विकास में एक महत्वपूर्ण भूमिका निभाती हैं।\n"
     ]
    }
   ],
   "source": [
    "print(out.text)"
   ]
  }
 ],
 "metadata": {
  "kernelspec": {
   "display_name": "Python 3 (ipykernel)",
   "language": "python",
   "name": "python3"
  },
  "language_info": {
   "codemirror_mode": {
    "name": "ipython",
    "version": 3
   },
   "file_extension": ".py",
   "mimetype": "text/x-python",
   "name": "python",
   "nbconvert_exporter": "python",
   "pygments_lexer": "ipython3",
   "version": "3.9.13"
  }
 },
 "nbformat": 4,
 "nbformat_minor": 5
}
